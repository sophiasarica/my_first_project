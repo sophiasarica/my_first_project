{
  "nbformat": 4,
  "nbformat_minor": 0,
  "metadata": {
    "colab": {
      "name": "Sophia Sarica.ipynb",
      "provenance": [],
      "collapsed_sections": []
    },
    "kernelspec": {
      "display_name": "Python 3",
      "name": "python3"
    },
    "language_info": {
      "name": "python"
    }
  },
  "cells": [
    {
      "cell_type": "markdown",
      "metadata": {
        "id": "97vNvxk27Rib"
      },
      "source": [
        "\n",
        "\n",
        "# Fall21-DATA601-HW-3\n",
        "\n",
        "Due Date: 11/07/2021 (Sunday) by 23:59 pm \n"
      ]
    },
    {
      "cell_type": "markdown",
      "metadata": {
        "id": "epvo8_9M8EQh"
      },
      "source": [
        "[Google Form to submit your work](https://forms.gle/p6XstTNSrX1zJWCV6)"
      ]
    },
    {
      "cell_type": "markdown",
      "metadata": {
        "id": "6pSnSBrffIlR"
      },
      "source": [
        "## Dataset Resources\n",
        "\n",
        "[Vehicle Crashes](https://opendata.maryland.gov/Public-Safety/Maryland-Statewide-Vehicle-Crashes/65du-s3qu)\n",
        "\n",
        "[Personal Details](https://opendata.maryland.gov/Public-Safety/Maryland-Statewide-Vehicle-Crashes-Person-Details-/py4c-dicf)\n",
        "\n",
        "[Vehicle Details](https://opendata.maryland.gov/Public-Safety/Maryland-Statewide-Vehicle-Crashes-Vehicle-Details/mhft-5t5y)"
      ]
    },
    {
      "cell_type": "markdown",
      "metadata": {
        "id": "nlW9Q6NomIoA"
      },
      "source": [
        "## Set-up"
      ]
    },
    {
      "cell_type": "code",
      "metadata": {
        "id": "9iUXmnA4O3jI"
      },
      "source": [
        "from zipfile import ZipFile\n",
        "\n",
        "import pandas as pd"
      ],
      "execution_count": null,
      "outputs": []
    },
    {
      "cell_type": "code",
      "metadata": {
        "colab": {
          "base_uri": "https://localhost:8080/"
        },
        "id": "6ei8zESMpzId",
        "outputId": "1f5a59de-7206-467b-a5e1-45e5456c204e"
      },
      "source": [
        "## Don't change anything here\n",
        "## Make sure that you run this code.\n",
        "\n",
        "!wget https://github.com/mguner/teaching/raw/main/datasets/MD_Crashes/Archive.zip\n",
        "\n",
        "!wget https://raw.githubusercontent.com/mguner/teaching/main/datasets/Encodings/turkish_names.csv"
      ],
      "execution_count": null,
      "outputs": [
        {
          "output_type": "stream",
          "name": "stdout",
          "text": [
            "--2021-10-30 06:38:07--  https://github.com/mguner/teaching/raw/main/datasets/MD_Crashes/Archive.zip\n",
            "Resolving github.com (github.com)... 140.82.121.4\n",
            "Connecting to github.com (github.com)|140.82.121.4|:443... connected.\n",
            "HTTP request sent, awaiting response... 302 Found\n",
            "Location: https://raw.githubusercontent.com/mguner/teaching/main/datasets/MD_Crashes/Archive.zip [following]\n",
            "--2021-10-30 06:38:07--  https://raw.githubusercontent.com/mguner/teaching/main/datasets/MD_Crashes/Archive.zip\n",
            "Resolving raw.githubusercontent.com (raw.githubusercontent.com)... 185.199.108.133, 185.199.109.133, 185.199.110.133, ...\n",
            "Connecting to raw.githubusercontent.com (raw.githubusercontent.com)|185.199.108.133|:443... connected.\n",
            "HTTP request sent, awaiting response... 200 OK\n",
            "Length: 51797738 (49M) [application/zip]\n",
            "Saving to: ‘Archive.zip’\n",
            "\n",
            "Archive.zip         100%[===================>]  49.40M   173MB/s    in 0.3s    \n",
            "\n",
            "2021-10-30 06:38:09 (173 MB/s) - ‘Archive.zip’ saved [51797738/51797738]\n",
            "\n",
            "--2021-10-30 06:38:09--  https://raw.githubusercontent.com/mguner/teaching/main/datasets/Encodings/turkish_names.csv\n",
            "Resolving raw.githubusercontent.com (raw.githubusercontent.com)... 185.199.108.133, 185.199.109.133, 185.199.110.133, ...\n",
            "Connecting to raw.githubusercontent.com (raw.githubusercontent.com)|185.199.108.133|:443... connected.\n",
            "HTTP request sent, awaiting response... 200 OK\n",
            "Length: 71 [text/plain]\n",
            "Saving to: ‘turkish_names.csv’\n",
            "\n",
            "turkish_names.csv   100%[===================>]      71  --.-KB/s    in 0s      \n",
            "\n",
            "2021-10-30 06:38:09 (7.20 MB/s) - ‘turkish_names.csv’ saved [71/71]\n",
            "\n"
          ]
        }
      ]
    },
    {
      "cell_type": "markdown",
      "metadata": {
        "id": "Dx7U_RLe-F11"
      },
      "source": [
        "# New Section"
      ]
    },
    {
      "cell_type": "markdown",
      "metadata": {
        "id": "qN9FYlVNbCZJ"
      },
      "source": [
        "__Note!!__ When you refresh the files then the file structure should look like below."
      ]
    },
    {
      "cell_type": "markdown",
      "metadata": {
        "id": "6PSiLI8ya_RQ"
      },
      "source": [
        "![Screen Shot 2021-10-30 at 12.18.27 AM.png](data:image/png;base64,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)"
      ]
    },
    {
      "cell_type": "markdown",
      "metadata": {
        "id": "U6wwYH4O_TZ9"
      },
      "source": [
        ""
      ]
    },
    {
      "cell_type": "markdown",
      "metadata": {
        "id": "MFy40z8SPeGF"
      },
      "source": [
        "# Problem-1 (10 pts)\n",
        "\n",
        "Use zipfile module to extract the files from 'Archive.zip' into a folder with the name 'data'. Result should look like below."
      ]
    },
    {
      "cell_type": "markdown",
      "metadata": {
        "id": "5LuMKGCOQBj7"
      },
      "source": [
        "![Screen Shot 2021-10-29 at 11.30.52 PM.png](data:image/png;base64,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)"
      ]
    },
    {
      "cell_type": "markdown",
      "metadata": {
        "id": "ymSzDQS4QHwP"
      },
      "source": [
        "__Note:__ If you cannot solve this problem you can ask for the answer with a penalty of 10 pts."
      ]
    },
    {
      "cell_type": "code",
      "metadata": {
        "id": "CtT0Z_t2QVY4"
      },
      "source": [
        "## Your Answer \n",
        "\n",
        "# Create a ZipFile Object and load sample.zip in it\n",
        "with ZipFile('Archive.zip', 'r') as zipObj:\n",
        "# Extract all the contents of zip file in different directory\n",
        "  zipObj.extractall('data')"
      ],
      "execution_count": null,
      "outputs": []
    },
    {
      "cell_type": "markdown",
      "metadata": {
        "id": "jPV0czadp7z6"
      },
      "source": [
        "# Problem-2 (10 pts)"
      ]
    },
    {
      "cell_type": "markdown",
      "metadata": {
        "id": "Jyku0rnaWHAo"
      },
      "source": [
        "Read the csv file 'turkish_names.csv' using pandas.\n",
        "\n",
        "Note that initally you might get an error. Use a library that we covered in the class to get around the error.\n",
        "\n",
        "Final result should look like below."
      ]
    },
    {
      "cell_type": "markdown",
      "metadata": {
        "id": "T9MfYTo5alQm"
      },
      "source": [
        "![Screen Shot 2021-10-30 at 12.17.00 AM.png](data:image/png;base64,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)"
      ]
    },
    {
      "cell_type": "code",
      "metadata": {
        "id": "5S0_i_0RZ6Ds",
        "colab": {
          "base_uri": "https://localhost:8080/",
          "height": 192
        },
        "outputId": "afa5cfe9-9bf2-4486-c335-e18cf975a04b"
      },
      "source": [
        "## Your Answer \n",
        "\n",
        "import chardet \n",
        "#pd.read_csv('turkish_names.csv')\n",
        "\n",
        "with open(\"/content/turkish_names.csv\", 'rb') as rawdata:\n",
        "    result = chardet.detect(rawdata.read(50000))\n",
        "\n",
        "# check what the character encoding might be\n",
        "print(result)\n",
        "\n",
        "pd.read_csv('turkish_names.csv', encoding= 'ISO-8859-1')\n"
      ],
      "execution_count": null,
      "outputs": [
        {
          "output_type": "stream",
          "name": "stdout",
          "text": [
            "{'encoding': 'ISO-8859-1', 'confidence': 0.73, 'language': ''}\n"
          ]
        },
        {
          "output_type": "execute_result",
          "data": {
            "text/html": [
              "<div>\n",
              "<style scoped>\n",
              "    .dataframe tbody tr th:only-of-type {\n",
              "        vertical-align: middle;\n",
              "    }\n",
              "\n",
              "    .dataframe tbody tr th {\n",
              "        vertical-align: top;\n",
              "    }\n",
              "\n",
              "    .dataframe thead th {\n",
              "        text-align: right;\n",
              "    }\n",
              "</style>\n",
              "<table border=\"1\" class=\"dataframe\">\n",
              "  <thead>\n",
              "    <tr style=\"text-align: right;\">\n",
              "      <th></th>\n",
              "      <th>Last name</th>\n",
              "      <th>First name</th>\n",
              "    </tr>\n",
              "  </thead>\n",
              "  <tbody>\n",
              "    <tr>\n",
              "      <th>0</th>\n",
              "      <td>Güner</td>\n",
              "      <td>Murat</td>\n",
              "    </tr>\n",
              "    <tr>\n",
              "      <th>1</th>\n",
              "      <td>Çimen</td>\n",
              "      <td>Ömer</td>\n",
              "    </tr>\n",
              "    <tr>\n",
              "      <th>2</th>\n",
              "      <td>Limon</td>\n",
              "      <td>Güner</td>\n",
              "    </tr>\n",
              "    <tr>\n",
              "      <th>3</th>\n",
              "      <td>Bekçi</td>\n",
              "      <td>Sami</td>\n",
              "    </tr>\n",
              "  </tbody>\n",
              "</table>\n",
              "</div>"
            ],
            "text/plain": [
              "  Last name First name\n",
              "0     Güner      Murat\n",
              "1     Çimen       Ömer\n",
              "2     Limon      Güner\n",
              "3     Bekçi       Sami"
            ]
          },
          "metadata": {},
          "execution_count": 87
        }
      ]
    },
    {
      "cell_type": "markdown",
      "metadata": {
        "id": "Bis51Z1FWRet"
      },
      "source": [
        "# Problem-3 (10 pts)"
      ]
    },
    {
      "cell_type": "code",
      "metadata": {
        "colab": {
          "base_uri": "https://localhost:8080/"
        },
        "id": "wdJvWEgMXfcB",
        "outputId": "27c1293e-5070-4e63-e06c-ebf9e391bd3f"
      },
      "source": [
        "## don't change anything in this cell\n",
        "## make sure that you run this cell\n",
        "people = pd.read_csv('data/MD_Statewide_Vehicle_Crashes_20-21_Anonymized_Person_Details.csv', index_col = 0)\n",
        "\n",
        "vehicles = pd.read_csv('data/MD_Statewide_Vehicle_Crashes_20-21_Vehicle_Details.csv', index_col = 0)\n",
        "\n",
        "crashes = pd.read_csv('data/MS_Statewide_Vehicle_Crashes_20.csv', index_col = 0)"
      ],
      "execution_count": null,
      "outputs": [
        {
          "output_type": "stream",
          "name": "stderr",
          "text": [
            "/usr/local/lib/python3.7/dist-packages/IPython/core/interactiveshell.py:2718: DtypeWarning: Columns (35) have mixed types.Specify dtype option on import or set low_memory=False.\n",
            "  interactivity=interactivity, compiler=compiler, result=result)\n"
          ]
        }
      ]
    },
    {
      "cell_type": "markdown",
      "metadata": {
        "id": "gvttDUjtqHwC"
      },
      "source": [
        "Note that in 'crashes' data there is a 'COLLISION_TYPE_DESC' column that records the type of the collision. \n",
        "\n",
        "- Show the collision types and their counts.\n",
        "- Don't forget to count 'NaN' values too!"
      ]
    },
    {
      "cell_type": "code",
      "metadata": {
        "id": "gh0cmVTWduuE",
        "colab": {
          "base_uri": "https://localhost:8080/"
        },
        "outputId": "510922cb-9816-4be4-86d3-74e4364e8d0a"
      },
      "source": [
        "## Your Answer\n",
        "\n",
        "#crashes.head(10)\n",
        "crashes.COLLISION_TYPE_DESC.value_counts(dropna = False)"
      ],
      "execution_count": null,
      "outputs": [
        {
          "output_type": "execute_result",
          "data": {
            "text/plain": [
              "Single Vehicle                        36277\n",
              "Same Direction Rear End               32406\n",
              "Other                                 20343\n",
              "Same Movement Angle                   18514\n",
              "Same Direction Sideswipe              11050\n",
              "Head On Left Turn                      5867\n",
              "Head On                                3603\n",
              "Unknown                                3159\n",
              "Same Direction Left Turn               3081\n",
              "Same Direction Right Turn              3015\n",
              "Opposite Direction Sideswipe           1837\n",
              "Not Applicable                         1354\n",
              "Angle Meets Left Turn                   751\n",
              "Same Direction Rear End Left Turn       702\n",
              "Angle Meets Right Turn                  555\n",
              "Same Direction Rear End Right Turn      520\n",
              "Same Direction Both Left Turn           508\n",
              "Angle Meets Left Turn Head On           398\n",
              "Opposite Direction Both Left Turn       273\n",
              "Name: COLLISION_TYPE_DESC, dtype: int64"
            ]
          },
          "metadata": {},
          "execution_count": 43
        }
      ]
    },
    {
      "cell_type": "markdown",
      "metadata": {
        "id": "LAP8al_ChDVY"
      },
      "source": [
        "# Problem-4 (10 pts)"
      ]
    },
    {
      "cell_type": "markdown",
      "metadata": {
        "id": "GiSbEgarhKxs"
      },
      "source": [
        "What is the three most common collision type ('COLLISION_TYPE_DESC') and weather type ('WEATHER_DESC') combination? "
      ]
    },
    {
      "cell_type": "code",
      "metadata": {
        "id": "O9-_gaf3hmQ8",
        "colab": {
          "base_uri": "https://localhost:8080/"
        },
        "outputId": "857e16bf-635d-42bc-b34a-361af341aba5"
      },
      "source": [
        "## Your Answer\n",
        "\n",
        "#crashes.head(10)\n",
        "#crashes.WEATHER_DESC.value_counts(dropna= False)\n",
        "\n",
        "crashes.groupby(['COLLISION_TYPE_DESC', 'WEATHER_DESC']).size().sort_values(ascending=False)[:3]\n",
        "#crashes.groupby(['COLLISION_TYPE_DESC', 'WEATHER_DESC']).size()"
      ],
      "execution_count": null,
      "outputs": [
        {
          "output_type": "execute_result",
          "data": {
            "text/plain": [
              "COLLISION_TYPE_DESC      WEATHER_DESC  \n",
              "Single Vehicle           Raining           7144\n",
              "Same Direction Rear End  Raining           3864\n",
              "                         Not Applicable    2830\n",
              "dtype: int64"
            ]
          },
          "metadata": {},
          "execution_count": 89
        }
      ]
    },
    {
      "cell_type": "markdown",
      "metadata": {
        "id": "WK0vbBT8sS2P"
      },
      "source": [
        "# Problem-5 (20 pts)"
      ]
    },
    {
      "cell_type": "markdown",
      "metadata": {
        "id": "rZV0wRTYsZIK"
      },
      "source": [
        "- Use 'ACC_DATE' column and convert it to 'datetime' object in pandas.\n",
        "- Create a new column 'accident_date' in 'crashes' data and store the result you obtained above in that column.\n",
        "- Result should look like below.\n"
      ]
    },
    {
      "cell_type": "markdown",
      "metadata": {
        "id": "MupsUn2HtbTV"
      },
      "source": [
        "![Screen Shot 2021-10-30 at 1.39.22 AM.png](data:image/png;base64,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)"
      ]
    },
    {
      "cell_type": "code",
      "metadata": {
        "id": "hdcPgzNCdBzc",
        "colab": {
          "base_uri": "https://localhost:8080/"
        },
        "outputId": "00f77e62-065a-4650-d846-62d655db491d"
      },
      "source": [
        "## Your answer\n",
        "\n",
        "crashes['accident_date'] = pd.to_datetime(crashes['ACC_DATE'], format = '%Y%m%d')\n",
        "\n",
        "crashes['accident_date']\n",
        "\n",
        "#crashes['ACC_DATE']\n",
        "#pd.to_datetime(crashes['ACC_DATE'], format = '%Y%m%d')\n",
        "#crashes['ACC_DATE'] = crashes['accident_date']"
      ],
      "execution_count": null,
      "outputs": [
        {
          "output_type": "execute_result",
          "data": {
            "text/plain": [
              "0        2020-06-18\n",
              "1        2020-04-30\n",
              "2        2020-05-04\n",
              "4        2020-04-14\n",
              "5        2020-06-16\n",
              "            ...    \n",
              "715556   2021-04-15\n",
              "715557   2021-04-12\n",
              "715558   2021-05-14\n",
              "715559   2021-06-24\n",
              "715560   2021-06-01\n",
              "Name: accident_date, Length: 144213, dtype: datetime64[ns]"
            ]
          },
          "metadata": {},
          "execution_count": 96
        }
      ]
    },
    {
      "cell_type": "markdown",
      "metadata": {
        "id": "hpEtXCIWtW8x"
      },
      "source": [
        "# Problem-6 (20 pts)"
      ]
    },
    {
      "cell_type": "markdown",
      "metadata": {
        "id": "1wgzPSqUt7rQ"
      },
      "source": [
        "- Use both 'accident_date' and 'ACC_TIME' to create full datetime object that includes both date and the time of the crash.\n",
        "\n",
        "- Store the result in a new column named 'accident_datetime'\n",
        "\n",
        "- Result should look like below"
      ]
    },
    {
      "cell_type": "markdown",
      "metadata": {
        "id": "1zlRx9TB1Qu1"
      },
      "source": [
        "![Screen Shot 2021-10-30 at 2.13.33 AM.png](data:image/png;base64,iVBORw0KGgoAAAANSUhEUgAAAt4AAAFsCAYAAAD7fr68AAABP2lDQ1BJQ0MgUHJvZmlsZQAAKJFjYGDiSSwoyGFhYGDIzSspCnJ3UoiIjFJgf8rAxSDLIM4gyCCbmFxc4BgQ4ANUwgCjUcG3awyMIPqyLsgs5drwGRta92ZbM/Dn/Vrjo4epHgVwpaQWJwPpP0CckFxQVMLAwBgDZCuXlxSA2A1AtkgR0FFA9hQQOx3CXgFiJ0HYe8BqQoKcgewLQLZAckZiCpD9AMjWSUIST0diQ+0FAbawYCMTCwIOJRWUpFaUgGjn/ILKosz0jBIFR2DopCp45iXr6SgYGRgZMjCAwhqi+vMNcBgyinEgxGIvMTDoTwT5GyGWL87AcIiDgYGnGCGm+YaBgS+NgeGoWkFiUSLcAYzfWIrTjI0gbO7tDAys0/7//xzOwMCuycDw9/r//7+3////dxkDA/MtBoYD3wDHE1xn9ZxteAAAAFZlWElmTU0AKgAAAAgAAYdpAAQAAAABAAAAGgAAAAAAA5KGAAcAAAASAAAARKACAAQAAAABAAAC3qADAAQAAAABAAABbAAAAABBU0NJSQAAAFNjcmVlbnNob3SxTw98AAAB1mlUWHRYTUw6Y29tLmFkb2JlLnhtcAAAAAAAPHg6eG1wbWV0YSB4bWxuczp4PSJhZG9iZTpuczptZXRhLyIgeDp4bXB0az0iWE1QIENvcmUgNi4wLjAiPgogICA8cmRmOlJERiB4bWxuczpyZGY9Imh0dHA6Ly93d3cudzMub3JnLzE5OTkvMDIvMjItcmRmLXN5bnRheC1ucyMiPgogICAgICA8cmRmOkRlc2NyaXB0aW9uIHJkZjphYm91dD0iIgogICAgICAgICAgICB4bWxuczpleGlmPSJodHRwOi8vbnMuYWRvYmUuY29tL2V4aWYvMS4wLyI+CiAgICAgICAgIDxleGlmOlBpeGVsWURpbWVuc2lvbj4zNjQ8L2V4aWY6UGl4ZWxZRGltZW5zaW9uPgogICAgICAgICA8ZXhpZjpQaXhlbFhEaW1lbnNpb24+NzM0PC9leGlmOlBpeGVsWERpbWVuc2lvbj4KICAgICAgICAgPGV4aWY6VXNlckNvbW1lbnQ+U2NyZWVuc2hvdDwvZXhpZjpVc2VyQ29tbWVudD4KICAgICAgPC9yZGY6RGVzY3JpcHRpb24+CiAgIDwvcmRmOlJERj4KPC94OnhtcG1ldGE+CsRunLIAAEAASURBVHgB7J0JvE1V+8eXecoUMkRIReYpEjJkLkPGQhrUW4bSzIteipSpKEMqVNIgpUHGZMiQZKZEqMyZZyL3v34Pz/7vc+4555597jnXxe/5dO/ee+2111r7u9bNs579rGeliLNiKCRAAiRAAiRAAiRAAiRAAjElkDKmpbNwEiABEiABEiABEiABEiABIUDFmwOBBEiABEiABEiABEiABJKAABXvJIDMKkiABEiABEiABEiABEiAijfHAAmQAAmQAAmQAAmQAAkkAQEq3kkAmVWQAAmQAAmQAAmQAAmQQOqTJ0+SAgmQAAmQAAmQAAmQAAmQQIwJ0OIdY8AsngRIgARIgARIgARIgARAgIo3xwEJkAAJkAAJkAAJkAAJJAEBKt5JAJlVkAAJkAAJkAAJkAAJkAAVb44BEiABEiABEiABEiABEkgCAlS8kwAyqyABEiABEiABEiABEiABKt4cAyRAAiRAAiRAAiRAAiSQBASoeCcBZFZBAiRAAiRAAiRAAiRAAlS8OQZIgARIgARIgARIgARIIAkIUPFOAsisggRIgARIgARIgARIgASoeHMMkAAJkAAJkAAJkAAJkEASEKDinQSQWQUJkAAJkAAJkAAJkAAJUPHmGCABEiABEiABEiABEiCBJCBAxTsJILMKEiABEiABEiABEiABEqDizTFAAiRAAiRAAiRAAiRAAklAgIp3EkBmFSRAAiRAAiRAAiRAAiRAxZtjgARIgARIgARIgARIgASSgEDqJKiDVXgkMH36dHPmzBnnqXr16pn06dM71zwhARKIPoFt27aZlStXOgXny5fPVKxY0bnmCQmQAAmQAAkklkCKEydOxCW2kEv1+VOnTpmJEyea7Nmzm+bNmyeb18iYMaNPWzZv3mzy5s3rk4aLs0eOmO3vvS/pBR560KS66qp4eZJjwqk//zQHFiwwmUqUMFnLlw+7ibsnf25O79lj8t/f4ZJ517BfzmY8tHiJOWwVv5x17jCZihb18miyznv4p5/M8d9+M1ffcYdJb5XZiyH7Zsw0xzZuNJlLljA5atcO2IQxY8aYp556yrnXrFkz89FHHznXPCEBEiABEiCBxBK4oi3ex48fN48//rgpVapUslK8tVMXWOU0RYoUJk+ePJrkc/zn77/NqteHSdo1TRqbjJeI4r1/7lyz7MV+5saWLTwp3uuHvmaO7t5tcjdpkqSK999ff23OnT1r8sR4crbziy/Mxs+/MLdclSnRines2nzCTgIPL19hspQuZTIVK+YzHoNdbB79lvlr3nxT9eqrL5ri/ccHH5jtS340+W+vHlTxxuS7QoUKZv369aZTp07BXofpJEACJEACJBAxgSta8Y6YWhI8mCtXrsv2M3fKNGmFYIqUl8YSgyVPPWvizv1rmsVY8Y7msIpVm3dN+dKsHTnKlHz0P+aGHuEp3qnSpjnf3ymSd3/jbw4///77bzS7gmWRAAmQAAmQgEOAireDgidJRSBvu7ammf2hXBkEylgXjjJXxqvyLUmABEiABEggJIGYKN5//fWXmTp1qvnll18M/KhvvPFG07ZtW1OgQAGfxvzxxx9m2rRppny5cqakdfeYNWuW+f777yVPrVq1zN3N7jYpU6U05/49Z376aan53roooGxYpG6++WZTs2ZNUz6IjzAWSX1hP90jf4YMGaTu+vXrB7UiHzx40EyZMsX8+OOPJkeOHKZ169amnG1XIEGbly5datD+otYX98477zRlysRXLeLi4sy3335r5s+fb3ZbF4msWbNK/ibWVaJgwYKBio562r/Hjpl9s2ebfdZ/+OSOHSZNlswma4mSJnfTJibDddcFrs+2e7dlcfDn5ebYli0m3TXXmGuqVze5725mUqSOP2Tgm7zX9s2RDRtMqgzpTfYyZU3++9qbVFmy+JS/7d13TZzLmpi9UiWTOQhj+IFv/+hjc9B+9s96000mf9t7fcryv4Af8Z5Zs81h24ZM1jUnV80aJtddd/lkg5/x39NnmKxly5h01mce1ttDa9aYq4oUMYW7djHpcud28u+1/XZs0+9yDWs3ZOuw4XLEr/T2+bxtWjvXXk/+tX8X28eOM/t//tmkt+MtT2PftrrLO/brr2bPt9Nsezaafw4fMZnt39PVt1Q019hx5JZI2/z3V1+ZfdYN47gdz1nseM7XrKlPv5zZf8BsnzBBqtq7aNH5o/07SeXikaf53T7jCb74e7780t08k9v6TLsZ4+b2ceOMseMtVfoMZueMGSbHLbeY6x571GweMtQc+/13k8f6hWOi5i8Jtdk/P69JgARIgARIIDkQiPriyvHjx5uePXuaw4cPx3u/Q4cOmbRpz7sZ4ObX1nf2nnvuMR06dDAbrML0k1We3AJfy8KFC5tx9h/nrl27um855/379zdPP/20c42Tzz77zNx///0+aXphF5Pqqdm/f78o5Kgji1USV69e7dzDCRTmW6wioIJ3euihhwyijvjLiBEj5J47/YknnjDvWmXTX+rUqSPv7p+u11hciU/ef1rlM5ScsIrJrLr1JUu9uXNMxkKF4mVfds+9ZsdSX67IlCJlKlN15JsmZ4Pzz+uDp3buNEvv62AObtmqSc6x6D1tzM2vDHCu42zkldWPP2H+mDnLSdOTrHaSVWvBPL2U45eFi/hcw8e7xOBBPmm4OGKV0flt25t/XZFdUqU5766AtAYL5pv0BfI7z/36357mt08+da715DqrfJcfN9a+bApJ2mXzLLV5r7aK9sGtf4j7iOZNnT6daWgnd6kyZ5akpa3bmF3Lftbb8Y6B3i9epiAJZ/btMz80bWaO7NzlkyN91izmlFWsb+n7P3PthfF73P5dzG54p08+vchrle+KH7xvldbzEW+8tvms/Xtc1uF+s2ftOi3SOZbv/pxVgB+T62N2Av3dnY2de4FOqr/9lslRt65z6+APP5j5HR5wrnFSdcQbJpedpLpleqky5rSdHLolnV2r4E6r8f54k/322yVLuG12l4fzn9u2c3y8K77/nv9tn2tMqjHx5+JKHyy8IAESIAESiAKBqDpdrlixwnTp0kWU7gEDBohFeKdV5CZPniwKNCzAgeQDu/Bp69at5q233jLLly8Xy3eLFi1M2gu+wOnSpTOtWrUShRchv7ZYKyzyQnr37i2LobTcf/75x7zwwgtyOXLkSIP8f9tFiFCWUUYgQd1prGK3bNkygwWNtS9EPXjjjTd8sqMulFPJWmoxSUA7+vTpI5ZsTAw2bdrk5MdEAko3rNyzrcX5wIED0hZMTIJZ0p2HwzyB9bC4jWZS/MEHTFq7cC2QpM+Z09xgrZG1P/vUNF6zytzx9ZfmxlYtRen80UZwOOdSbvH8ysc6idKdJV9eU+vTj03jX9ebutO/NYUbNbSGSd/+2zL8DVG6oRRXeW2Iabx6pWmwcIEp82Q3kyZjhnjNaTDve1Pvu1mmxMMd491zJ/zc7UlRugvVvcM0WrrE1Jn6tUlnLfVuRVzz77RWcSjdUJyh2N21crmp2LungRKLBX3bLW9/OWAXCF5Xs7pBe9BuKHpnT502297/wMlacey7puHihfKDSQpEr3Gs9sVkJ6/Xk40DB4nSDcb1Zs80DZcsMtdWriRKt39ZqezXmmyFC5lKA1429efPNXdZxrcOHWwyZMsmE4Ntb7/jPOK1zeu7dxelO0v+a02dKZ+bBot+kPGE910xcLCB0g+5qnhxaSPeu1j7dpJW1H6BcPPIXqOGpOuvbLfeKn2N/s5jvzAkJJVffcVU6NlDskHprjZ6lCnV+fwCx13W2q8Sbps1vx4Ltm8vfyfX2b8FCgmQAAmQAAlcLALx/QYS0ZKXXnpJnoaC+uSTTzolNWrUyNS11jAot8EEyrnbulytWjUna7t27Qx+3AIr+Qz7afpL+zl78eLFpoQNTQeBggv3Eii89913n0l9wTWihlUM8BNMoEBrGd2tQgKXF1jcVVDm2LHWemoFFvjrr79ezpH3mFUUhg4dKor2wIEDJV2t55UrVzZVq1aVNMTibtOmjZxH4xessze90DtkUaVGvOlzP7N16SlulbgtX34lyias5ldZtx0IXEZg/YTidfu3U01qq9xBEL2izMgR5pyd1KhAYV83eoxcVrXWzqtr1pRzuJcU7vaEKdjpvLVU8+OY/oJ7TcZr87mTfc5h7YYlGMp8mVGjxLUlrXV1qWQnQfPatffJi4vVr7wqaWWefcaxpubv2NG6guQzC7t0NRvGvG3y268U/lJ62DCxbqNNhVesNBs+nGgOr1vrZANbtX5rItxTEi128vL7F+ddMG4Z85bJeMMNUmT598abnSVK+1jhcQPtq/n9HJ9qEV3l5LbtZrV19dizcKEp9MTjct9Lm09Yt5Kts76T524dP85pB8bTmaNHzabPJputNhpJyeHDJE+6C5F10ti/K0gayycUjxS2/zLaLwuQtBfGkVwE+IXxBredczbK0PIBr5q0drKBLzFX3VzMrB012py0k3eI1za7q8plJ474oZAACZAACZDAxSQQVcVbN594+OGH471TKKUbftpupTvewzYBbioff/yx+d0qirBgw/qK+NYQKNsqCL2H8IBr1641Ha0CBt/yW631DYp4KKlS5TbntrZl167/dwVYtWqVc//FF190ztEOtAei749zuJNA4Lfet29f07BhQ1O2bFkD631SC3ybd0z6zJzY9pc5feiwSWHiTArrO2/O2P+s24MKYkhDCt5R01G69R6OKV1uQlDY4fsMy7Iq3cHyutMTOoc/MySftQC7/cmz3VZFJgTqb408cDtQl4RdM2ea3bPPK5K4d+7cORzMsb/3ilU/pWvSl63gdT5Kdc7bbN9bxfvknvP9KA/G6NcpO6bwDlAuM5cs6dQCd5HcZUqZ3Sv/f5zpTbj07Pz0U3N41Wpzwiqh586eMadsP0JOWwaRyBH7dUplfe/zX4j0+sTevXK6z/4NJYVgHQckZaZMckxz4ZjqqvNuP2cuuKIkpzZLQ/mLBEiABEiABDwSiJriDavv3gv/YF9jLZRepMgFy1iwZ9atWycWc/UbhxKNn5MnT8ojWMDpFijGzzzzjPh6w98b0qBBA9OrVy+J0+vOi/Pi9lN6RpdrRKBdIlXJR73wAfWX6+xCRfdzWKDZr18/M2TIEDNo0CD5wTOPWb/Z5557LuCGOP5lRuP6LxtRYsWr/+9HDZeMlDasG1wrIOdc7I5emMhkKlQ4wapPXHCryRzlDVGOW0suJF0A15n01t3kpEvRPG43RFHZt+4XPXWOUG4hsKSmdFlds1/4OqIZU1+YlLkXfuq9aB9P/fGnFJk281Xxik4f4O8GbZ9d7Xaf98Z7nYs7P7Fwf4WIV2CIBF04Cmvz3jXxFWzUkdo10QpRVKJvpUrt+78hDT+Y8kIYwrMXvrQkpzYn+qVZAAmQAAmQwBVJwPdfvEQgcCud2O48lIXbv5rM9rN1KMHiSSjd2NTi0UcfNTfZKBcQKNKvv/56vEehZNerW89Mmz5N3FE+//xzOcI1BVZsf+t3qlTnfXjjFeRK0GfuspEy3nnnHded4KdQ/tFeKP+IhIIIJ/BN/9m6U8CXPNYCa/bKQUOlmgrW7/kau7BNXQbmVKkqm9G425D6gqXxrFX2EpLUF/rsjGuxakLPhHMfLgyQf+2GNf6CTWzckvpC1BQoiY1+ib9A0J3XfZ7ywmJLd1pSnae2Xwgg51zRXbTuc6fPT4b0GseNrw4UpTv79YVNWbuwNYuNAgM3jr02atCix7u5s3o6V87XVrvNJLTY0FPBMcx8KbY5hjhYNAmQAAmQwCVI4Pw33ig0HL7UCBsIcbtlJLZoLI5caP1Yofj269ffUbpRbqDoIlofPl9DSUa0kT+sP2vFihXl1lc2dFokou+mlu9wy7jKLtx78MEHRfn+zbp84D2geKNNsZY9NmoM3BpyFr3JFLBuN6p0n7aTD+wA6S+ZbT7IgQsuJ/733de6a+HhbTvEouy+l5jzjNYNBHLMLnh1y7/W71jdSjRdfYj/sV8+cD/W4r8QNZL6NITjyYOH4y1sPbx5S7wit9idLCFl7NeTrHZRL5RuyM5vvpFjQr+CtfmqYkXl0aNb/0ioCJ/72EkVcvaC+4fPzRhfRNrmGDeLxZMACZAACZBA2ASipnijxsaNG0vFiCri7/6B0HyIx+1V1BoOi/fJk/8fChDKPSKH+Avq9VeO4Ved00b3gBw5csT/kbCuEYkkn3WrQJxv+G37CyKaIMqJCkIBIlyhWxAiUMMpRtoOd3kJnafOct6v/aSNw+yW7RM/cl865zmtX7q4Hvy6weyz8a7dctZyO2TfXQUL6xCVA4r9hpf6abIc42w/75/juyDQJ0OIC0TDgOy1bcD25Cp/jYsfnQRKaO4ypSWLfxuQCIs/FowmVuDiAkGIvMQKFkBmtusQwG3XxIlOccfseD5sJ5n+ov7Op/f8/0QJk4xtC0K3JaE2Z7NhMuF2hDr3TosfHhMRTeDH7y/pL7gW7bYLmpNaIm1zUreT9ZEACZAACZBAMAJRczVBBT169DCffPKJuFEgKgni4ELphbIK6zQ2qUmXKl2wtgRMz2Z9c2GthpUYG+AgzOBx6wqhEUb8H0JowAoVKpjbbdxfRBOB4r5kyRJxNYHiGyy+t385/tewXL/yyivyPN4LUVawiBMLOxFacN68eT7RTvC+cJFBe7Go8rR1I4CrC/zg4QpTuvR5hdG/nmheZ69eTRTp41YBXdigocljYxNjkxuE2QsksIiX6vyYWTNipFnYuYsNuVfDZLX+7ye3bzd/2MlGYfsFQRVjPF/h9dfM3Db3mo124eYBGwM9j40ag4gYO+fOs/WmMLXt5icqO95/3xz+5fzCycMXFlDusu42Kbr3kCzprE98keefM4hggtCFW60yOK9xU1PYbubyj5104TqQlBk6xMyqU89smvy52W/bkNe2Ic4urDxoFwYiDnfB2jVNObswMzGSxz6P+hc+8pjJU66MyWSVz0w2qk1hGzYxEinx9FPmx+e7m2Uv9jMH16yVRaSIMhNI8tk+wLv91P2/prDlmtZOILfYjaHURz/QM0hLqM2YAJS3E+SfevU2i2z0l/y3VzfZ7Xj+x04W91puCLlY6aW+TrQTrefqC9GGDm39w8yqeIvJY63wKe3XrsKdO0n0G833W5++BpsEQfavOx8daPO7Y83eCxOGq+3fdB4b1tKLRNpmL3UwLwmQAAmQAAnEkkBUFW8op1Byu3XrJmH+sHOlSr169Uw4vtSa332Ekt3exuFFpBItE1FD8ANl310uXDmwiyR8qN1+1Ngk58033xRFXMtOmfJCNIULR00PdkQccEwEECpxostaifyYaBSzYfdUUB8WXMK/HD8qmBAE8kvX+9E8Is53ldeHmKXPPm/2/bZRflD+TS2am+NWmZaNdfz8269/5mmTwSrgP7/40nkF/YKSDutoDhsa0S1wfUB88J+s4uYuH3mKtWvrzmr+si4T/hu1IOIIlHYIoqNA8YaUGva6+df6jmOC8NvHn0jatVVvM0esKwZcZFKkTiVp+AV3k7ozppllnTqbA5t+lx+9iVjX19jJhr+k8HtnLc8/XZ8r3r+fSW03Ndry1ddm1/IVxtifbIULRax4Q+Esa3d2XDX0NfO73T0Tkskq1DlKljjP3NW+m/v2Ebcb1Pv7N1MlL1jdNvx1s7jbUzYUSOCPVuG0OZ+NxV3NMlpmJz/brUKMHxW8Xya/Rai4h42Lbhv2mllrF+yi/7Zc+DKS106Q1P0I+TZ8+JFY9XGusttGZcEPpNDBA47i7eaOLy7+7+T++46kzVo/jyRAAiRAAiRwsQlEfedKfSG4fMCn+ZS19N5glSNE+UiMwE1l6x9bzV4buq+EDcOmLijByoR1HX7UZ+2CPFi6rytwnWw/Hyy/1/R91ooM6zos+oUKFZKdLwOVgcWcO+xW7fCNzZ8/v8nt2pY8UH6kYedKt8CFBWESIxUs2jtuJ0Hw98UW7e7QeqHKPGXbjeglaW2bM9l40+pfHOiZM5b3cWvRTmG3jL/KLn5NZSdhiRW4txy1VmzEGU9zwVUoVJlwwYB7xL/2fTPYPlGf9lDPXMx7iEhy1LqYpLF/G+qvHqw92FEUfZHRrqNQd49geSNJ/8dOBE7YiU0q238Z7N+rLlyNpKykeibabcYE//HHH3eaz50rHRQ8IQESIAESiBKBmCneUWrfFVkMfOQRGUalZ8+eQRV7zcPjxSHwt13AetBuwBOOZLquQMDNfMJ5lnliTwBhQqdMmeJUBFcy/427nJs8IQESIAESIIEICFDxjgAaHyEBJbDyoY7mT+t7HY5kLVDA1FoQXt5wymMeEiABEiABEiCBS4sAFe9Lq7/Y2mRG4Jh14Tl5YVOchJqWxvpTYwdOCgmQAAmQAAmQwJVJgIr3ldnvfGsSIAESIAESIAESIIEkJhA4JEISN4LVkQAJkAAJkAAJkAAJkMDlToCK9+Xew3w/EiABEiABEiABEiCBZEGAiney6AY2ggRIgARIgARIgARI4HInQMX7cu9hvh8JkAAJkAAJkAAJkECyIEDFO1l0AxtBAiRAAiRAAiRAAiRwuROg4n259zDfjwRIgARIgARIgARIIFkQoOKdLLqBjSABEiABEiABEiABErjcCVDxvtx7mO9HAiRAAiRAAiRAAiSQLAhQ8U4W3cBGkAAJkAAJkAAJkAAJXO4EqHhf7j3M9yMBEiABEiABEiABEkgWBKh4J4tuYCNIgARIgARIgARIgAQudwJUvC/3Hub7kQAJkAAJkAAJkAAJJAsCVLyTRTewESRAAiRAAiRAAiRAApc7ASrel3sP8/1IgARIgARIgARIgASSBYEUcVaSRUvYCBIgARIgARIgARIgARK4jAnQ4n0Zdy5fjQRIgARIgARIgARIIPkQoOKdfPqCLSEBEiABEiABEiABEriMCVDxvow7l69GAiRAAiRAAiRAAiSQfAhQ8U4+fcGWkAAJkAAJkAAJkAAJXMYEqHhfxp3LVyMBEiABEiABEiABEkg+BKh4J5++YEtIgARIgARIgARIgAQuYwJUvC/jzuWrkQAJkAAJkAAJkAAJJB8CVLyTT1+wJSRAAiRAAiRAAiRAApcxASrel3Hn8tVIgARIgARIgARIgASSDwEq3smnL9gSEiABEiABEiABEiCBy5gAFe/LuHP5aiRAAiRAAiRAAiRAAsmHABXv5NMXbAkJkAAJkAAJkAAJkMBlTICK92XcuXw1EiABEiABEiABEiCB5EMgJop3XFxc8nlDtsSgP44fOx4TEidOnDD//vtv2GUnl7Fx7ty5mDEJFwa4nTp1KtzszEcCJEACJEACJHCJE4iq4j1s2DBTpUoVU6hQIVOmTBnz+OOPm3/++ecSR3RpNv/vv/82L730kqlQoYL0R/ESxc31119vWrZsaX777beAL/XHH3+YFi1amBtvvFHy1q9f38yZMyde3mnTpkk5yHfzzTdL3nLlypnRo0cHVcJjNTbCbbO+xIQJE0zNmjVN4cKFDZjgHTp37qy3Iz5CkZ80aZKpW7euqVq1qhk/fnzAsjDxePvtt+XvA/1RtGhRU6xYMfPf//43KhMBTLAGDx5sqlevLu1Ys2ZNwHbg7xRjI9DPtm3bAj7jJfHHH380rVu3ljbg/wOBZOzYsQHrR5u6d+8e6BFPaTNnzpT+AGf0M8b+X3/9FbAMr+MoYCFMJAESIAESIIEECKSwikBUzNMvvPCC+eCDD6S66667zuzYsUOUMChm3377rUmVKlUCTeHtaBJ47733TJ8+faTITJkymcyZM5vdu3fLNfpi9uzZpkiRIk6VUDwaNWpkjh8/bpAfP1DeIVAUoYSrlCpVyhw5ckQu8+XLZ/bt2+dMsO68804zatQozSrHWI0NL21GQ3r16mU+/PBDaRPe75prrpFxCh4bNmyQ9Eh+jRs3zgwfPtwcOnTIefy+++4z/fv3d671BGnvvPOOXObMmdNkzZrVbN68Wa7Lly9vpkyZolk9HaFwDxo8yGBi4f4Cgbbdcccd8coqWLCgpAX6u1ywYIHJnz9/vGfCSfjhhx9kwrdx40YnOyY58+bNc6715OWXX5axhWv/dmAsjhgxQrN6PmJy2KlTJ3kO/YwvCxiz6Hco5AUKFHDK9DqOnAd5QgIkQAIkQAJeCUDxTqxYhS7OKtvyY//hleKQdsMNN0iaVSYSWwWf90gAzDt27BhnrdvOk1bBiLPKnfSJtUY66Tjp0qWLpFuFJ85ab+WeVZglrVKlSj55mzVrFmctunFnz56VdByt4il5MQ7Wr1/v5I/l2PDS5nXr1jnt++qrr5z2oe1z5851riM50bFfq1atOPzg2ir58YqyCrHzNzFo0CDn/k8//eS07ZdffnHSvZwsXrzYKcMq/XHWki7X3333XcBi0EarEAe8l5jEhg0bSr0lS5aMu+eee+S8Ro0aAYu0kxC5b7+GBLyfmEQd56+88ooUg36uU6eO1Pfkk0/6FO1lHPk8yAsSIAESIAES8EggKq4maumuWLGiqVatmuj+u3btcqyget/rpID5IydglWPz7rvvmptuuskpBFbO+++/X66tguekwx0IVkCIVVRMihQp5FytwLCUr1q1StLwC1bZBx54wLFSwlpplReTNm1aybNs2TInr/Z9tMeG1zYPHTpU2vToo4+aJk2aOO1D2+F6khipXLmymThxovn+++/FdSJYWQcOHHD+Jtq3b+9ku+WWW0yWLFnketOmTU66l5OMGTMaq/SKZRnMs2fP7uXxsPJ+/fXXYoWGJVrHhv+DVuEWSz/Gi/sd/fNFeo2vMKgfPzq2/Mtavny5fIXBeFSXlVMnT8nXDeSdOnWq81XA6zjyr4vXJEACJEACJOCFQGovmYPlXbp0qdyqXbu2HOHvCkVMZe3atXrK40UmkDdvXmkBFDUVKHtQQKColC5dWpKhZGm/ImHJkiWmbNmy+ki8IxRYKI9wO4H7hIqWEe2x4bXN8DmGPPLIIwbj89dffzW5cuUSdxNta6RH+HaHI3AtwQ8YYeKjfXH06FHHdee2224Lp6h4ebCm4q233oqXnlAC3CwwIYAPNNyRQglcZNRnHHnhm+4v1pLvn5TgNRborly5UsYN3FJ04hfoQfifw4cdgvHWoUOHeNkwViFw3dGy+r7YV9yokI6xDlcYuMF5HUd4nkICJEACJEACkRKIisUbigQE/2hC4OO7fft207ZtW7nGP3RQdigXn8Dnn38ujcDiOpWdO3fKKXxhIfAX7tGjhyji6h+MLxihBIqkjgP96oH8mhbtseGlzfYrkChdmFhAScaCRvgQw9IMhXXhwoWhXi2q9x588EEpD3zhf/3ll186lmEsKoRinlQCX3DrBmLuvvtuA0s1LPc6QUmqNqAeTBjwhca66chCYCw0PX36dMRN0LGqfuxQ6tHvULTz5Mkj5e7Zs0eOXsZRxA3igyRAAiRAAiRwgUBUFO+DBw9Kcfi8jX/IXnvtNbEkuheX7d27l9AvMoEvvvhCLNdQQHv27Om0Bq4kELV49unbRxRVLH4rZCPUQHShpVz4/YICZ/3JJRWuLG7lMVZjw0ubVcnCBBAW2Wuvvda0adNG3HCwILJdu3bmzz//9Hur2Fx27dpVXDHA88UXXzTdunUTNx5MBCZ8MCE2lQYp1fp5i7J76623yiQLTMFFrdpBHpPklCmj8r8OqRduSIgGo5Ozjz76KKAlO1R73Pd0rGbLlk0m/GAOQdQddenR8aPHSMe+u16ekwAJkAAJkEBCBKLianLmzBmpB591n3jiCfGfhNXbHalA8yTUIN6PDQH45D777LNS+MCBA31cLOzCM0mHMgXr4GeffSZuJQgHN2DAALkXqv+gPGLChQgnGklF30KfC2ds2MVv5vDhw/powGP69OkNImd4abPbegqf91mzZjkuCIjWAjZwX4Df8JYtW0T5DFi5KxHWYeT3Ku5oM7C+QuGDuwOicGBC0Lt3b69FRpR/0aJFPpFLEPGjefPm0pZnnnlGot74FwyfamUJN53ECtx+nn/+eZMmTRqnKHwBwHiC5R39jLCIboG7k7ovpUuXzn3LOdcxh/GMPsLXN4Q0hGKv/0/CJAziZRw5FfCEBEiABEiABCIkEBXFG5ZuhKFDqDYsrMM/4PiMr/9Io225c+eOsIl8LLEEoBSjT2CZhu89zt2in99hnUZMaygnI0eOlCwaIk/dUNzP4RxfNb755huxJGLRpSo2ms/L2EA7E9pQBoo3xEub3WOvadOmjtKNcurVqyeKt416gksDf+P9+/fLeahfCU0QAj0Llxd8RYC8+eabziJPKIaI/Q0fasRRh0tErMU/XCAswUOGDDHgo+EN/dsQ7QWbgcYUXE6g4GOBJHy1/RVvjC/te//26bWWC/cnuBFhQvjUU0/JbfjTQ3RMaFmRjH0piL9IgARIgARIwAOBqCjecC2A8gAFDHFy+/frL01QX0v8Y+m2anloH7MmkgB8rBFbGxOjVq1aiYXRv0hVQqD4Qp577jnHGqpuGprH/SyUcyiLcF2BpVKVGHceL2PDHWnFXUagc21POG2Gso4xiImH27cd5cKvGqLKNnydYfWOhcCKC0sr/kYaN27sVAElGO2ComlDHSaJ4u1U7jopXry4XIET3DVUgXVlSZJTLPSE4r1169aI6tOxMX/+fHkeLiY6IVTXJx2rmjeccRRRY/gQCZAACZAACbgIREXxRnQDDTcH/+5MV2WSKhBeDQJfUkrSE4B1DwoeolbAhxYWzUBi4607yfDpdkek0dCAJUqUcPLgBBu1wF8aCs3kyZN9NuNxZ4zV2PDaZrhGwJ8X76PKNtqp4zZHjhzuZsfkXCcWmIRqtA2tCMo4xMZA16QkP7ot3W4/fW0IFoNqGEH4grs5ap5oHBFpBeLe5EYS7C9M8N944w25vPrqq2URsN7To3us2ljiTjQelIsJKOSGIufHvNdxpHXwSAIkQAIkQAKREIjKCimNDY0GaNxo+FliS2jIvffeK0f+SjoCcNmA2wAsebCmYvfJYAI3Ayywg6D/VCmE9RWKSoYMGXx2P4R1G77IULoRvxqRQYJJrMaG1zZju3AIwiS6Bf7ekKRw71CFEO47sOiqwApuN/GRS+wKGmvB5EO/ZGhdaIMuuIXFOdDiSbgSffrpp/Kjrjn6vNcjrOrz5s0zcL9xC/y6NbLKbdb9xl/Qbm0Dxl4gwSQTYxaCLxgqqrAjZKMaB7yOIy2LRxIgARIgARKIhEDUtoyHkgfrISx3DRo0MCtWrJBPxbjGYiiNGhBJI/mMdwK6WBBPwpUhder4Hzeg7KmCZXc+dCZIUMJhAZ4xY4a4Z8A/1u725zTi+uuvl3Qo3oGskggjiY1qVGI1Nry0GQobwhxCwYQCbHfjNKtXr5ZxinbCLQHW/kgEyjy+9EBgVT958qT8HairRt++fU3NmjUlwgYWkKplGZzxd4G60S647OAcPsmRSL9+/cycOXPk0b/++kv6CJZr/dvDhAmRPtCXUKIx2YDFF3XDzQULLCGYcAWK2Y6vJxrx5KWXXnI2Y5KHLvzCRE/DiOKLC1ydME70qxfKwOJN1IVJBhRfKMdw/YCLj36BABso2P6CCYuuUcCzwfYIwNcd+NGjbvjxwycf4wWCcnWiiWsv4wj5KSRAAiRAAiQQKYH42liEJeEfM+xUB2uaxorGP6aIkKH/8EdYNB+LgIBGa8Cj+DyfkMAKOGbMGIn+oBZHKC2PPfaYj9KNcmCt1KO6BUjChV87duxwX4qiE4ux4aXN8OXFRAKuB3DnUJcOKG9Q0CJVuvGiWMvg74+MLwWapuHtMMlBqDxMZKDsKWeUgfpff/31iJVulAFXFq0T1xAovhpLXaN9YOKEvsUmQvhRgcKPCUQgpRt5dJLmf67P43js2LF4bcB40XbppAMTQbiKwA1KFWItB2OlV69eehn06G6PfyZE8MEECLu3Tp8+XW5jYoNoS26lGze8jCP/enhNAiRAAiRAAl4IRM3irZVi85VVq1eJJU0XLuk9Hi8NAr/99psoUFDAoKBFS2I5Nry0GYooQvhB0YQlVl1rovWe4ZQDiy/agMg/sDqrdTycZ6ORB0o46sekAAopXIwC+XVHo65QZeBLBKzz4IFwinBzieaYg9IPKzom/+oGF6o9XsZRqHJ4jwRIgARIgAQCEYi64h2oEqaRAAmQAAmQAAmQAAmQwJVOICqLK690iHx/EiABEiABEiABEiABEkiIABXvhAjxPgmQAAmQAAmQAAmQAAlEgQAV7yhAZBEkQAIkQAIkQAIkQAIkkBABKt4JEeJ9EiABEiABEiABEiABEogCASreUYDIIkiABEiABEiABEiABEggIQJUvBMixPskQAIkQAIkQAIkQAIkEAUCVLyjADG5F4FtuRFDOxZy4sQJZ0OdcMr33yI8nGculTznzp2LGWevDLxyxvhA+6Mp2Lky3HYg3jZimlNIgARIgARI4HImEFXFG/94Y6vy6tWrm6pVqzrbS1/OAJPru2FjFGzrXaFCBdkVsXiJ4gY7FrZs2dJgk5BAgl0oW7RoIZuYIG/9+vWdLcjd+adNmyblYLMTbDuOvOXKlTOjR48OqoQPGzbMVKlSRdpSpkwZ2SETW5UnVsJts389K1euFDbgg91VIxVskX7vvffK9ueFCxc2yrlp06ayJX2gciNtc6Cy/NO8cN67d6/p0KGDtB3tRvsrV64s28f7lxvu9eOPP25uueUWU7BgQdkKHjtyot+xXX0gwW6iqBNjCBvc4NmhQ4cGyuo5bebMmaZu3bpSNsYqxj426wkkseyTQPUxjQRIgARI4MokEJUNdKBwDxo8yEyYMMFH8Ro3bpy54447rkyyF/mt33vvPdOnTx9pRaZMmWTnvt27d8s1dgacPXu2KVKkiNNKKB6NGjUy2Ooc+fGjW52//fbbooRr5lKlSslOg7jG7o/YCVKV6DvvvFO25da8OL7wwgvmgw8+kCTsFIkt5WHhhNL+7bffRrxToZc2u9sDyy4mhlCaIdie/D//+Y87S9jny5YtE4UOTHPkyCG7QG7fvt15HpOUEiVKONeRttkpIMSJF84bN240zZo1k/5Gkfnz55c+RJ/37NnTPProoyFqCn4LCjT6FtvBZ82aVRRdXEMwHh966CHn4a+//lomYEjAWMyWLZvsMon8bdq0MYMGDXLyej0B906dOslj2BX01KlTMmYxrqGQFyhQwCkyln3iVMITEiABEiABEgAB+yk40bJ48eI4q1DJz3333RdXtGhROf/uu+8SXTYLiIzAlClT4jp27BhnrdtOAVbBiCtfvrz0TevWrZ10nHTp0kXSrfIdZxVTuWcVOUmrVKmST16rsMWNHz8+7uzZs5KO4/DhwyUvxsH69eud/FbZd9J/+OEHSUea3SZd0tHOSMVLm911DBkyROq2Fl45jhkzxn3b0/nBgwfjrJIXZ90knOf27dsfV6tWLSk7MZydAsM48cq5VatW0j7097Gjx5waMEY2bNjgXHs9mTRpUhzeX8UqvHFPP/201IU+d0vZsmUlHeNMZd26dZKGcWQt8prs+ajj/JVXXpFnMUbr1KkjZT/55JM+5UU6jnwK4QUJkAAJkAAJhEEgKq4mGTNmNA0bNjTz5s0Ty2b27Nk5q7nIBGDNfPfdd+XzvTYFn//vv/9+ufzll180WSydsAJCrKJiUqRIIedWAZMjLOWrVq2Sc/yyyrJ54IEHHEs1rL1WeRFrL+7DCqyilu6KFSuaatWqSfKuXbscC7ne1/zhHmFh99JmLffPP/80I0eONKVLlxa3Bk2P9AgrLcZ+2rRpnSJy5LjaPPjgg3INy7JKpG3W50MdlWM4nGHhXbp0qfQf3GwyXZXJKRpjxE6cnWv3CSzUI0aMkB8dG+77OLcKvbX8X+0kp0uXzjz77LNyjffXryjw/z5w4ICk33PPPU5+fB3AVxHIhx9+6KTrCZ7XNug76z09Ll++XL7CoE+6d+8uyadOnpIvLbiYOnWq82Uuln2i7eGRBEiABEiABJRAVBRv+Oy+9dZb4iOqBfOYPAnkzZtXGobJksqmTZtEEYaiAoUUAiULypnKkiVL9DTgEcp3lixZ5B5cDFS0jNq1a0sS3DygpKusXbtWTz0dI21z165dRemCL3QsBcofpHjx4k41kbbZKSDEiRfO33//vZQE1yKMA7gK2a8U5syZMyFqMOadd96RNRxYx6H1hXzgwk3NmyFDBpMrVy5J3bJlixwxbtyMkHjbbbfJvTVr1sjR/Wvbtm1OG9COQKJj1Vq9nUlk3xf7Om41ULZ1QhTLPgnUNqaRAAmQAAlc2QSionhf2Qgvrbf//PPPpcFY8Kaivs7whYXAZ79Hjx5ixVUffVipQwks6FDgIGrZxrmmYeEeZNSoUQY+0G3btpVrKEGRRNOIpM2ffPKJLPht3769j3+7NCSRv8Bsnv3ig3UOWLCIrwKQB+yXAZVI2qzPJnT0wll90NHfNWvWlEWmUMKtK4j4XMMfOrGyaNEi89VXXxnr1iFjCeVhcaN+TVEFHP7c2natE8owBIs/IxEdq7DeQ7CQ1rrAyJqCPHnySNqePXvkGMs+kQr4iwRIgARIgARcBKh4u2Bc7qdffPGFRKyAZRsL6FTgSgLJnDmzHPv07SPWwZdfflmikCBRXQQkg98vKE/Wn1xS4cqSM2dOJ4f1gZZzuB9ByXnttdcMFL7+/fs7eSJRsLy2Ge3A4kMsrsNiymjL4iWLxY2nd+/eZv78+VI8XH0QVUPFa5v1uXCOXjir4j127FhZ/Ni4cWPTpEkTcT3Bl46nnnoqwSpTpgz+vw5MpDCxeuKJJ2QCcvLkSYMvDf369XPKxaJcWLshaoHHOSZi6tbkr5DjfjiiYxVuQGgL6oYg6o5+ldG+0GOkYz+c9jAPCZAACZAACSiB1HrC4+VNAD656ms7cOBAUX71je3CMzmFMgXrIPx+7cI3YxcGmgEDBsi9UG4I3bp1E6UaypRGUtGy9TlYOqGIQUmH1VuVLuTTPHbxmzl8+LA+GvCYPn16YxdpGq9tfu6550Spe/XVV8W9ImDhNhEuEIiokZAgBB58jVUQrg6TD7hCwPINBRJfDRDdAyELIV7brGWHc1SG4XBG21TGjR9vataoIZfob3wNQEQQWI3VLUnzwqdaY22rxVrvuY9oA1gcOXJEwlHClxuRcVAeyleBco4vBJgIQVmGooxISBgjwQTjUl1X4D8eSJQFxjP6CBMNhDnEVxcdd8ogln0SqG1MIwESIAESuLIJUPG+AvoflubmzZuLQgP/apy7RT+/w2rauXNnUU6wABFy6NAhOaobily4fsFy/c0334glEe4VqthoFli6EaIQC+Ww6BJ1I1azKnDIlzt3bsmOdibk5gDFG+KlzVDUET4R4QsRpzyUYEOg/fv3h8oi9/wnCIUKFTL/+9//5B6srDZyiizihJUdiizES5vlAQ+/vHDWvsSXjxq33+7UghCL6D8ovja6SDzFO9xF01C8lQUKX7BggbHRjiQNk5o0adJInf/t8V+xuOMLgdtfG3mhkGs7nQbaE7RPObrT3ef6HNyfFi5cKCEv1YqPRZ0QHXNaViRj310nz0mABEiABEggHAJUvMOhdAnnwed6xNaG8ouIE88//3y8t1ElRP1dYR1GXGeI+sJqHvfDUM6x4A4KHDZIUSXGnQduJ7A4QjmHm0f/fuddTNQPF4qUKmLuSCvuMgKda3vCabMudPz1119lYxf/8uBSgx+44sA6rQv//POFew1LKxhiwTEWLULZgyuDlzaHW5fm88JZrdVY1AglWQXtRhxu+FgrV72XmOPtVrkvWbKkKPNz5swxDRo0kOIQTQVWdHyNwUJKjCOsKfjmm6ly/9prr42oWuWsLj9wMdEJobrk6FjVvPq+4Y79iBrGh0iABEiABK54AlS8L+MhAIUP/rv41A9fY1hhAwkW1anAcuuOOqKhAd2bwCAvLJLY4AQKzeTJk4MuVixWrJjjswv/bg1dp369GjpO6w/36KXNcDHQxZ3u8rGLIay7cHGANdcd6cWdL5JzG8rTcZnYunWrRIvx0mavdXrhDLcYiP8Opmgzwi1C4DbkL3AD0TCCsFyrC41/vkDXKBuCOlXx1nxoO35UPvxwgpwiNKK/YBL3xhtvSDLceODO4y/usYpQhXBPgSCMIiagkBuKnB/zsewTqYi/SIAESIAESMBFIPgKKVcmnl56BOCygW3LYclDBBP42AYTLDi79dZb5Ta27VYrKKJSQFFBGDiNboJMsG5jESGU7okTJxqEkwwmGjcc91E2BD64WNgHwXbrkYiXNoPDPOt37f8DlxcIJhq4B1cUr4LnVFnVZ6HMw48eAkaqCHpps5YV7tELZ0QwgXUZix419B7qge+0+j5rm931w5Xo008/lR+4ovgLvljoRM19D4xg+YfAN14FnBANxi12YybJi/a5/cE1D77AaBsw9gIJJpkYsxBY2lVUYUe4Qp0AxrJPtF4eSYAESIAESEAJRM3ijYgF+IwMUfcEuDVotAAoa7AsUpKGwJtvvmk2b94slWHBn91JMV7Fc+fONXAvgGCB5I8//mhmzZoliwux/fmMGTPk3mOPPebkQ4LdiVDS8SuQxRGL5nTLcbgzwOKISBV33XWXWDtXrFgh7idwPdGwgk6BHk68tNlDsZ6ywlUC4x4WdViSjx07JgoslErIAw884Lg54DpWbfbCGUotJjzvv/++adeunfi9w90Hi2oh2BAokMVbbob4BaUbvt1we4HiDn98KPZYZAmBVduteCM/+t/ujCrPQHHXMYuNb9DOSASTnYcfftjgbwCLfRHaED75doddKQ594JZY9Ym7Dp6TAAmQAAmQAAhETfHGP5r4pO4W+BdrSDCNNOC+z/PYEdBoDagBn+cTElgB7dbpEv0BCjgECgyUbsRidosqlTji872/7NixwycJFkpYL6FoaRxx+NhC0dOJmc8DYV54aXOgInXSgfeMVOBuAV4Y++7xD6URkTTw45bEttldlv+5F84vvfSSPA7lGzGuVeCaNPDV89Z6TdOj8sK1+1zvFylSRBZEIkKJ+lfrvbvvvtugTv2agnTdaMltdYelGpFnsPNqQhKoDfoMIvjAoo+QjtOnT5dk9Aki6ujXHc0byz7ROngkARIgARIgARBIgW3liYIE3ATghwvLLSzViVFK3WXiHG4Fq1avko1adFGbf55Ir2PV5nDbA5ceLBiFqwbC5sF3PZRiiHJj1WYvnDF5QjugpBYrWsxxwQj3vQPlwwJG+M9jDMEPGws2g4X+Q/3wG99rJ+nF7Fb1uugxULmRpKF8fG3BBE9dnUKVE6s+CVUn75EACZAACVw5BKh4Xzl9zTclARIgARIgARIgARK4iAS4uPIiwmfVJEACJEACJEACJEACVw4BKt5XTl/zTUmABEiABEiABEiABC4iASreFxE+qyYBEiABEiABEiABErhyCFDxvnL6mm9KAiRAAiRAAiRAAiRwEQlQ8b6I8Fk1CZAACZAACZAACZDAlUOAiveV09d8UxIgARIgARIgARIggYtIIOqKN+LmYrtySvIhgFDt/ltzR6t1J06cMOjzcIVh48Mllbh8XjjHamx4fYNz587FbJx6bQvzkwAJkAAJkEAsCERF8V6zZo3p2rWrwbbV2CyjqN0IA9tDP/PMM+bQoUOxaDfLTIAAdg/EToHYWbFQoUKmeInzfdOyZUvZMCXQ49iFskWLFrL1Ofqxfv36sh26f95p06YZlIMt0m+++Wbp83LlypnRo0cHVcKHDRtmqlSpIm0pU6aM7OiIzWYSK+G2eezYscICPPx/sD15YmXmzJmmbt26wgJcwAebyCQkb7/9ttOecPInVF64nI8ePSq7kuLvFGMDbcaulYF2Ik2ozlD3w3m/CRMmmJo1a5rChQs7bencuXOoYsO656VPwh1HYVXMTCRAAiRAAiQQhEBUNtB56KGHHAUNO9Vhu/IjR45IldiJbsGCBUF3rgvSLiYnksB7771n+vTpI6VkypRJdu7bvXu3XGM3ytmzZxts8a0CxaNRo0bm+PHjBvnxA+UdAuUJSrhKqVKlnP7Nly+f2Wd3HVQl+s4775RtuTUvji+88IL54IMPJAk7OmJLeVjJobR/++23Ee+O6aXNL7/8srwHGuG/Gyfee8SIEdK+SH5hItKpUyd59JprrpEvPhj/YAjlr0CBAgGL3b59u7n99tudycr333/v0ycBHwqRGC5nWMOxTTp228Q26pg0Ybt79De2bMf7YOKVWAnn/Xr16mU+/PBDqQq8wA/jA32EHS0jFS994mUcRdoePkcCJEACJEACQsD+I5xosf/gx/Xt2zfuwIEDTlmLFy+Os0qW/FilxknnSdIQmDJlSlzHjh3j7BbYToVWwYgrX7689Enr1q2ddJx06dJF0q0SGmc/+cs99Cv6sFKlSj55mzVrFjd+/Pg4O8GSdByHDx8ueZF//fr1Tn6r7DvpP/zwg6Qj7YYbbpB0tDNS8dLm/v37S33WIhxpdUGfU6avvPKK5AGPOnXqSH1PPvlk0OfA0Vp5HT6///570LwJ3fDC+eOPP5Y60QdW2Zai0ef33HNPgm1OqB3u+wm937p165x3/+qrr5xHwW/u3LnOdSQnXvrEyziKpC18hgRIgARIgASUQMpozD/g0gDravbs2Z3i4FZwyy23yPXy5cuddJ4kDQGr9Jh3333X3HTTTU6FBQsWNPfff79c//LLL046rNWwzEKs8mhSpEgh52pxhKV81apVkoZfVlk2DzzwgGM5hnXSKi9iPcX9ZcuW4SCilu6KFSuaatWqSdquXbscC7nev5A97IPXNoddsMeMGNuw+MNyrC4rp06eEqstipo6dapj0XYXPXnyZLNixQpx98CziRXlGA7npUuXSnWwdOfKlUvO0ec6NoK1+euvv5YvA/g6oGMjWLvDeb+hQ4fK448++qhp0qSJUxTGE1xPAgms8qgfP/rO/vm89ElyGUf+78BrEiABEiCBy5NAVBTvYGjgZgLJmjVrsCxMT2ICefPmlRozZszo1Lxp0yZRhKEAli5dWtKhZKmChoQlS5Y4+QOdQFnKkiWL3HL3t5ZRu3ZtuYcFdFDSVdauXaunno6RthmLQVeuXGm2bNli7OzTU52BMisXa2F1Jix9X+wrLjvID8Vu48aNPo/CDaV3794GbllPPfWUz71IL7xw/vPPP6WaW2+91ac6VXbRZrih+Ms777xjBg8eLD9an38eXIf7fj/++KM8/sgjjxiMC/ulxHFvClQu0rZt2+a0AW0JJF76JNJxFKheppEACZAACZBAQgRipngjssn8+fOl/ho1aiTUDt5PIgKff/651IQvEiqqZMG/FoIoFz169BAr7h133CFpsFKHEljQYfmFqGUb55qGhXOQUaNGGfj+tm3bVq6h5EHp8iqRtvmtt94y+BpQq1YtWej53//+15w+fdpr9U5+5YKvCRAo9ZMmTRL/dZ147tmzx8mPk+eff96cPHnSDBo0yKRJk8bnXqQXXjjnyJFDqsHkwy3WLcm5xFeOSCWc98OkB+sJMNkDLyzIhq89vpJh8e3ChQsjrd546ZNIx1HEjeODJEACJEACVzSBmCne+OwOyxeiJTRt2vSKhpxcXv6LL74QyzWUnZ49ezrNUiUrc+bMktanbx9RirAgsVChQpKmCy2dh1wnWChp/cklBe4KOXPmdO4ePHhQzuGGBCXntddekwV01ufaybN3717nPNyTSNqM94YrBqKP6ETgo48+Mh06dAi32nj5lEu2bNlkAoHoPhBEeNEvANpWpEOhnD59uqlcubK0A2nREC+c1f1o0aJFPlXDxURF30uv/Y8pUwb+X0e476cPzVu6AABAAElEQVSTEUy8MAG59tprTZs2bcQ1CpGQ2rVrZ9Qy7193Qtfa9nD6RPsm0rGfUFt4nwRIgARIgATcBFK7L6J1DgvWl19+KT7A8DNWn+Folc9yvBOAT+6zzz4rDw4cOFCUXy3FLmaTUyhTsNh+9tlnpmzZssYuwDQDBgyQe2fOnNHs8Y7dunUTpRoRTjSSimbS5zAGnnjiCfF3htUbrikqmscuSDSHDx/W5IDH9OnTG7tIUyLnIEO4bYY7AyyxbgszxijaDpcHlFm9enVxQYECmJBAcYafsbYd7cA1rPmPP/64KPb6jlAuITjiHkT9m+UiCr+0HeFwfvDBB2ViYBdDm3vvvdfcfffdEmISf6sqgWKzw6davw6ob7jmx9HL+2k5eA4TgVmzZjn/n0AEHYxXuJKAqVswLtXNJV26dO5bzrmyCKdPEjv2nUp5QgIkQAIkQAJhEIi64j1nzhzz3HPPSdUIaacW0zDawiwxIgBLc/PmzUXphX81zt2iLhGwmiJ+MhTGkSNHShaNw65uKO7ncA7L9TfffCPWXSy6VGVT88HSDZcChIzDokvUDXcCt+KVO3duyY52JrT5EhRviNc2B2o/XE6gTGIxHvyCoXjDB3z//v1SR6hfOkHQcuFqA2svJh/qt41Y2RB9P1h2oexiMWGwEIOh6gx1zwtnfJGARR7WeRt9SH5QNsJLov/gk54/f/541bkXT8e7aRO8vJ8yQTn4IuaenNerV08Ubxv1JF41aJ/2fbybFxK89ImWFcnYD1Y/00mABEiABEggGIGoKt6wHMKyCLHh5SRGcbCKmZ40BOD7i9jaUH5btWolVl//mlUJUn9XTJxU8VKXAM3jfhbKORbcwYUD1mNVYtx5oOTBCgzlHHGa+/c772KifrhQpNQK7Y604i4j0Lm2x2ub/cuCKxQUb8SxhpQsWVKs3v75gl1rO3Q9AxRanXyo+4dyQRQTyJgxY+THv0wsQAVLLPjzKl44o2xYlVetXGWW/bxM3hcuOFhYC/9qSCQTAy/vhwkUOMGy7l5vgLqxwREknAmQZPT75aVPNG9ix5FfE3hJAiRAAiRAAgEJRE3xhnUKC+bwDynCC8KaSLm4BGBxxW6EsLLCr3nIkCEBG2TjOTvp+ELhjjqioQFLlCjh5MEJdhuEhRPKE0LHuTfjcWfEzogaihD+3ZmuyiS3sVkMBBvqRCKRtDlQPdg8BRKJoonn3FxsHGxx0UE6ysVkB3JDkfN8odiiL/xFlX5Yy90RYfzzhbqOhDP6ombNmvKDsjFxxhcOTJACuZKMGzfOCSMIdxxVkLVdXt8PdcDHGmPMXZaOF10EquXjiEncG2+8IUmICoNFwP7ipU+iNY7828BrEiABEiABEghEICqKN6IjwE8USjespRoPOFCFTEsaAnDZwCd8WPJgUcTuk8EEiwARWg6KF/xt9bO/3dRElEfsZqjRTVAGrNsIhwele+LEiY6VNFD5GAuffPKJ3NJFffDBxRbuEPgYRyJe2oxxCR9uRNfRd0OdSMM7Q26rWlWOXn9hQgM+iFICa7mKKofYIVInG3aTKb3tc4TVHf7RcMcJNoHxeSDAhVfOsMa7XUfwZeSZZ56Rkh9++OEANZyP375mzRq5B+XWrSwj0ev7tWzZUny4Ebrysccec+qEvzcEO5v6C77AfPrpp5KMMRBI8fbSJ17GkX9beE0CJEACJEACXglEZct4WFX1H+RAPt3FixcXn1KvjWP+yAm4F6bBbSR16vhzLLs7oCxORC3w9VUlGEo4rI0zZsyQyRR8lu0OjE5jsJ04lFko3oEsxfjyAT9mFUwAYMWEJbVBgwaycQysvLjGQjmNKKH5wz2G22ZE18E291CyoBzD9QOTRbWs4n1VmQu3bnc+fEl48803hQf8k+H/jbZBUK5/vGz3szhXxTuxW8Z74YzQfVC+sYkO2vvTTz+J8g+XlQXzFziTBXdb3X/n+KoV7gQ72PtBiUboSUw6oMjbHVLN6tWrZXygXrjv+P//BG5BukYB/RksDryXPgl3HLlZ8JwESIAESIAEIiEQXxuLoBQoYSr66V6vcYSCRklaAhqtAbXi83xCAsssfI8RdUOtwOg3WCLdSjfK0f7GMVB/79ixw6c6KJ/t27cXlwKNIw7lF9FTIlW6UUG4bcakA24JcPNQhVgbiHb16tVLLyM6IloMLN6ICoJQgRD4aiN6S0JKN/Lq3weicCRGvHBG3HFsWKO+zagXi17Hjx8fUOnGfXf73Oe4F0qCvR/8qzG5g4sO2oIfCBRqTGT8lW7/OkK1wUufhDuO/OvnNQmQAAmQAAl4JRAVi7fXSpk/eRPARirHjh0Tf2VVmqLRYmzMs2r1KgO/Wl3UFo1yUUY4bYaF9a+//pL48ogbDUtsNN8PExFY0TGZULeaaL2fl3LC5Yx415s3b5ZJAvyzdZGrl7qilReuLlhUCj93+P27XYISU4fXPglnHCWmPXyWBEiABEjgyiZAxfvK7n++PQmQAAmQAAmQAAmQQBIRSNy37SRqJKshARIgARIgARIgARIggUudABXvS70H2X4SIAESIAESIAESIIFLggAV70uim9hIEiABEiABEiABEiCBS50AFe9LvQfZfhIgARIgARIgARIggUuCABXvS6Kb2EgSIAESIAESIAESIIFLnQAV70u9B9l+EiABEiABEiABEiCBS4IAFe9LopsS18i4uDiD2M6xkBMnTjgb6oRTPtpCuTIIHD161ITb317H0ZVBkG9JAiRAAiRwuRGIieINJa9mzZqmQoUK5vnnn7/cmF0S74PNUbCtN/oAOwAWL1HcYKv3li1bymYzgV4Cu1C2aNFCNpZB3vr165s5c+bEyzpt2jQpBxvQ3HzzzVIuth4fPXp0UCV82LBhpkqVKtKWMmXKyA6Z2Co8sRJum/3rWblypbABH+ygmVg5d+6cmTRpkqlbt66pWrWq7AAZTplvv/220w5s7pNYwd/e4MGDTfXq1aUda9asiVdk//79nTrx/oF+fvnll3jPhZOAnU+xAyZ2xixZsqT0N/r9yy+/jPd4JOMoXiEhEmbOnCn9gbGMsYqxH4xxpOMoRPW8RQIkQAIkQALxCMRkA52nn37a6Nbg1apVMxMnToxXMRNiS+C9994zffr0kUoyZcokuynu3r1brrFb4+zZs02RIkWcRkDxaNSokTl+/LhBfvxAeYdAOYQSrlKqVCnZ/RHX2GkQuw6qEn3nnXfKVumaF8cXXnjBfPDBB5KEXQmxpTx2FITS/u2330a8e6SXNrvbAyUZyrFul44t4//zn/+4s3g6HzdunBk+fLg5dOiQ89x9991noOCGku3bt5vbb7/dmax8//33Pn0S6ln/e1C4Bw0eZCZMmOCUhzxo2x133OGT/cknnzRff/21Txou0Ccqy5YtM9dcc41ehn2Ekotyrr76apM1a1ZRdLVcjMeHHnrIKcvrOHIeDOMESn2nTp0kJ97j1KlTMmYxrqGQFyhQwCkl0nHkFMATEiABEiABEgiTQMow84WdDf9gQ+mO5lbcYVfOjA6BbNmyibUPCjasl0uXLjULFiwwOXPmFMWoZ8+eTl6cDBkyRJRuWCnXr19v0I/333+/5Pnf//7nkxdbvr/44otmy5YtZsmSJWbDhg3mmWeekTxQpN3WUmzTrko3JmA//PCDPJM2bVrz66+/mm+++canbC8XXtrsLvf1118XpTtaYxQsoHRjIuOezLjrDHQO63C0ZM3aNQaTLSi5NWrUMBkyZAhaNL4+oO/8fzBBgpQtWzYipRvPDhw40KxYsdLgi8K8efOkj2Fphrzyyity1F9expE+E+5R3wXKN8byqlWrzE033SRj/LXXXvMpJtJx5FMIL0iABEiABEggDAJRVbzxj37Xrl0NlKpHHnkkjOqZJVYEmjVrZt59911RNrQOfP5XZdqtHMNaDSsgBMpRihQp5BwKNQSWciguKlOmTDEPPPCAM7mCAtulSxfpd+SBoqOiSnfFihUNvn5Adu3a5VjI9b7mD/fotc1a7p9//mlGjhxpSpcuLS4Rmp6YY+XKleWrDizWcNsIRyZPnmwV1BXmsccec7iF81ywPBkzZjQNGzYUZRdMs2fPHixr0PT3339f7ukY8c8IK/mIESPkR8eGf55WrVqZHDmudpLTpUtnnn32WblGn+lXFCR4GUdaIJ7XNgQbO8uXL5evMPj/UPfu3eXRUydPyZcWXEydOtWx7kc6jrQ9PJIACZAACZCAFwJRVbyHDh0qShqsTVmyZPHSDuZNIgJ58+aVmqCoqWzatEkUYSgqUEghULJgJVeBZTuUQPnWPoeLgYqWUbt2bUmCmweUdJW1a9fqqadjpG3GxBATRFh9oyXw7dZJRThlHjlyxPTu3VvcMZ566qlwHkkwD/zm33rrLVO4cOEE8wbKsG7dOnELwRho2rRpoCzmnXfeEf9x+JBrvwbM6JeoeWGFz5Url99d38tg40hzbdu2zWkD2hFIdKyWL1/emUT2fbGvWLuRH8r2xo0b5dFIx1GgeplGAiRAAiRAAgkRiJrijc/WsCTiH/4OHTokVC/vXyQC6nuPBW8q6uusPr3wF+7Ro4dYYtU/GFbqUAILOny9IW4lVNNUIRw1apSBb3Pbtm0lL5QgKONeJZI2f/LJJwaLDdu3b+/JJcRr2xLKjwXHJ0+eNIMGDTJp0qRJKHuS3IdSDbnrrrucLxmJqXjRokXmq6++MvAnx1iCwOVEv6YEKzvYOAqWP1C6jlV84YHA7QWTI6wpyJMnj6TBBQoSyTiSB/mLBEiABEiABCIgEDXFu3PnzlI9FplRkieBL774wvGvdvt466LLzJkzS8P79O0j1sGXX35ZolIg0e0i4P92sCB37NhRkuGmAD9ylYMHD8opXB+g5MC/Fgq+e+Hh3r17NXvYR69tRjvwJQaL67CY8mLJwoULzfTp0w3cUxABJTnI6dOnHV/7Bx98MKwmpUwZ/H8dmEhhYvXEE0+IOwkmGfjS0K9fv5BlhxpHIR/0u6ljFesc0BbUDUHUHf0qo+NHj5GOfb+qeUkCJEACJEACIQmkDnk3zJuIpICFck2aNDH45E1JfgTgk6u+tlgAp9ZttPTs2bPSYChTsA4ivB4W2LVu3doMGDBA7p05c0aOgX5169ZNlGpEONFIKppPn4OlE4oYlCtYvd0LGzVPnTp1zOHDh/XRgMf06dPLAk2vbX7uuefExeDVV181bjcb/0rw5aZNmzb+yfGuoTjD19iLwLqvCyrhlpVcBP2NfkH/qatRoLbBpxpKOiSUywj6GhMxuNQgHOWBAwckMg7cnPC1IZiEGkf6DMaluq7AfzyQ6HjCeEYf4QsLuOOri4479AXE6zgKVB/TSIAESIAESCBcAolWvBHNAfGi4RuakEUr3EYxX3QJwNLcvHlzUa7gX41zt+jnd1iF8eUCygnchiAaIs+tqLufheUakUlgScRiOVVsNA8s3QhR+OGHH8qiS9SNOM+qwCFf7ty5JTvaibBvoQSKN8RLmxFJBdFd4GqAOOWhBBu57N+/P1QWuZfQBCFQAXAtgRL66KOP+oSzC5Q3KdN0UWW7du1CVhvugk0o3u5IOIimg/CKSMOkJpB7TULjSBuG8aV9r2n+Rx2rcFvBFwZMKNSXHpv6QHTMaVmRjH3/enlNAiRAAiRAAgkRSLTijSgRaj0KZO3GP3zwtYQ1C/G9KUlLAD7WiK0N5RcRJwJtaKRKiPq7wjqcP39+aaj6wmoed+uhnMM3GJMubJCiSow7D9xOYHGEcg43j/79zse2Vj9cKFKqiLkjrbjLCHSu7QmnzYhyAcFXGfX7dZcJlxr8wBUHUUlg9Y6FIIoJZMyYMfLjXwcWoIIlFvwllWzevNlZaJiQ4h1pmxCrHGEqsYATFvAGDRr4FBXOOPJ5IIELHRvz58+XnHAx0Qmhuj7pWNW84YyjBKrlbRIgARIgARJIkECiFW/4RurCOXdt8LOEsgdF4tprr7VK2floGu48PI8tAVj3GjduLFZW+BMjXnEgQTxllUKFCvlEHdHQgCVKlNAscoR7ESy4UGgQGi9Y/OpixYo5oQjh353pqkzyPELvQbChTiTipc0Yn4HGKHYxhIsFfIFhzQ3lghJJG/2fgRsHLN7+snXrVkmCZdYdEcY/XyyuEXIScuuttyYYghCb8WgYQViuww2diPJ16/jffvvNR/EOdxyhDAgmcW+88YacY5MeXbgpCRd+ucfqPffcI25TuIWNcvD/JMgNRc6PeS/jSB7kLxIgARIgARJIBIFEK97YqW6e3SjDX2DFgmJWqVIl7lzpDycJruGygbBwsOQhggl2nwwmcBOB4vXjjz9K3G+4CkAQlQKKCsLAaXQTpMO6jXB4ULqxKU6gLx3IB8FiS0QTgWADEwh8cMeOHSvn9957rxy9/vLSZnAIFCIPyiPeGe43idm5Mty29+3bN2BWbGeOr0Zwxwk2gQn4YCITMenApAkSzqJKuBLpFvRQbv0Vb3yxwHiBK5Fb8P8HbMoEgW+8ipdxpM/gC8ynn34qlxgDgRRvTDIxZrGoE5Z2FVXYb7vtNmcC6GUcaTk8kgAJkAAJkECkBBKteEdaMZ+LLYE333zTwI0AgtjHtWrVilfh3LlzjUangCsQlNBZs2aJH26OHDnMjBkz5Bls8qL5kOB2GQqk+CCiBfyYIcWLFxeLIzbgQag6uBnA5QKWS7ieaFhByezxl5c2eyzaU3bEPNfdEDVKBtxW4GYFgcJds2ZNOY/lL6yxgCsHRF2E4FqkETug6MK6r4KJFRR+KKn16tXT5IiP+DoCP264F0Exhz8+YmpjkSUEXz/cireXceSlUZgQPvzwwwZ/A1jsi9CG8MlfvHixFINx45bkMo7cbeI5CZAACZDA5UkgZoq3+lTq8fLEl3zfSqM1oIVQchMSWAHhe4zoD1DAIeg7KN2IxewWWEohOOLzvb/s2LHDJwkWSkSzgGKmccThY4toGqoU+jwQ5oWXNgcqUicTiR2j8FdXdxGtB5ZfTdPwdnrP/6j1a3v874d7DYuz1qnPwMdfY6lrtA+9Bws75O677/aZWOl9/6O7fe5zzQdrPRY24n3Vv1rvoQ4swtavKUj3Oo60LD0GaoPeQwQfWLzhSoPwjRC4vSGiDr7uuCWx48hdFs9JgARIgARIIBSBFNb3Mi5UBt678gjAD/fYsWNiqValMBoUsDHPqtWrDPxqdVFbNMpFGbFqc7TadyWVgwWM8J/HGIIfNtzRgoX+izUXKPf42oIJnro6haqT4ygUHd4jARIgARJILAEq3oklyOdJgARIgARIgARIgARIIAwCwbefC+NhZiEBEiABEiABEiABEiABEgiPABXv8DgxFwmQAAmQAAmQAAmQAAkkigAV70Th48MkQAIkQAIkQAIkQAIkEB4BKt7hcWIuEiABEiABEiABEiABEkgUASreicLHh0mABEiABEiABEiABEggPAJUvMPjxFwkQAIkQAIkQAIkQAIkkCgCVLwThe/SeBih2hFDOxZy4sQJZyOUcMpPLmHjz507FzMm4XDQPKdPnzb+G9vovSvtmFzGxpXGne9LAiRAAiSQdASionivW7fOVKhQIeBP3bp1k+5tWJNDALsHYqdA9EuhQoVM8RLFZSOTli1bymYzTkbXCXahbNGihbnxxhslb/369Z0tyF3ZzLRp0wzKQb6bb75Z8pYrV86MHj06qBI+bNgwU6VKFWlLmTJlZIdMbFeeWAm3zVrPhAkTZPv2woULCxO8Q+fOnfV2xEco8pMmTTIY71WrVjXjx48PWhY2denVq5e55ZZbZFMXbChUvHhx8/bbbwd9JtwbmGANHjzYVK9eXdqxZs2aeI/2798/4N+q+28Yu2AmRrD7aevWraUN2A01mJw6dcp07drVYExgnGKMjBgxIlh2T+kzZ86U/sAGPuhnjFls7BNIvI6jQGUwjQRIgARIgAQSIhCVDXQWL15s7r33XqnLf6fDHDlyyFbhCTWE96NL4L333jN9+vSRQjNlyiQ79+3evVuu0UezZ8822OJbBYpHo0aNDLY6R3786FbnUAihhKuUKlXKHDlyRC7z5csnW5KrEn3nnXfKttyaF8cXXnjBfPDBB5J03XXXGWwpD+UTSvu3334rW9O784d77qXNKBPKrm6TjvfD9uZoC3hs2LAh3Grj5Rs3bpwZPny4OXTokHPvvvvuM1Bw/QVfCLB9utaXM2dOkz59eoNt5ytXrmw+/vhj/0fCuobCPWjwIIOJhW7FjgfRtjvuuMOnjCeffNJ8/fXXPmm4cD+3bNky4RMvUwIJP/zwg0z4Nm7c6OTEJGfevHnOtZ7A0o8xh7zog2uvvdZRjB966CFn/Gp+L0dMDjt16iSPoJ+h4GPMot+hkBcoUMApzus4ch7kCQmQAAmQAAl4JWA/7yZaFi1aFGcVqrjmzZsnuiwWEB0CU6ZMievYsWOc3QLbKdAqGHHly5eXvrLWSCcdJ126dJF0qwjFWeut3LMKs6RVqlTJJ2+zZs3irEU37uzZs5KOo1U8JS/Gwfr16538Vtl30q1SJulIs1ZeSUc7IxUvbbZfZZx2fPXVV06VaPvcuXOd60hO8M74qVWrlvzg3Cr5AYt68803JW/JkiXjfv/9dyePVQrjlixZ4lx7PbGTX+f9rNIfV7RoUbn+7rvvwi7qnXfekWeaNGkS9jP+GRs2bOi83z333CPnNWrU8M8m15999pnctxOwuL1790ra3HnzJA0MNS3gwwkk6jh/5ZVXJCf6uU6dOlK2nXj4PO1lHPk8yAsSIAESIAES8EggKq4mXpV95o89Aascm3fffVdcGbS2ggULmvvvv18u3a4EsFbDCgixiopJkSKFnKtVFpbyVatWSRp+WWXZPPDAA46lGtZKq7yYtGnTSh5YS1XU0l2xYkVTrVo1SYZ1Vy3kel/zh3v02uahQ4dK0Y8++qixiqVTDdpes2ZN5zqSE1iqJ06caL7//ntx4QhWhv3bNGPGjJHb+Irg/uKQOXNmc+uttwZ7NMH0jBkzGqv0imUZTLNnz57gM/4Z3n//fUnSMeJ/H1ZyuIHgR8eGfx47oRBLP8ZL+/bt/W/7XGt96BNY/iHr1q518gQaG/gKo20IdB8PL1++XL7CYDx2795dyjt18pR83cDF1KlTHeu+13EkhfEXCZAACZAACURIIHWEzwV8DH6uUOigYMCnUhWxgJmZeFEI5M2bV+qFoqayadMmUYTRX6VLl5ZkKFlLly7VLMZaY03ZsmWda/8TKLBZsmQRhSdr1qzObS2jdu3akoYxAiVdZa1L0dK0cI5e2wyfY8gjjzxi0IZff/3V5MqVKyJ3Cv/2wbc7HPnzzz/F3QFKJnyZ4f4ABfbGG240ma7KFE4RQfPAR/qtt94Kej+hG1inAf9njIGmTZsGzG4t4kZ9xjFRKFasWLx8gwYNipcWLEGVd10HsnPnTvPaa6852XXsOAn2ZNu2beLDjjSMtw4dOrhvyznGKsRavZ1JZN8X+4obFdKhbMO9Ba5OXscRnqeQAAmQAAmQQKQEomrxXrFihVjd4LcJxRsL9fCPKSX5EPj888+lMVD8VLSP4AsLgb9wjx49RAlT/2BYqUMJJlz79u2TLGrZxoWmwc8XMmrUKLN9+3bTtm1buYYSBEXYq3hpMyaC8F2HUgkl2bphiG8xFjdCYV24cKHX6iPKD6URAku3dQOSdkDJxcLXBg0aiFIZUcFReAhKNeSuu+5yvmREodigRcCfHH0PweJHyBNPPCGWaOuiItfW1USOXn/pWMUXHsjKlSul36Fo58mTR9L27NkjRy/jSB7gLxIgARIgARJIBIGoKt74hw3WK7Wa/vzzz7IoDwvKKBefwBdffCGWayigPXv2dBqkiy5hxYT06dtHFNWXX35ZIk0gTRda4txfoERBkYTATUHdBnB98OBBHMT1AUoOLJpQ8N0LDyNRsLy0WZUsKHqwyGIRX5s2bcQNBwsi27VrZ2CNjrVs27ZdqoAl1/pem9tuu00if1x99dVigYd7UCSTkMS2GyENv/nmGynmwQcfDKu4lCkT978O7RNUhsWl+MICFyUszoXyD9GxIxcefulYzZYtm/BE1BQIou7ASg7R8aPHSMe+FMZfJEACJEACJBAmgai4mpQpXcasWLHS5MhxtVPt5s2bxYqHSAJDhgwx//vf/5x7PEl6Avis/+yzz0rFAwcO9HGxsAvPJB3KFKyDdtGbuJUgHNyAAQPkXqhY0926dZMvG4hwopFU9A31OfiNq0UTVm+4pqhoHrv4zRw+fFiTAx6hpCFyhpc2Q7FUuemmm8ysWbMcFwREawEbhOCD7/CWLVtEKdf8wY7w60Z+L3L69CknOxTcvn37yjW+MJQqXUq+DkyePFmUcSdjEpygvzF5Qv/ppDlQtfCpVpZw00mMaJ+jDP3CkiFDBoOxCbcXiPaxXFz4BXcndUFJly6d+5ZzrmVjPKOP8IUFIQ3x1UXHnVrbtY5Ix75TKU9IgARIgARIIAwCUVG84Z/q76OKz+kI54Uwa+7FdmG0iVmiTACWZhtxRpQr+Ffj3C36+R0WRsS0hnIycuRIyaIh8tQNxf0czmG5hrUUlkQsulTFRvNhkR/cPBDGD+MAdcPFQxU45MudO7dkRzvh9xxKoHhDvLRZy8dzcO3QxaO4rlevnijequzh68z+/ftxK6QkNEEI9LC7HZjUqOBvByEasSBx9erVSa546yJHWP5DSSQLNoOV52bRvUd3GSP4fwUszzrm8CXAXzC+tO/97+m1jlW4P8GNCBOKp556Sm4fPXpUjlq/lhXJ2Nf6eCQBEiABEiCBcAlERfEOVhk2BYHA4kS5OATgY43P91B+W7VqZZ5//vl4DVElRP1dn3vuOZM/f37Jpy4Bmsf9MJRz+AbDdeXLL78MqBDB7QT9D+UcMZT79+svRagfLhSpNGnSSJo70oq7nkDn2p5w2gxlHfXAquv2bUe52DQGoso2onLA6h0L0TajLfq3ofXAkgvFW7loeqyP+DKlMbcTUryj2RZ3n2BsYDIGVxuIMsAeAJGIcp4/f748DhcTMIeo+4oq3Jo3nHEkBfAXCZAACZAACSSCQEwV761bt0rT9B+3RLSTj0ZAANa9xo0bmwMHDojvPVx+Agl2TlTB7oHuqCP6taJEiRKaRY7YqAX+0lBo4B7hDo3nzojIFxqKEP7d+mUEofcgNl6zO3vY517bDNcI+PPifVTZRmXatkiVvLAbbDPqYj9MAGx8dVlcqc9rdBeNOqPpsT4i5CQEoQwTsmhjMx6NRAIfeTfHSNqpG+ZgDLnddlRhxpoRf8Ek7o033pBkWMSxCNhf3GMVCzU1Gg82ysEEFHJDkfNj3us48q+L1yRAAiRAAiTghUDiVkhdqGnOnDnxXASg5NjNQiRHYuITe3kZ5v1/AnDZgFsFLHmw8obajhxuItpH8IFWVwy70YwoKvC91egmqAHW7d69e4vSjfjViAwSTNwxoVE2BD64Y8eOlXPd8VQuPPzy2mZsFw7x37ER/t6QQEqe3IjiL1j/1YcaC11V4HajEwC9r/diecQEAJMmSDiLKuFK9Omnn8qPuuYkpn0avQQKv7qVIKQhfPghgUIF4guMtgFjL5BggTfGLARfMFRUYceiVp0Aeh1HWhaPJEACJEACJBAJgahsGY/PxPhUX65cOdmKGed2N0v5tI9/2H5c8qPzD10kjeQz3gnoYkE8CbeR1Knjf9ywOzYajU5hdz40qgRDCYcFeMaMGdKH8I/FNuMqCP8GpQ2WSvfW23ofoQKxKYoKJgBQLOFqgrB5CDuJryG4xkI5jSih+cM9emkzFDaEOcSiOlhE7W6c4k+NtkBgZYW1PxKBMq/xpzHhPHnypLyb+hpjEWXNmjWl6NmzZ5uHH35YzrGwEy4P2LwIz0Ex/+mnnxy3CK9t6devn8EkGAIFFn2EMpUvJkyI9KEC5R99CyUVbj46FvS+/xFfTzSO90svveRsxuTOh4mehorEFxe4OmGc6JcNlPHMM8/II/DlhhIMKzTuo08wEcKCbFjT3ZMTrQOb4+gaBfy/Rb8U6H094usOJv6oG3788MnHeIFAcdeJJq69jCPkp5AACZAACZBApATia2MRlAR3ggULFhiED8SPCiI/uN0LNJ3H2BPQaA2oKRwfeyhA2FUR0R90sxkoLY899piP0o3yoNDpEZ/v/WXHjh0+SVB0sIsh3Dw0jjgUTkTTUKXQ54EwL7y0Ge5OmEjAymq3tJcfVAPlDQpapEo3yoBPsrpV4RoCZVLTNLwd0mGNRX1QPnW3UKQj7j2+AoB5pALlWevUMqD4aix1jfah97DgFXL33XcnqHQjn1sxd5/jnsqxY8fitQHjRdsFn3IVTAKmTZsmaw8wUcAPBEoxXJkSkmBtwHOI4IMJEFxppk+fLkVhLQIi6riVbtzwMo6kIP4iARIgARIggQgJRMXijboREmzrH1vNPmvtzmIjExS9qSit3BF2ysV+DP7HUKDgG5sYRdD/PTBGVq1eZeBXG22/fy9thiKKHQsR7QKWVnWt8W9vrK8xaUEMc4S5g2X6ShZY/KGUly1TNqr/34DSj68tmOCpq1Mozl7GUahyeI8ESIAESIAEAhGImuIdqHCmkQAJkAAJkAAJkAAJkAAJnCcQlcWVhEkCJEACJEACJEACJEACJBCaABXv0Hx4lwRIgARIgARIgARIgASiQoCKd1QwshASIAESIAESIAESIAESCE2AindoPrxLAiRAAiRAAiRAAiRAAlEhQMU7KhhZCAmQAAmQAAmQAAmQAAmEJkDFOzQf3iUBEiABEiABEiABEiCBqBCg4h0VjCyEBEiABEiABEiABEiABEIToOIdmg/vkgAJkAAJkAAJkAAJkEBUCFDxjgpGFkICJEACJEACJEACJEACoQlQ8Q7Nh3dJgARIgARIgARIgARIICoEqHhHBSMLIQESIAESIAESIAESIIHQBKh4h+bDuyRAAiRAAiRAAiRAAiQQFQJUvKOCkYWQAAmQAAmQAAmQAAmQQGgCVLxD8+FdEiABEiABEiABEiABEogKASreUcHIQkiABEiABEiABEiABEggNAEq3qH58C4JkAAJkAAJkAAJkAAJRIUAFe+oYGQhJEACJEACJEACJEACJBCaABXv0Hx4lwRIgARIgARIgARIgASiQoCKd1QwspArncCMGTPMjTfe6Pzs3LkzKJKjR4+aYsWKOXknTZoUNC9uNGjQwMn79NNPh8zLmyRAAiRAAiRAAsmXQOrk2zS2jAQuHQLHjx83//zzj9Pgf//91zn3Pzl79qw5efKkk+w+dxJdJ/v373fKPnTokOsOT0mABEiABEiABC4lArR4X0q9xbaSAAmQAAmQAAmQAAlcsgSoeF+yXceGJycCqVKl8mmO/7X7pv+9lCnD/zP0f9ZdLs9JgARIgARIgASSN4EUcVaSdxPZOhIgARIgARIgARIgARK49AmEb2q79N+Vb0ACJEACJEACJEACJEACF40AFe+Lhp4VkwAJkAAJkAAJkAAJXEkEqHhfSb3NdyUBEiABEiABEiABErhoBKh4XzT0rJgESIAESIAESIAESOBKIkDF+0rqbb4rCZAACZAACZAACZDARSNAxfuioWfFJEACJEACJEACJEACVxIBKt5XUm/zXUmABEiABEiABEiABC4aASreEaI/fuy4OXfuXIRPJ+1jCNWO9sZCTpw4YUJtjx6LOllm9AhgDMdqbHgtl1sKRK9fWRIJkAAJkEDyJBAVxbt58+amQoUKQX+qVq0a7+3xD/6kSZNM3bp1De6PHz8+Xh4kdOrUKWi5kydP9nlm7NixQfN2797dJ++6deuC5kWbAsnevXtNhw4dTKlSpUzxEsVN4cKFTeXKlc2SJUsCZb+oaX///bd56aWX5B0LFSok7b3++utNy5YtzW+//RawbX/88Ydp0aKFufHGGw3y1q9f38yZMyde3mnTpkk5yHfzzTdL3nLlypnRo0cHVcKhhA0ePNhUr15d+nvNmjXxyo0kIdw2+5e9cuVKp/8/++wz/9uer2Mxnj03wj4QDuedO3eae++9V8YxxjDGMvq7adOmZvXq1ZFUK8+cOXPGjBkzxtSuXVvKQ7kFCxY0NWrUMLNnzw5Y7qlTp0zXrl1NmTJlDMZplSpVzIgRIwLm9Zo4c+ZM+f8L3g1jFWP/r7/+ClhMpOMoYGFMJAESIAESIIEgBFIHSfeUvGvXLnPw4MF4z6gl9JprrvG5N27cODN8+HBz6NAhJ33z5s3Ouftk69atZt++fSbQVtn//HPGndXs3r1b8iLRP//x474W3yNHjgTNG2gL740bN5pmzZoZLSd//vzmn3/+kTqhREJhSE4C5RgTEUimTJlM5syZpa3Lli0zDRs2FEWoSJEiTpOheDRq1EjeD/mzZctmNmzYYB566CHz9ttvixKumTGJAT9Ivnz5hOOBAwfMq6++atauXWtGjRqlWUURHDR4kJkwYYKPUo5JTGLFS5vddUFJ7ty5s9P/gcauO39C57EazwnV674PhTtczjt27DCLFy+WvxH8baZNm9Zs377drFq1yjRp0sRg7JQoUcJdfFjn+P/AgAEDJC/KzJs3r5SLfnr44Ydl4tW6dWunLCjqjRs3Nvjbwt/rddddJ4oxJmj79+83ffr0cfJ6PcE7YNIOwTtCwcfYb9CggYFCXqBAAafISMeRUwBPSIAESIAESCBcAtgyPlZy3333xdl/TOOGDBniUwXS8FOrVi35wXmvXr188uiFtbpKXmuJ06Sgx/79+0veYcOGBc2jNxYtWiR5rbVek0IeW7VqJfmtchp37OgxJ6/9RzvOKqjOdXI5mTJlSlzHjh3jrHXbaRLaWr58eXkPqwA56Tjp0qWL835WMZV7L7zwgqRVqlTJJ6+dgMTZLxRxZ8+elXQc7URK8qIv169f7+S3Cp6TjvFQtGhRuf7uu++cPJGeeGmzuw6MR7TTWnvlaK207tuez1EWfqI9nr00xAtnO9H4v/bOA3qKItv/hUdXFEUFfWJadeWAETBgwISKOSsYEBB0MWdBMYJiBPUZMaxhQRAjiuiKEUyYQUXBVVeX1d23/hXDgyeoe87vX5+rt63pX89Md8/Mj/nhvefMdHd1hdvfruq6devWrQYvmDb88MMPURFffTU3aovxuhFFKnPyxRdfNPhBXcOUKVOimN99912Dfgfat28fhXPiZxoENz9r0uAHYnJvytSpEgaeGlaQKOWF1vPLL79cUlBHe/ToIXmfdtppBbnkrUcFmdiFIWAIGAKGgCGQAoGqmJokCflos59//nm55TvegiiYZ4wbN84999xzMt1fcLMOL9CIvfbaa6KVwyyh1XKtIi6ZSvfCZHRdLydo52+//XbXoUOHiCV4PfLII+V61qxZUTiae7SAkBdUXIsWLeQcjTfETALaUCUv1Lv+/ftHswpoK73wIppT4qBZVFp22WVFwz516lQ3ZswYt9JKK+mtio5ZedbC5syZ42666SbXqVMn17VrVw2u6FgP9TkLzsxmMOuBVlqpbds2bsCAAXKJBjqJHn30UTEDwRRE60YYD80ymubu3btHwa1bt3ZnnXWWXPPOPvvss+je6NGj5fzYY491K6+8spy/52dMlKgvccKEivL5Jd0n/ltvvSWzGTyfmpgtXLDQoemHHnvssWj2JW89kozszxAwBAwBQ8AQyIhAVUxNksocO3asBGP7HTc1wbY7K8315iZ0qGussYZr165dyeQs+MOGd4UVVhA7bBUkkxJhdoAQ6gcpYgcaCiManwEChCkGAg6mL167J0LtUkstpdGaxZHpf4jnUProo4/EbIZnRyCFELIYbChhx96lSxe9bHRE+EbIAhtwV8J295ZbbtHLqh3z8ow9MSZQflbEnXvuuVXhp9b1OQ2T1cCZ9gVtuOGGiUX+6U9/cmqbj+nS+uuvnxgvHhi2V9IpqfCuayqwPb/mmmv0dkH900AEd0xRIOobay7ipGsuvNY7GkQOu2hYZCaGsM3ggvUJeetRvEy7NgQMAUPAEDAE0iBQM423arOSOsY0jMXj9PfaOBZxol2kwy+m7SIdgh4aXz/1Lwu2zjnnHOen1eNZyvX06dNF+4dQzQIsFhciAISE/SvEAAJtHoMJ4vupc3fyySeL/WgYv57PH3roIWEvtEnX59UBEvbCQ4YMEY3oLrvsIvGx3y1FDF4QuqHtttuuVNSq3MvD87333iuCY58+fVxo314VhjJmkqU+Z8w6dXTe81Q/E4H9Pe2UmQyI2Yxqki5epX6hbYcY/CAAQyx+hE455RQJP+yww+Q67zoAravM8EAMwhkcIWjrIICBM5SnHklC+zMEDAFDwBAwBHIgUBONN6YGTAmjQWXxVKVEZ40WjvzQuLGQz9sfiwZLF1BpGaq1xaTh448/dizOvOeee9wnn3zi7rvvPo0WHemMWShJR0zeb775piwkRNurWmEVvFmsiGaXZ0KL/vjjj4tm2NuPikePKNM6PZkwYYJ4YAGjUNuLKQmk2sihw4YKtmgWVSvJ+yxGCFHenlxuY8qiZgPF4lcjPCvPLKCkzrBw1K8nqAYLufPIUp9zF5Ii4bRXpsmixzAq5kmqgQ7D4+dJC5DjcbjGtEc11COuvDKKooIvAS1btpR2xHdj7733dvvss49jkJR30avWVXBmRotZDgivO8ccc4yYTmn90WPeui8Z258hYAgYAoaAIZASgZoI3kxJQ7gnQ1CthPAYgecMJTpS7DbRYNGh9+vbL7K5HjhwoNiThuYfjzzyiDv11FPdq6++6l588UVxZ0denTt1dtOnz3DYtirhWQWvB3js8Avw3IUXXii3VDPHxZ3e7WF37x4NwkMD2lPsWtGyqRmH3KyzPwToQYMGCVdXegFItdsEMHCAEKbQDqKhxKyE51MvFXigKEbgi+aQ91SJJwq/+M35xXjFipFwhDTeY1aeBw8eLBpWPK/ogCqpIAZohx56aNKtgjBmXvK4vctSnwsKrMEFMzwMmDDfmOo139RzZjratGmTuPaCWSadOVpllVXKcoRGvXfv3qLFZrZqJ+9mUCmsTzrDsswyyzjqJq4+IX3HmoYj9VJNoJZeeunwVnSueVOfeUcMnJmZwnWifo+0TWsZeet+VKidGAKGgCFgCBgCKRCouqkJnaj3WCFF62KtFHwUjRIK3USig0R4QmuLpnXW7F8XCSJMhkI38TE5wTQEUttPzlkgGQrdhGF+oBr0cIGgCqmUueMOOxBVCP/j2pGrsKD36umIUIzgA14sguQ8JJ1+R8OImz2eiQWIkLp8VAzCdJx7TzJu0qRJYm+LqYLiEY+X5ho+cSNX7kdeWXhGUMePNLMbmBKVItYHlCuf++UGCMXKyFKfi+VRrfB11llHBpcMlPHtTt3AXIiZgSRiFgnc+ZV7z9S1Xof0EqEXYZmBbEirrrpqdHn2kLNlhoV2jeZZ6xwDgDhRrvJQbKGu1lXMn7DlB/PTTz9dspo3b54ctfws9SjOi10bAoaAIWAIGAJZEai6xnv8veNFwMN8I48v4DQPoJ0vm2GgoSznnQLNHgvHMDspR7qwTM1LiK/aPe6FCzUZBGCfygIttRUtl39T30eQYvoe/+PeJWLkYSLkQ4UQfQa0w7w/SE0CNE6YDuEcoY0BCTMLKsSEcbKch55WyqVTftLwrIsGZ8+eLRu6xPO+9NJLHT9McRikUaeakrLW51rwRl3mvbM+wruDdAioan6RtTxmpZgJIh+0zJh4xQV1Zi4IQ0Bn4EYbZpAMqY1227ZtsxYt8bVuqFclTEy0fDVf0bqqcdPUo1zMWCJDwBAwBAwBQyBAoOqCty6qpOOtFeGBRBdeeX+/ZYvBHSAUbpohAQl/Kpxrh0wUBHcovuMjfGDDCsU1mRK4iP8QnrBHxyYeu9241lHZY5GoElpQNJ9KqvmPD6JYkDdixAgRaNhBtKkXK2bhGeGPX5wYuCH4YQuM9rSUCUo8bTWvs9bnapYd5gUf4AHRDtTDjcbBTEZt/jHH0Zkkva/H4447TjboQbjFOw5CdhLhoYh3gFAcmu2owMwMRZwYEF9//fUSjEYc05g4hXWVhZrqjYfvgG6A1X69n+t8lnoUL8euDQFDwBAwBAyBrAhU1dQEcwvdkpktqSslOsokEw6mpBcsWCDZ40YNQmCY6u1UER5CwswA+26oW7B1PVuhs5tdSCy0uuGGGyRo6623jm7hwQStLmWG5irYmqqtaNjZRwkX4QnPho09mjw8mLD7ZDHCLZs+L36/Vas/ceJEEVSwvVXvJuSBdvv8888XgQl/7PoOiuVfi/AsPIMDdSP+05kSBhrcSxL0qsl7lvpczXLjefGsOmDUe7Qf7KshBOGk+owpEdprfkntkrT47MYnPEIxi495T8VIvZcw6FGzEr4ftFkoySMSMzDKA3UviRhkUmehjTfeOIqiAnu3bt2idSFZ6lGUkZ0YAoaAIWAIGAI5EaiqxlsXVdKxoUUsRmjB1F+vehVgmv+ll16SJMOGDXPdu3eXTVtYuIc2GTMPOlO/g2Uk3NPJq5YSTRYeNehI6WzRtmEyoBu/IFjqokgKQVOGre6mm24qmnDO/W6WIsCTx+BBgyP2EboZSKDNP+KII8ROGFtydZPGZiT1pvFmAMFiUYjFc7hWjJPfYVBs5gnXBahPPfWULC5kmn/y5MmSBA0mpghKZ5xxhp4mahxZUMemKErDhw93DHQgNV3h3akpA4J8qfqi+cSPWXiOp63mdS3qcx7+0uLMIkneB7MAzObMnz9fFiyqtru/dyeophlZ+MCkB6EYYtFikj09sy464KEtYa6EORQDO79DqqP+wQfa9LwbU8E7W9TTBljsS7vGJt/v7im8UW9Cqpd6FPJk54aAIWAIGAKLJwJVE7yx68S7B0THXYqw4VSTDo2H4Kxh6g6MRVII22ht1QaT+AjCLAALNWJLLrmkaM0wq9AOVvPG7CXuQg5f4C+88IK4D8SFoBLeKhgUhLtTcu/iiy+WKAjf4YYpmHJcecXPmkLNox6O6q0BXkJ79WK8MVjyW6eL9wedIUCAQej2W2wXJFMBjSNa3DjpDoEaju22vlsNQ9jiB6kXCr2X9piF56Q8dTCRR8gM86tFfQ7zT3ueFmeEWt4x7yR8L7QrvH/wSyLFi3vhucbV2R+u8QzEL05q6kE4gy2+Gaw9QNOts2UMkjFlKkdJPGgaPPgwQ4V7xCeeeEKCeb5Ro0ZFszsat9J6pPnY0RAwBAwBQ8AQKIdAC2+aUWibUS7FIriPcIAwhzCJLTEL/9QcIs4OGlU6cDp9bEjR6BUTrPDA8unfP3VfeW13a+9NoWOHjo0E7nj+CJvYetOpr99x/bLx4+mbwzXPhxYU29hi2NXbczQnnrPU51rizGCWQQMCM64wWS9RSpitJS/MfDFD06Vzl6q2Kdors17MrmBGVY6aUz0q9yx23xAwBAwBQ6D+EGgWgnf9wWYcGQKGgCFgCBgChoAhYAgYAtkQ+NVwN1s6i20IGAKGgCFgCBgChoAhYAgYAhkQMME7A1gW1RAwBAwBQ8AQMAQMAUPAEMiLgAneeZGzdIaAIWAIGAKGgCFgCBgChkAGBEzwzgCWRTUEDAFDwBAwBAwBQ8AQMATyImCCd17kLJ0hYAgYAoaAIWAIGAKGgCGQAQETvDOAZVENAUPAEDAEDAFDwBAwBAyBvAiY4J0XuWaUDlft+CyvBX3//fey02At8l7c86zVOwG3tO75a1k3sry/euEjC88W1xAwBAwBQ8AQyIpAVXauPOigg9ycOXOKlt2yZUvZtjmMwE6XDz74oGObeYQ3tngeMGBAGEXOjz/+ePf66683CifgnHPOcT179ozu3XHHHbIzXRQQnPTo0cNdeeWvO0y+9957ssV8ECU6bdOmjXv66aej60suucQ9/PDD0XXSCTvtsa19vRC7f95yyy1u4sSJ0Q6RbIaz2WabuUsvvTRxO252oTzzzDPdu+++K8I0mw+xtTvbeYfEboN33nmne+edd2TzFe6B2THHHCO/pE13EDJH3TzKsb067/7mm292nTp1CrPNdZ6W53jmM2bMkDpH+JAhQ2T3xHicLNdp6jM7dIIb26rDt+4Aus4667jzzz/f7brrrlmKTIx77bXXSv5sjsPOkDvssIO7+uqrZbdXTZCnbmjacscs7ZW8pk6d6oYNGxbtoEndYev4yy+/XLa0L1deqftPPvmkY4t6NuYh386dO8uutGwUFKe89Siej10bAoaAIWAIGAKlEKiK4M3ud998802jclSwYOv3kBA+rrvuOvftt99GwXSOScQuf2wtniTM/fjjTwVJ2P1OtyGPxw+3qiYRO1sWixvfvY94pZ6P/FZeeWUOdUMIxwxEoFatWsnOfeDzxhtvuD333FMGFuwCqoTgsddeezlwIj5C2wcffOCOOuood9ttt7ndd99do7qzzz472g589dVXFxy//vprd8UVV7iZM2cWDH4QuEeMHCFbgGt9IKMvv/wyyi/vSRaewzIQkk844YTo/Se92zB+ufO09Zl2ctlll0l2bF/ObpGff/654zkYeI4cOdIdcsgh5Yorev+CCy5wY8aMkfsIl+z2ykDno48+co8//njUhrLWjaIFJtzI0l6nPv98NPhdZpllZJdZBn2vvPKK23vvvWWwvtJKKyWUUj6IZ2QQAPH9WbhwodT9PfbYwyGQr7XWWlEmeetRlIGdGAKGgCFgCBgCaRHwU7w1o759+zZ4AaDBa50KyiCM30477SQ/zs8777yCOHrhBT6J67WrGlT06DXTEtdr/YrG0Rsvv/yyxPXaeg3KfPTaesljv/32y5y21gm8hr7h6KOPbvBbYEdFeQGjwWu8hWcv4EXhnJx44okS7oXvBi+Yyj0vyEmY10AWxD3ggAMa7rrrrob//Oc/Es7RD6QkLu/y/fffj+JPmzYtCqc+dOzYUa6feeaZKE7ekyw8h2VQH+Fz3XXXleOtt94a3s58Tl78ytXnL774osEPehqmTJkSlfHdd981aDtp3759FJ71xA+qhAf4ePHFFyU5YeRJGPVBKWvd0HRpjlna64EHHii80X78oEyynz9vfsTzqFGj0hSZGEfrudecy33qqJ/1kvJOO+20gjR561FBJnZhCBgChoAhYAikQKBmNt5os5/3Gi3ICxYF44CtttrKjRs3zj333HNu8803L7jXnC5Gjx4t7B555JF1x7YXjt3tt9/uOnToEPG29tprRxrGWbNmReE//vijaAEJYIq/RYsWcg+NN4Sm/O2335Zz/jC76d+/f6RBZXbBCy+ROQNadaVll11WNOyYFKCNzavB1Pz0mJVnTYdJ1E033SRmLl27dtXgio5p6zOaVzSx3bt3j8pr3bq1mPMQwDN99tln0b0sJ6rp3mKLLdx2220nSdGwkyek9znPUjeIr4T2/MYbb5Sf1g29l+eo5mmYquksU6vlWrntt99esvv4448bZYuZjPIQPlMY8a233pLZDGYVmJ2BFi5YKDMAnD/22GORmU/eekQ+RoaAIWAIGAKGQFYEqmJqklTo2LFjJRjBOm5qcv/99yclKRk215t70KGuscYarl27diXjYjOODe8KK6wgdqIqSCYlwuwAIdQPUmSqm846DWEj/o9//EOEzf333z9NkrqIg3kDhECshCkCAgjPrnbXCFmvvfaaRpHp/y5dukTX8ROEb4RIzHLAXQm7WmzNq015eT7ppJNE6MIW+txzz60KW3nqc1hwWJ+XX3758Fbqc31XO++8s6ShXjMYUsIEqBwl1Y0wDesxMAWB4HP99dcPbxecp2mv22yzjZs0aZKYwoSJebeQCuDhPQYmmORA1Ld+/fqFt+UcUxWI9Qza9oddNEzMSWccdgAAQABJREFUqAinrn/44Ydugw02kLIrrfvkaWQIGAKGgCFgCKRBoGYab9UGJ3WMaRiLx+nvF16iGUO7SIdfTNtFOgQ9tHp+6t+xcI1FmD/88EM8S7mePn26aGSxb2Yx4cEHH+xYmFaOEEKgffbZJ9L8lktTD/cfeughYQOhR0mfVwdI2GWz4BBBXBdWoj0tRQxe1GZeNa6l4ld6Lw/P9957rwiOffr0caF9e6W8VJr+gQcekCzAH9v6PKTYe/MZSe7NNMR+vHfv3nKNcIkwXoqS6kap+KXupWmvOlPEYlPWB7Cg+fTTT48GtKxFyENaV5nhgRiEMzhC0NZBjjf7kXt56pEktD9DwBAwBAwBQyAHAjURvDE1YEoYwW3ffffNwVZhEoSRbt26yRQ93jMWLFjgWEiGZ4w4USbT7XiIUCHknnvuSdSMkZbOmLiq6X3zzTdlISFa82KEEI+mDkryxFIs3aIOnzBhgmiuwSjU9mJKAqm2deiwoaIdxPsJAxeI91mMWDTp7cnlNsJUUyw0zcozCyipMywc9esJij1Kk4djbqEa3BGB152sjOgCUUx5ECavueYamWnCI49SqQWtxeqGpo0f1TQkHs512vaKqQ/tiPpDW2aBKXysueaazq8BcEsvvXRS9mXDtK7CB4MNZjkgykBLDmn90WPeui+Z2Z8hYAgYAoaAIZASgZqYmqg2GBOMuHeRlHxF0fAYgecMJTpS7DbRYCGw9Ovbz2EXCg0cOFDsZZdaaimN7h555BF36qmnuldffdX5RWfR9HXnTp3d9OkzXNu2baK4eFbB6wEeT3BDduGFF0b3whM0lAgL8KUCe3i/Hs+xyR00aJCwhltF1W4T4BeeSTjCFNpBng+zEjxsqBcOXOEVI/BF2AOPoUOHFotWNhyXj36xYcl4uKbkPWblefDgwWJigGY1NLOJF/bJJ5+4Qw89NB7c6JqZF2yNKyFmFtBIU5eYzdnpFzORPHnq+8G04pRTTpE80XqH7U/jxPMvVTfCuMwy6czRKqusEt6KzrO0V2abwJrnx6uJX3grXnHw9MIg6frrr280A0C9VLOaYoK5Pif1mXdEfieffLIMxBUPZgCgrPUoelA7MQQMAUPAEDAEciBQdY03wgTaKqga2uBQ6CZPOlOEJ7S2dNizZv+6SBBhMhS6iY/JiS7gVNtPwhHWQ6GbMMwP1AVZuECQeyGpGc0RRxwRBtftOUIxgh14YffLeUg6/Y7WFDd7CCcsQITU5WMoqIdp0aiitUSTyKJLFWzCOGnP4XPu3Lllf+SXhWcEdcwYmN3AlKgUMdORhodyA4RSZXCPd9HrkF4iFCJMMtCrhHTRKmsrqLu8YzTKKiiT96qrrtqoiHJ1I0xAGeDOr9h7ztJeaccIwAjfs2fPFp/zM9+d6bwXFlmYPX78+LB4Oadc5UGfOR5J6yrmT9jywxMmLNC8efPkqFhkqUeS0P4MAUPAEDAEDIEKEKi6xnv8veNFqGC6eKONNqqAteJJtfNlcSMaynLeKbDdZmEmPobLkW6Cg5YsidCKszALag6CN7a/+ETGP3evXr0iDxrhs6kQghAGoR3m/UFqC6txJPCXP4RzZjcYBDGzoEJMGCfLeehppVw65ScNz7x7COFO7X7D/DGp4YeZA4M06lQtiVkb7My920XRwmLjXEyQTcsH5j3UWQZBmNNcMvxnExO1dyb/+KA0Td1IW36peEntFYEbsy7ouOOOixZBMiBmFgChnGfRgXCp/OP3tG6oVyVMTBRfNcnRuqpx09SjeDl2bQgYAoaAIWAIZEWg6oK3aoMRLGpFeCBRe1W0Y+WIDTKgcNMMCUj4U+FcO+R4FFz0QVtvvXXVXOPFy6jWNdo9bOzZ3AY79mJaVe/rOSoSm+7QG4Zq/uODKHbqHDFihAg07EDa1IsVs/CMrb/a+0cP6k8YuKF5xhYY7WkpE5QwXaXnCJrev7kMVPAeg/lMpcSCY3X5iH23ml/hshOKt5O0dSPkCzMSdSOIllpnksI4SedJ7ZXNfcAeij8/AwcoaQDE4AITFIj1HiwCjlNYVw877DAxmyIO3wHdSKv9ej/X+Sz1KF6OXRsChoAhYAgYAlkRqKqpibrYg4nDDz88Ky+N4tNRkmec0IaxwBLCXR1EJz7V+4qmkw8JMwPsu6Fu224b3Xr22WdlN7sowJ+w0OqGG26QIATrOFEGQiZUDTOaeP7VvGanPmzs0eThwYTdJ4sRZiL6vPj9VhdsbDePoIL9rXo3IQ+022xxjhYRf+z6DorlX4vwLDyDA3Uj/tOZEgYa3MMUpdZ01llnic90hEZ2k9TFfpWWqx5CyEd9t2PrrLuXhu0xS90I+cKUCO08v6R2maW96qJd8qcOhaReXpipihMzMMpDPJ3GZZBJnYU23nhjDY4EdhZq68AkSz2KMrITQ8AQMAQMAUMgJwJV1Xjroko6NrSIxQgtH1o5SL0KMM3/0ksvSdiwYcPEgwkaPBbuYaOJCQidqd/BUjSVRESIUS0lAiLCBx0pnS1TyWjMVAuIYNl9xx0lf/7QlGHLu+mmm4omnHO/m6UI8OQxeNDgKK6eIIgyRQ4fu+22mwbX5ZEBBGYxEL6Pca0YJ7+DYrRxiS5Afeqpp8Tmtm3btm7y5MmSBA1t6MXijDPOiLJK0jhiKnDsscdGcYYPH+4Y6EBqusK7U08SCPKl6kuUUewkC8+xpFW9TFufMXlBaIRY1Jdkb86shA4IsjBJ+8BWnPqOi0sWCbN4EQ0xGmR1K0ieWetGWj6ytFcGd5hqITyzAPKJJ56QhcrUSV1XEM68pOWBeAwI8ZDCc7LYl3aNTT6zDBD1JqR6qUchT3ZuCBgChoAhsHgiUDXBG7tVduWD+vtdDUsRdqdq0qHxEJw1TN2BsUgKIRetrdpgEh+bYrwehD7Cl1xySZl6xqxCO1jNG7OXuAs5puZfeOEFsTNVW1Pi460inKrXPDjqpkB+q+sCQTSMUy/n6q0BfhC+yhGDJb91unh/0BkCBBiEbr/FdkFyNRHgiJYzTpgRhITttr5bDce+WH1PqxcKvZf2mIXnpDx1MKH2v0lx0oSlrc/qSYM88ZzDL05qChEPT3ONUE9dxzxIfXIzAEWDrIMc8slaN7RsxYvr8FzvZ2mvpGFABvZ4S2GQqANFBgoMvhk8lKIkHjQ+HnyYFcM0DKEe4ruBpxed3dG4ldYjzceOhoAhYAgYAoZAOQRaeNOMQtuMcikWwX2ENoQ5BAZsiVn4p+YQcXbQqGK7i1DDLpdMVxcTrPDA8unfP3VfeW13a78TX8cOHaMp6Hi+v6Xrv/71r27+/PmiQS2GXb3h0Rx5rhWG1Ou333nbYb9cbK1Crcom3yztlfh4XkHo/n9ffunW9WsMWItRSqgmTVpicIgmnoGHmuCUSmv1qBQ6ds8QMAQMAUOgUgSaheBd6UNaekPAEDAEDAFDwBAwBAwBQ2BRI1DVxZWL+mGsfEPAEDAEDAFDwBAwBAwBQ6BeETDBu17fjPFlCBgChoAhYAgYAoaAIbBYIWCC92L1Ou1hDAFDwBAwBAwBQ8AQMATqFQETvOv1zRhfhoAhYAgYAoaAIWAIGAKLFQImeC9Wr9MexhAwBAwBQ8AQMAQMAUOgXhEwwbte34zxZQgYAoaAIWAIGAKGgCGwWCFggneO1/n999/LDpc5ki6SJLhqx7dzLai5YVELDOotT3xXsy18GmLjq1rVjTTlaxyrR4qEHQ0BQ8AQMAQWZwSqsnPlQQcd5ObMmVMUp5YtW8q2zWEEOvwHH3zQsc08nS5bPA8YMCCMIufHH3+8e/311xuFE3DOOee4nj17RvfuuOMO2ZkuCghOevTo4a688soo5L333pMt5qOA4KRNmzbu6aefDkKcCCcXD7/YsW08O+JBxGNba3ivN2L3z1tuuUX41R0i2Qxns802c5deeqnr2LFjI5bZhfLMM8907777rgws2HyIrd132WWXgrjsUHrnnXe6d955x+lujGBxzDHHyC9p0x2Eu1E3j3Jsr867v/nmm2WL8IKMc1yk5TlL3cjBhjxTmvocz/u2226THUMJf/jhh93vf//7eJRU17wz8nruueec7n7Jrq9777237PK64oorRvmwCyzvmTagu2fyzjbZZBN38cUXu86dO0dxs55kaa956lEWfp588kl31VVXyeY8PB/Pxa60SRinrUdZyre4hoAhYAgYAoZAHIGqCN5smf3NN9/E8460wmwlHRJC23XXXee+/fbbKFi3i44CfjlhFzwExyRh7scffyqI/u9//zvahjweX4URTYDAEQqkGs4xade8g3se7GbPni3REEh5XtKz7fV3330ngkyYx6I+R6hB2ITYgpud+8CH7cT33HNPGViwC6gSgsdee+0lQhvxEdQ++OADd9RRR4lAt/vuu2tUd/bZZ0cC2+qrry44fP311+6KK65wM2fOLBj8IHCPGDnC3X333VF9IKMv/S6FlVIWnrPUjax8ZanPYd6ff/65YIaGGvrpp8L6HMYtd37ttde6Z599VqIxCGKXV+o4g4GXXnrJvfDCC27ppZeW++wCO23aNGlTtE22UocXdnjcb7/9HHVno402Kldk4v0s7TVLPUosrEQgz8AgAOIZmQGg7rMNPQI5u2MqZalHmsaOhoAhYAgYAoZALgTYMr5W1Ldv3wavXWrwWqeCIgjjt9NOO8mP8/POO68gjl54gU/ieu2qBhU9XnLJJRLXCyFF4+iNl19+WeJ6bb0GFT16gUTiwuebb74ZxfOCpoT7rbmjsHo58drThqOPPrrBb4EdseQFjAav8RaeDznkkCicE6+5l3AvfDd4jbTcu+CCCyRsyy23LIh7wAEHNNx1110NXriTcI5+ICVxwej999+P4nsBLwqnPnhNu1w/88wzUZy8J1l4zlI3svLDM/NLU5/DvMFx3XXXjfD5+OOPw9uZznlXw4YNa/ADoChdiP2NN94YhftBY4MXTBv8Vu1R2FdfzY3aYrxuRJFSnGRpr1nqUYqiC6JoPb/88sslnDrqZ70E69NOO60gbpZ6VJDQLgwBQ8AQMAQMgYwI1MzGG232888/L4MBL3AVDAq22morN27cOJkW33zzzQvu1ePFhx9+KGy1bt3ahfweccQREo65RT3YyYbYeaHG3X777a5Dhw5R8Nprrx2Z18yaNSsKh3+0gJAXVFyLFi3kHI03hLYYbagSJhH9+/ePZiGYXcDkBs0phGZRadlllxUN+9SpU92YMWPcSiutpLcqOmbluaLCyiTOU5/RRE+fPt0dd9xxEW5liil5GxORoUOHFuC7zTbbuK5du0q6t956K0rPbAazHvq+uNG2bZvI1Evre5TglxPMhLwALz+tG/E4Wa6z1CPNFxMq5YH6lEQ8K7NRPB9adWjhgoUOTT/02GOPRbMv9VSPhDn7MwQMAUPAEFisEaiKqUkSQmPHjpVgBNW4qcn999+flKRk2FzfkdKhrrHGGq5du3Yl42IzPmPGDLfCCis4r1GMBMmkRNgbI4T6AYvDhCQURjT+jjvuKKdM3SNgt1qulVxjIwvxfBomAXX8t9pqqwl3CMRKH330kdhq8+ydOnWSYISs1157TaO4V155xXXp0iW6jp8gfDMwQeABdyXsarE1rzbl5TlL3UjLc9b6TD06//zzZY3A6aefLusc0paVNZ62lfCdFMtDhfMNN9wwMQrrMbAlhzBdWn/99RPjEZilvYaZFKtHGuezzz5zI0eOlEvqW79+/fRWdKSuQqxn0EHksIuGRbbvCNsMLjbYYAOXtx5FhdmJIWAIGAKGgCGQAYGaabxHjx4tbCR1jBn4i6L29wsvWcSJdpEOv5i2iwQIemh8/dS/W2eddWQRpp9Wj/IKT9A6ov3DvhnB++CDD3YsPgsJwXrrrbeWoD59+8iCRbTJfnpfwlTzHaap1/OHHnpIWEMbqqTPqwMkBhdDhgyRQYgurMSOvxQxeFGb+e22265U1Krcy8tzlrpRFUYTMmHBKgt0R4wY4ZZaaqmEGNUJwq5ZZ5108BjmzHtmJgL7e9opGmiI2YxKKUt7DcuqRj3SusoMD8QgnMERgrYORL744gu5l7ceSWL7MwQMAUPAEDAEMiJQE403pgZMCaNB3XfffTOy1Dg6U+No4cgPjRsL+RB6WTCpC6g0lWptMWnwNrOOxV733HOP++STT9x9992n0aIjnfGaa67p6IjJ29twOxYSou0NtcL33nuvLKRkwSLCutK5557rjj32WL2s6+OECRNEcw1G8K2EKQmEFhMaOmyoYItmUU0KeJ/FiMWB3p5cbh955JFu5ZVXLha1auF5eM5aN6rGbJARCx2feOIJGUDuuuuuwZ3qn+riRQaU+++/f6MCpr0yrZFHHgaUafhKWoCsBWRpr5qGY7XqkdZV+GBG66STTpJi8KSD5x3qjtYfPeat+yH/dm4IGAKGgCFgCJRDoCaCN1PSEJ193LtIOYbi9/EYgecMJTpSBAo0WAiG/fr2i8w8Bg4cKO7vQi3iI4884k499VT36quvuhdffNFtv/32klXnTp29AD1DbFs1bzyr4PUAUwDckF144YV6y/nFeZGXEOymsWGng8c7C1q0JMEmSlwHJwjQgwYNEk5wq6jabQLwgAEhTKEdfOCBB8SsxC+yc5dddpncK+VxA3zRHPKesDPOS7h8xENMKcI1Je8xK89p6wYDtEMPPbQUC3KPmRdsjbMQJg4nn3yyJLn66quzJM0cl/ZB3af9IUyryUWYEQI5AybMN6Z6zTf8MdOBV5RwLYOmYZZJZ45WWWUVDS44ZmmvBQn9RZp6hLmTmkCpl5Z4PlpXqc+8Izy2gDtmZ/o94lmhrPUoXpZdGwKGgCFgCBgCWRCouqkJ09feY4XwkOSXOwtzxA2Fbq7pTHFbh/YSDdms2b8uEkSYDIVu4mNyokKE2n4Sjk02C8pCwr2eatDDBYJMfyO80GkjwOPjm/v4BEbrzkAAG/F6JYRizHTAi0WQnIek0++4SDzhhBPkOW+66SaJoi4fQ0E9TMuAZNKkSWLfjamCCjZhnLTn8Dl37tyyP/LLynPauoENeBoeyg0Qkp4Z0xJma5ghCd3ZJcWtJAy3goMHD5Ys/vznP4u5VVJ+mGExuGSg7L3fSN3AXEhNqOJpmEUCd37F3nOW9hrmn7YeUa7yUGyhrtZV2i1uFuEJW3po3rx5clx11VXlmLUeSSL7MwQMAUPAEDAEciJQdY33+HvHi4CH+UZeX8DlnkU733/84x9iQqKeG4qlQ7PHwjHMTsqRLixDS6aE5hDadtttnS5O5PrAAw903g2i2OuihVM7cO7VCyFIsYkKA4RevXrJjECcNxVC1N4VoY33B6ktrMYJ0yKcI7QxCAIjFWLCOFnOEZTSkvKTled4/vG6sfHGG0udiserxrWaKN16663RpjlhvjvvvLNgyYK/vMTAEO0+xGzMDjvskCorBrS8d2zgvTtIEVDV/CJVBiUilWuv1a5HWjfUvh0TEx0oMLiEtK5q3ErrUYnHt1uGgCFgCBgChkCEQNUFb11U2adPn6iQap+gXdYNWLz/5LLZs0EGlEbLqMK5dsikUztndgIMCWEFDTsL5dg4pt4Eb7R72NijZcVuF/OZJPJ+yKNgtKBoxZVU8x8fRLEgDw0uAg2u8cLNeDRtLY95eE7iJ0vdSEqfJQyPMbyLOGmdQzObxvtIPL1e42Wnd+/eMvDFvSCzPVmIdsWsCARP6uFG88CMRNsC5jg6k6T3ix1Ltdes9YgB8fXXXy9FYRKDaUycwrp62GGHRd54eNe6kVb79X6u89WqR3Ee7NoQMAQMAUPAEEhCoKqmJnT8aKGhww8/PKm8TGF0lOqyL0yIqYlu267bWyMwYKcaN/nAHhgtINTNa6yVmI7H60NILLS64YYbJCgUolULPmXKlMjGlUgIpdiDQ6Vc7UmEJv7j2bA7R5OHBxO2Ey9GuGXT58V+Xe2BJ06cKIIKAw71bkIeaLdxh4fQjT92fQfF8q9FeBaes9aNWvBLnn6DG6mj1NPwx4wBhAvOyZMny3nWP2zTmYHhWdFcs8i1GFH2nDlzCm6TDtt/iPcaCq8aEVMiFijzS2qXWdoreeapR8zAKA/UvSRikKmDZGYwlFRg79atW7QuJEs90nzsaAgYAoaAIWAI5EWgqhpvXVRJx4ZHgWKEj2jsoyH1KoDHDTw+QAgo3bt3l01bWHCFJhDhl87U72AZCfe4ZVPPI2iyEDboSOlsmUpGGNGNXxAsu//ij5sy0JRhy7vpppuKJpxzv5ulCC7kMXjQzzayxCVfvJmwIIu84Q0bX13kxaKttNo/8msKYgDBYlGIxXO4VowTAwm09pAuQH3qqadkcWHbtm0jIZBNXjQecc844wwOQkkaR7SuoaeX4cOHR9uZq+kK705NGRDAStUXLSt+TMtz1roRL6fcddr6XC6fSu6DhS4YZHEsv5BoP5hcQCySZOBJvcXUZv78+VKXEb6h/sHmSBKQ8o+2lra9kmXWepSSDRk4/PGPf5RBNIt9ade0V7+Tp2QBjyGlrUdhGjs3BAwBQ8AQMATyIFA1wRtvI34bauGBjrsU4WdXp9c1HsKRhqk7MBZJIWyjtVUbTOKjIWQBWOgjfMkllxRvDEzlawereWP2gi12SPgCf+GFF8R9IC4ElfBWwaAg3BAHu25cEvqtpsVDAsKpEv6RMeEIBVO9tyiP6q0BHkJ79WI8MVjC9hjvDzpDgOYToZvnDkkFNI5oOeOkOwRqOLbb+m41DNtz9futXij0XtpjWp6z1o205Wu8tPVZ48eP4AxVUof0nZBP0jvRMrjPIJF3zDsJ3wvtivevnleIG1LIX3iucbK0V9Ioz2nrkZajxyQe9B4efJgVY1E07hshnm/UqFHR7I7GTVuPNL4dDQFDwBAwBAyBvAi08KYZ9euO45enQjhAmEOYxJaYhX9qDhF/cDSqmLtgAsIul2j0QqEjjI8Hlk///qn7ymu7W3sf1h07dCwQuMO4ek7++AdnQEDeqrXV+4vDEQ8XaEExnymGXb09Zxqes9SNenu+WvDDYJZBA5pyBpeslyglzKblIUt7TZtn3ngI9WjiaaeYUZWjNPWoXB523xAwBAwBQ8AQKIZAsxC8izFv4YaAIWAIGAKGgCFgCBgChkBzQeBnA9/mwq3xaQgYAoaAIWAIGAKGgCFgCDRTBEzwbqYvztg2BAwBQ8AQMAQMAUPAEGheCJjg3bzel3FrCBgChoAhYAgYAoaAIdBMETDBu5m+OGPbEDAEDAFDwBAwBAwBQ6B5IWCCd/N6X8atIWAIGAKGgCFgCBgChkAzRcAE72b64oxtQ8AQMAQMAUPAEDAEDIHmhYAJ3jneF/6/mxPhqr1WPH///ffRRijNCRM2fKo2JrXEuTlha7waAoaAIWAIGAKGQDICVdm58qCDDnJz5sxJLsGHtmzZUrZtDiMg+Dz44IOObeYR3tjiecCAAWEUOT/++OPd66+/3iicgHPOOcf17Nkzuse27uxMl0Q9evRwV155ZXTrvffek63go4DgpE2bNu7pp58OQpybN2+eGzx4sJs6darsiMcueOx+ydbs66yzTkHcerhg989bbrnFTZw4Mdohks1wNttsM3fppZe6jh07NmKTHQ/PPPNM9+6774owzQZBbO2+yy67FMRlh9I777zTvfPOO9E25WB2zDHHyC9p0x2E3FE3j3Jsr867Z/vyTp06FeSb5yItz5r33Xff7agnumMj73HXXXctWm80XbFjHpzDvG677TbZMZSwhx9+WDaxCe9nPU+L8zbbbBO9u3gZjzzyiFtrrbXiwamua9VeUxUei/Tkk0/KrrJ/+9vfZCOozp07y660bBQUp6z1KJ7erg0BQ8AQMAQMgTQIVEXwZve7b775plF5uiU0W0mHhNB23XXXuW+//TYKpnNMIgQkthZPEuZ+/PGngiT//ve/C4TM8CZb0ofEzpa6ZXk87/jufWgyd9ttN9m2HkGNbeXhCwF1jz32cAiif/jDH8LsF/k5PCFgQq1atZKd+8DnjTfecHvuuacMLNgFVAnBY6+99nLgRPwVV1zRffDBB+6oo45yCIe77767RnVnn3227AxKwOqrry44fv311+6KK65wM2fOLBBiEQRHjBzhEHi1PpDuyy+/5FARZeGZgs477zw3duxYKZNnpF6yI+pzzz2Xm4+sOIcFff7554KZ4vLTT4X1OYxb7jwrzuxaCcXrPmHFdoXlXjmqVXstV278Pu+FQQDEe164cKHUfdorAnk4sMhaj+Jl2bUhYAgYAoaAIZAaAS9U1oz69u3b4LVLDVdddVVBGYTx22mnneTHuReKCuLohRf4JK7XrmpQ0eMll1wica+99tqicfTGyy+/LHG9tl6Dih7Hjx8vcdu3b9/gNZwSz2ttGw477DAJP+2004qmXVQ3vPa04eijj27wW2BHLHgBo8FrvIXnQw45JArn5MQTT5RwL3w38GzQBRdcIGFbbrmlXOvfAQcc0HDXXXc1/Oc//5Egjn4gJXF5l++//75GbZg2bVoUTn3wmna5fuaZZ6I4eU+y8OxnOCI+/CxAVCS8T5kyJbrOepIV5zB/cFx33XUjvj7++OPwdqbzrDjznii72lSr9pqVT63nl19+uSTlPftZL8E63l6z1KOsfFh8Q8AQMAQMAUMgRKBmNt5os59//nkZAHiBq2AggMZ43LhxomncfPPNC+7V48Vrr70mbG266aZulVVWkXO0gkceeaScP/bYYwXa3Hp4Bi/Uudtvv9116NAhYmfttdeOeJ41a1YU/uOPP4oWkAAvqEQaTzTeEJryt99+W875wySif//+kbYUrakXXhyzARBadaVll11WNOxTvYnOmDFj3EorraS3Kjpm5fnqq6+W8o499li33377RWXDe/fu3aPrrCdZcA7zxsxq+vTp7rjjjotwC+9nPa8VziEfmAndeOON8tO6Ed5vinNMe5QH6lMSvfXWWzILQ31kdgZauGChzG5wHrbXrPWI9EaGgCFgCBgChkBeBKpiapJUuE7pI1jHTU3uv//+pCQlw+Z6cxM61DXWWMO1a9euZFxsxmfMmOFWWGEF57V6kSCZlAh7Y4RQPxpx2DSr8BjGVfv1rbfeOgyOBDY6b6buw+nrgoh1dLHaaqsJNwhqSh999JHY+/LsaneNkKUDDuK98sorrkuXLpqk0REBtnXr1iLwgLsSdrXYmlebsvL86quvCgsDBw4UG/PZs2fLICpeN6vFZxLOmjdmTueff77DLv7000+XdQ56L+8xL86YWWAmRN1ffvnlSxbPegzMqyDissahGNWqvX722Wdu5MiRUiz1rV+/fo1YoK5CrGdQs5lhFw0TMyrCaa8ffvih22CDDVzWekR6I0PAEDAEDAFDIC8CNdN4jx49WnhK6hjzMNvfL7xkESfacjr8Ytou8kbQQxPpTVlk4SOLMH/44YfEYtE6YvOMfTPCx8EHHyxCdBi5bdu2cvnJJ5+Ewc6bcUTXaIWbAz300EPCJovrlNTeV4VQ7IWHDBkigxBdWIkdfyli8KI289ttt12pqFW5l4VnBlXYrjOwYNDHwlLed9euXR0C60svvVQVnsJMknDW+yxYXbBggRsxYoRbaqmlNLjJj9iW77jjju7AAw90G2+8sbQtHaBUykyt2msavrSuMsMDMQjnvSNo66D9iy++kHtZ6pEksD9DwBAwBAwBQ6ACBGoieGNqwJQwgs6+++5bAXs/J2WhX7du3UTDjJYQocXbH4tnjHjmlLnFFluIpwq03dA999yTqBnjHp0xXi1U0/vmm2/KQkK05kpqruHtwjVIjkxZK/G89U4TJkwQzTUYnXvuuRG7OmhQjefQYUNFUMX7yTq/eGwp9XwIcN6eXPLD/GbllVeO8q7VSRaeVchC04mwy6zJoYceKmY4mEQdccQRJb3yZH2GYjiTD0L+E088IUIu9W5RkrfzlsEpMznUCTAFF9Vql+ItvgA5jFvL9hqWU+xc6yp8MKN10kknSVQ86aAlh7T+6DFv3ZfM7M8QMAQMAUPAEEiJQE1MTZiShvbff//IDjglP42i4QEFzxlKdKRoY++77z6Zcu7Xt59rtVwruY0ZAdrEUIuIa7RTTz3Vocl78cUX3fbbby9xO3fq7G1sZ7i2bdto1g7PKng9wBTALwh1F154odw76qijRchnSv7www8XDSHabmyoldQzhV7X2xGb3EGDBglbuFVU7TYBfuGZhCNMoR184IEHHPbsfgGmu+yyy+ReKY8b4IvmkPc0dOhQiZ/nD5eP3333XcmkuKbkPWbhOZztQNuNVws1QcBbC9ggkN90002OWQ2Ez3LEzAu2xnEqhTOC/8knnyxJ1OY8nr6prhlErrnmmlFx1HlmlDC9wKVk3J0mEZllUix1rUOUwS8ntWqvWg7mTmoCtfTSS2twwVHrKvUZd594jwF3BuLqxYV3AWWpRwWF2IUhYAgYAoaAIZADgaprvDFT8B4rhJUkv9xZeQyFbtLSmbIAEA0dwu6s2b8uEkSYDIVu4mNyggYcUttPzhHWQ6GbMNzrqQuycIEg8TBfoaMnD4R7XPV5LyfR4sV6tu9GKEaoAi8WQXIekk6/4xLyhBNOEOFEhUp1+bjqqquGSaJz70nGTZo0STSJLLpUwSaKkOEEPufOnVv2R5ZZeA55ZzCoQjf54CYS8p5Y5MhMRxoekgYI5XBGuGfwxgLPRV1fQqGbB0cTzGATKubak4Wx4M6v2HuuVXsVxvwf5SoPxRbq6qCSd4rbUmY4sKWH8McPaZ3IUo8kof0ZAoaAIWAIGAIVIFB1jff4e8eLgEfHvtFGG1XAWvGk2vn+4x//EA0ltrqlCAEZExJ8DJejDTfcUKKgJQsJAW2G15C/8dab7hOvGUeYxzwFG2EoLsiEaRflOXbXe++9t5iO9OrVSwYNcX5U+EBwhNgoSJ9HzTRUmAnToiFmdoNBEDMLmk8YJ8t56GmlXDotKw3PaMmpMww84gtk1asOwjaErXPclr8cL9xPgzPrCaBbb7012jRHAn7523nnnQVLtM6LgrTugxPmGknvPA9ftWyvSfyoUP3CCy/IbTbVggdI9xvQ+qPHNPVIMrA/Q8AQMAQMAUOgAgSqLnjroso+ffpUwFbppCyWUztO7FTLkQrcWeJq5x3mjZa8u1+Mxg/CfAWNcKvllovcDIbxF/U52j1s7NGyYk+sGs04X+FGOth0oxVXUs1/fBDFhjhocBFocI0X5qFpa3kMy0vDM6YR2PPyPCpsw5+6SdQFtHl4ToszAzXeRZy0fqItDj3CxOPV+jrUdCfZ6WNGom4EMccJcSzFWzXbKwPi66+/XopjvQdmZ3EK66r3tR9548GDi26k1X699pIsaz2Kl2XXhoAhYAgYAoZAFgSqamrCNuxooSFsoSslOkoWetFxhz92SGQnOkwGVOOMlm6K34EQG/AwLlovtQndxi/QVMIchkWaYVy8IWATCoVeP7hGUxbGZedFbGGhgX67+3oj8MGsAk0ez8Luk8UIMwPVBOtCUp6V7eYRVJZZZpmCbePRbuMOD6Ebf+z6DorlX4vwrDz37NlT2OCZeDaII/beEIts81AWnIcNG+amen/m8R8zBhAuOCdPnpyHjUxpGHwwCAnrM7bbeP+B8O6TtHgSUyLWVvCjrceplu1Vy2IGRnmg7iURg0zqLMQMhj4nZifQtttuG60LyVqPJAP7MwQMAUPAEDAEciJQVY23LqrEAwkeBYoRPqKvueYaua1eBfAEoW7dEFC6d+8u2kgW7qEJRDDC97TfwVKEe4RubK3VHzUCIi7M8E6wySabiA0nmkTVaCJYqqaaghEyMC9gESFmFZz73f/EHIHOeNCZgwrYx/MFwjeLu1iI9vrrr4s/YDSpxww8piBuPVwwgFANJr6Pca0YJ79jYyRggTMDlKeeekoWF6IB1kWIbPISCmJnnHFGlFWSxrF3795ix6yRhg8f7p599lm5VNMV3p16kkCQL1VfNJ/4MQvPuLWkfmLOgitBFkdSN7imLulGK/Eyyl1nxblcfpXcT4szAitCNG0KjS+LEan7aO7BImlmRAcrpfgDz1q111Llxu8xIPyjHwzzbljsy0JSbPJ5Rp7vlFNOKUiSpR4VJLQLQ8AQMAQMAUMgIwJVE7zRNP/lL3+R4vv7XQ1LEZplnV7XeAjOGqZmJNiYorkivvrmJT6LHNG4hj7Cl1xySb9Ysq1M5YeLKOloMXsJ3eeRB77A8Y7Bpjz8lBDIGBSopxQNxycwQlrIh99K3TH9Ho+raRblUb01wEPcXj2JLwZLLCBFKGFQASFsI3T7LbYLkjC7AHFEyxmnf/7znwVB4KbvVm9gE61+v9ULhd5Le8zCM6ZDuPFjJobNc/hBDLJu8N5J1vnFbWLasjVeVpw1XXhU++NwcBPeT3ueFuc//OEPMluB2YiajlAGixCp+8U2SoI/2hOkPMvFL3+1bK9hOaV40Hh48GFGi0XQOovAd4N1CTq7o3Gz1CNNY0dDwBAwBAwBQyAPAi28Juvnefc8qZsoDUIbwhxCDho6NNTa+cZZQKOKuQtaaQQJps2ThATS4YHl079/6r7y2u7WXlPesUPHkkI0AwK0yJgGYK8b96AS56W5XuMqcf78+SKAFcOu3p4tC88I/CxgZCYFu/9idanenrGa/DDYAQPqNPUZE6Mku+48ZdaqvebhhcEhmnhmV9SMqlQ+WepRqXzsniFgCBgChoAhkIRAsxC8kxi3MEPAEDAEDAFDwBAwBAwBQ6A5IVDVxZXN6cGNV0PAEDAEDAFDwBAwBAwBQ6ApETDBuynRtrIMAUPAEDAEDAFDwBAwBH6zCJjg/Zt99fbghoAhYAgYAoaAIWAIGAJNiYAJ3k2JtpVlCBgChoAhYAgYAoaAIfCbRcAE79/sq7cHNwQMAUPAEDAEDAFDwBBoSgRM8G5KtK0sQ8AQMAQMAUPAEDAEDIHfLAImeAevHr/eiyPhqr1Wz/b999/LRjrNDTc2fKoVJvWARTNwz98IpubIc6OHsABDwBAwBAwBQ6AEAlURvA866CC3+eabF/1tu+22jVhA8Ln//vvdrrvu6rh/1113NYpDwPHHH1803wcffLAgDbvUFeOj2Jbg7FrJFuJstLPhRhs6dqjcfffdZXv4gsz9BVuowy87/xG/Z8+esllPPF49XLMxysUXXyx4sCsjzwbf8MwmIUnELpQHH3ywPBtxwUG3eg/js0Mp+YAB244Td9NNN3U333xzUSEcIXfkyJFu++23l/f97rvvhlnmPk/LsxZw9913u+7du7t1111XMOEZTjjhBL2d+5i1brz66qvukEMOESxOPvnk3OXGE1577bVum222kZ04O3fu7Mj7xx9/jEeT67RtMDFxmcC0z7dw4UJ30kknOXilnsL7jX4n0WpQlneStR5Vgz/LwxAwBAwBQ+C3h0BVtoxnG/VvvvmmEXq6tThbSYfENuvXXXed+/bbb6NgdoRMInbBY6fBpB0Uf/zxp4Ik//73v6NtyOPx2ZI+ThMnTpQt0gknPsLYXL+LJdtof/nll26llVaKkiBsMgiAeB4EhjfeeMPtscceIpCvtdZaUdx6OIFfBiJQq1atZOc+8IHnPffc0z399NOyC6jyiuDBAASciL/iiisKDkcddZS77bbbRAjXuAxi2BkUYvdH3s/XX3/trrjiCjdz5kw3atQojSpa5REjRzgEXq0P3ATfSikLz5R13nnnubFjx0qxPCPvkR1Rn3vuuYpYyVI3XnzxRRkQffjhh1GZ1doB9YILLnBjxoyRfNmRk2d79NFHZYfKxx9/vKANZWmDEaMpTrI8H7tn7rvvvg4saH/wzK6zDNBoh0OHDk1RYnKULO8kaz1KLtFCDQFDwBAwBAyBFAj46d2aUd++fRt8Z9pw1VVXFZRBGL+ddtpJfpx7oaggjl54ravEfeeddzSo6PGSSy6RuF7rVzSO3vBawIaOHTtKfC+waLAcX3nllYbvvvuuIGyzzTaTuJdffrmE++3rG3r06CFhp512WkHcerh4+OGHG44++ugGr92O2PECRoM+h9e2RuGcnHjiifIsXvhu8JpQuQcuvJstt9yyIO4BBxzQ4GcoGsAA4ugHUhKX+O+//34Uf9q0aVE49UExf+aZZ6I4eU+y8Pzee+9FfPgBV1QkvE+ZMiW6znOimKapG37QI3xsvPHGDYcddpic77jjjnmKLUjjB1XR83nhV+4R1r59ewmnPoTEe+KXpg2G6cqdZ3m+Bx54QHjwsyYNfiAmWU+ZOjV6Dg0rV2bS/SzvJEs9SirLwgwBQ8AQMAQMgbQIVMXUJEm+R5v9/PPPyy0vcBVE2Wqrrdy4ceNE04hpyKKge+65xy1YsEBMJTDJCGnrrbd2rVu3joIwR0Gr+7vf/c6pycrCBQtFo0ikxx57rECbGyVchCdeOHa3336769ChQ8QFZjRHHnmkXM+aNSsKxxSBaXnIC4+uRYsWco7mH0JT/vbbb8s5f16Ic/379480qGgrvfAi+HAfrbrSsssuKxr2qVOnijY2nEXQOHmOWXm++uqrpZhjjz3W7bffflGR8I7pSV7KWje8wO38AFHw7NOnT95iG6VTTfcWW2zhtttuO7nPTJSameh9TZinDaI9xwyEn9YNzU+PWZ5v9OjRkox3svLKK8v5e37GRCnOM+GYUCkPSfeJk+WdZK1H5G9kCBgChoAhYAjkRaAqpiZJheuUPoJ13NQE2+6sNNcLvnSoa6yxhmvXrl3J5Cz4mzFjhlthhRXEfEQFyTCRmhd4rbAEY9ICYWcaj+814HLPa9Gie8MuGiZmGdyg82a6HHvneqfVVltNWEQgVvroo4/kGRhYdOrUSYIRsl577TWN4sCgS5cu0XX8BAGWwQoDFHBXwnb3lltu0cuqHbPyjM0xNHDgQIdt8+zZs90qq6zSqG5mZTBr3RgxYkTWIlLF13e18847S3yekcGQEiZAIeVpg3/605+c2uYvv/zybv311w+zlPMsz6fCO+smoH/961/ummuukXP+9JmiAH/y2WefiSkKYdS3fv36hbflPMs7yVqPGhVmAYaAIWAIGAKGQAYEaqbxVm1WUseYgb8oav8BAxyLONHU0eEX03aRAEEPja+fRhdB+pxzznE//PBDlBcndPIQtsqbbLKJaD3RfK633nru1ltvlXv6h+YQQmMMIdQjuCBo6yDgiy++kHv1/vfQQw8JiyxiU1IsdIDEQsghQ4aIBnuXXXaRaIqBpokf0aAjdEOqcY3HqeZ1Fp799I8MkhhY8N68uYvYs3ft2lUW9b300ku5WVNcFnXdUOxZpwBhZ//555+73r17yzWDQ4TxeiHs/VUbz+Jc6JRTTpGZI2+CI9d51wFkeSdZ6pEwZX+GgCFgCBgChkAFCNRE8MbUgClhBB0WT1VKLPTr1q2bCMdt2rQRExEWkuFFI06UyXQ7WjQVQjAriQ8A4A9SM5NevXo5b2srHf9ll13m7rvvvihrjQsfCC94YYAoX01SMMeod5owYYJorsHo3HPPjdhV3tFiQkOHDRVB9dJLL5WBC2GKAedxQojSmQNMWdRsIB6vmtdZeNZBEYIeGllmTQ499FAxw8Ek6ogjjnBz5szJxZ7isqjrhi5uxpQHYRLNMQMpzFqU8gqymj48LrFEZZ8OfSfk2bJlS1kEyndj7733dvvss48Upc8UlpvmPMs7yVKP0pRtcQwBQ8AQMAQMgVII1MTUhClpaP/994/sgEsxUeoe3hfwnKGE4IudNZpLvB/069vPtVquldzGjOCss85yoZeIRx55xJ166qkOUwM8LuDODsKjAoSJxMsvvxwJ0AjieANBQEM4gzQuwgb2pWgScdOGYE96SLV3clGHf0zrDxo0SDi78sorC0ws/AJDCef50Ob7RW9iVoK7OwYhkGIgF7E/8EXY4z1V4onCL1Z1flFrLPfCS4Q03mMWnsPZDmzen3rqqchkCJeJYENd4t1+8skn0XsvLLnwipkX4isui7puKB+YSanmGK231k+41ziFT5L+ilkmxRIznUoo5EVnWJZZZhlH3fQLYSVrfcdhOZg7qQnK0ksvHd6KzjXvNO9Ey8hb96NC7cQQMAQMAUPAEEiBQNUFbzpR77FCih7gzUMqpVDoJi86SNzWIVAj7M6aPcthMgCpqYRc/PKHyQkCA/bh2H6q4I1mENd5aMdVa00StG0I3kzd04EjxGu+mFNglgBPp59+upQwb948Oa666qpyrMc/hGLMdNBMY/fLeUhqLoOGEZ/WCGs33XSTRFGXj4pBmI5zNKqTJk0SDFl0GQp68bjlruETN42lCMEbysJz+G4YDIY2/LvttpsI3irssT4AV3blSAcIisuirhtan1lbgeaYd0y7UEGZ5wlxKPd8SfertTA2zsvZQ86WtoiLUWZdtM4xuxUn6pe++/g9vc7yTjSvPHVfy7OjIWAIGAKGgCGQFoGqC97j7x0vAt6aa67pNtpoo7R8ZIqnnS8+f9FQquBdLBM2SUHw1gWUxKNTR3PtXeUVJGMxoBLT0PjnVoFFvbRgYqICpk6HaweuaevlyACC6XsGGZjTMCMQJ30+BF9o8ODBjvcHqUmAxpHAX/4QzpndwHSFgVClGISeVsJyks6VnzQ8I6zzvhh4hLbt5KtedVTYxisHdSotKR+Lum5g3kN9ZhCEj/JLhv9sYqL2zjx/OBOU9vlqFS98J/BMG2aQDCnPbdu2zVV8lneicdPUo1zMWCJDwBAwBAwBQyBAoOqCty6qrKartIBfOWWxnNqrel/E8duNrtkgAwo3ufH+jcVDAwJ5SKr5JEw75XAAwcIv9e5BvroxT/v12ofZ1MU52nhs7NncBpt37089kS+wUFrHe3UJvWGoa8AQA+KyIQ7mOAh07CDKotSmpKw8YxrBQIrnUWEbftVNYl4hL8RlUdYNFhzrs2DfreZX6r0nTTsp9/4w+1JPJJhhhTiWS5t0H1t7Bs/UIcx2lHQQk+QliMHF9ddfL1EZPLMIOE5Z3knWehQvy64NAUPAEDAEDIEsCFS2QipWEkIrHSl0+OGHx+5mv0SwDQVhzQFTE3xwQ6qhRps51fuKRigPCXtgdSXXLdi6XgcG2ItiXqD0xBNPyCmdOppcCKEV+1MIjaiSCgAs/FRBR+8t6iMmG5hVoMlDy8vuk8UIUxt8l0PYQKspBjt7MrDg2dW7CXHQbp9//vkiMOGPXd8B95qKsvLMFvcQbhJDwt4bShLywnjFzuulbqh/dvhU3+2YSunupdVoj5gSseiYX1K7LIZRsXD1XoIJi5qV8P2gzULxBdGEMQOjPFD3kijLO8laj5LKszBDwBAwBAwBQyAtAi3YaSdt5HLxWGSHUIYgOn78+KLREX7UXy9aSIRo3cKbRMOGDXPdu3eXvMgTm+oNN9xQBEC/g2Uk3GM2odpZdQtIR4pwjNkDJgOqBUSwDD2VUA4+j9mqnml6tkvH3ICttSEWealgwDXa4htuuEGETeyCsfH1uzJyS/JVwVUC6uBPFwvCCmYjSy7ZeHLD79goNvPE4VlUOONZ0ABPnjxZzDOwZ/e7cxJNCPdvDHTQVIazCHofF3ZsiqI0fPhw9+yzz8olghVpwVy9qFBn8AqSlbLwjMCGm0PWBaARxcSIujR9+nQpFi0r2v48lKVuMBBSF3/MSGAKBI6qkWaG4swzz8zDhgy0qO+0pT322EOeDfMqrhlgKt5knrYNhozAm/rxZhFyKOxrvCzPhy033woGdzw/74SBEG0ZbTpeeOLEDJWuUaCtx/2Ta/ws7yRLPdL87WgIGAKGgCFgCORBoLE0licXnwZvI3/5y18kdf/+/Uvmgg1naG9NZDpfDVN3YCySQttKZ85PCU007gRDjRiCJVozzCpUINb4aLf9lvR6GR0nPTrJ9e3XV+y/1S84QhCCTyh0kwCPIAwQ2A1SteLwgeeIehO64Ve9NXDO9Hw5QgDCfzneWnSGACyOO+64AqGbfBCc9ahmPBLwy98///nP8NJhu63vVm8gcPKD1AuF3kt7zMIzZkMMJHivfkt7+VEOwhsDqrxCN3lkqRvz589vhAV4Kj4MBPMSA0vqOuY06q+dASheakKhm/zTtsGQFxY2K4XnGsYxy/Mx2OKbwdoDBmQ6W0Z7wpSpHBXjgXRZ3kmWelSOJ7tvCBgChoAhYAiUQqCqGu9SBVVyD6EEYQ5hEltiNLhqDhHPF80mHThaM2xIWViJAFmKMDVhJ0OEfDZXKRUfIQmtIoKMTumXyrs53vvrX/8qAhS27KWwqKdny8IzAj87FjKTgqa1WF3K+nz1UjfwLPT2O2877Jd1nULWZ2nq+Mx8Mejo0rlLVc22sr6TLPWoqTGy8gwBQ8AQMASaPwLNQvBu/jDbExgChoAhYAgYAoaAIWAI/NYR+HXu+LeOhD2/IWAIGAKGgCFgCBgChoAhUEMETPCuIbiWtSFgCBgChoAhYAgYAoaAIaAImOCtSNjREDAEDAFDwBAwBAwBQ8AQqCECJnjXEFzL2hAwBAwBQ8AQMAQMAUPAEFAETPBWJOxoCBgChoAhYAgYAoaAIWAI1BABE7xrCK5lbQgYAoaAIWAIGAKGgCFgCCgCVdtARzO0oyFgCBgChoAhYAgYAoaAIVAOgVdeeUU2dNN4Xbt2TdwRW+9X88ieL2+++WaUJXt7NMWGiObHO4J88T6hgrEtOtulb7bZZqkflh0Q2Um0X99+Vd3YJDUDNY5Io2dDpF122WWx2hCJ3Ss/+OADeS4+Jkb1jcDChQvdXXfd5dq2besOOeSQ+ma2ibljg7Oll1666pt5sdvygu8X1NV3jY2kHn74YbfBhhu67jvu2MRIN+/i7Fte2/dXq/ay++67S1+l3F9yySWub9++elnT44033uhGjhwZlYHQ/+CDD0bXtTqp2NQE0Lbddlu36667uh9++KGAT3YI5N7222/v2E3PaNEhMGXKFHf++ee7e++9NxMTV111lbviiivcN99+kyldpZEfffRRN2HChEqzKZueMni+V199tWzcchFqxfMnn3wi276zq2Jauvnmm+V9M6hYHOizzz5zm2++uevevXuze5xvv/1W3t9LL71UlPd58+ZJPQw7gaKRm+AG32t44dvNN/zdd99NVeoxxxwj74n+oBzddtttEpf3imIgpL/85S+uZ8+esvPwBhts4P7whz+4TTfd1FGv2Y00idLw/K9//csdfvjhbpNNNnHrrruu23CjDSXv/fff373zzjtJ2TZp2FtvvSX14O4xYxLLrdU3JrGwZhZo3/LavLC7775bvrvaXtgN/IQTTihZGG2RbzVt+6yzzioZV29edNFF7r777nMHHHCABtX82KtXLykT2agpqWJTE7be1g/h7bff7k488cSI/59++sl9/vnncv39gu/rSrMQMfkbOVlqqd/JkzaXLeBPO+00qVcHHXRQs3lDteIZDdj1118vH7uzzz47FR6/+93P73uJJZZIFb/eI/3f//2fYyD/v//7v/XOaiP+GDgNGjTIbbzxxu7xxx9vdL+eAugwR4wc4ehs9bsOf19++WVZNh955BH35JNPSjzeVymiX2DAq2XQV4REPdd3zYwN7/7rr7+WNDNnznSjRo2Komfh+Z///KebNm2aaM//67/+y9FO4IUB6n777ecQ+JkVrFeq1TemXp93UfFVK5yb27f8vPPOc2PHjpXX0KpVK0eboQ0999xzJV/NBRde4D799FOJQ/w0hLa5qdveqquu6vjpdygNn9WIU7HgHTJx0003ueOOO67qU4JhGXaeD4HevQ93/Ix+Gwjccsstv40HtaesKgLvznzX/fnPf5Y8d/SmDq+//rpbsGBB2TIQfocMGSLf/jSd2Mknn1wyz/bt2zu00Ew5o6UUU0UAABsLSURBVCwgT/qXq6++WgYvs2bNcht6cwwoC89o62gbmJbp4HTu3K9dr1493d/+9jd38cUXiwasJHN20xBoQgQW1bf8/fffj4TuG264QQamPDZt8cUXXyyKAGaOmKhquy0a8Td8o2qCNx8xtByMjo488siSkH7xxRfusccek+lLztdcc00Z6Rx66KFu2WWXjdI+/fTTjg/s+uuvL1O17dq1c2eeeaZ8eKdOnSpThGhG4lpcXvxTTz0ldkOkYcpj7733jvINT7Bfvv/++yWodevWrl+/fuHtXOd0Qk8/87RoVhjtkS8jOTqStdZaKzHPhoYGse1jqhENGSNLpnkPPPDARs9HBtizYT6CHW/Lli1lGrZPnz5u+eWXL8ifWQhss5S23HJL16VLF70sODLde8899zgaXIcOHbyg3rvgfvwiDc4ffvihe+KJJ1xnX+bqq60mz8i09XrrrSezI4w2ldA2MYMCaed93XXX6W23mk9fif2r2tHCN7a0++67b5R3/GT27Nmi/YKf7777Tqa8t9hii+jjo/Hz8jxx4kQxb/n73//uOnbsKHWDqXQlhIGxY++Wy5dfflmOmMOEeDAbENYn2hL5hkSdCzHmHrbE1LeWLZdxkyc/4agTmAgg1Hz88cdeKOmROEgrx3NYbj2cYxs8fvx40WaiPcW8gDbCNyEktLtoUwcOHCjfpRdeeMH9+OOPDjO6gw8+OIwq5+Q7evRo99prr0k7pR4ttdRS8j3DxIIpWQhTCoRW1fhg5hC+PzQ83bp1k7jhH+/+wQcfkDZOPaUdMmWbRJgeqJlGjx495FuZFC9tGN/fPffc0/Fd5Tm22WabVIL32UPOlnjDhg1z/EoRNpTTp0+X9v+nP/1JsI7HRzMYEt94ZlMRAHg3tGEVvLPwvOKKK8rzhXm3bdvGDRgwQEyz+F41JSGg0Jdhptm9+05uueVaNSo+yzdm8uTJDpM0+rzOnTs3ygtTHWYXjj/+eKmzzFDQh/CdmDbtFc/LFLGnZ2BSbMofsy/MOviO0+9TN+nzaQNJdOutt0qZ3BvQf0BVZr7tW/4z0rX8ltMfQMcee2xBv0dbpH4lEf32SSedJPXiqKOOkkFuUrwsYVm/z/Rt9FW0q//5n/9xK6ywgvSx9Jf6bc5Sfi3iVry4Ets7wD799NPdf//3f7s2bdrIR7VFixby0LpClJWjq6yyijwDgnSSFgVhEyFYweHFPfvsswXPjRCrU5DcOProo92FF14YxTn33HPduHHjoms94UNyxx13OPgKCUFXzRnIm2nMSgkbQqYz40SF5cNHhx4SHTICvwqd4b0jjjjCXXbZZVEQWKMtSpqyXmeddWQBZRTZn6y99trhpWNwM2LEiIIwLsDhsMMOK+gEVSNER4fwxwBJKS3OvM/BgweLII9GSQVq8llmmWXcW2++FX2I4a2UrXXS8yk/5Y5MVdO5qOmTxqcjxgZ3+PDh0aCLjmu33XbTKAVH6jNCF4MdKCvPlEUnlWR7DaZ85CAGnAhApYhBVWhLiw0x9SUk6ttee+0VBokAGrYhbsbbFQNoBn5QWp4lco3+EA5oN9TJpHYSL/a9994TbSkCdUikH+PtZxEolRjwEG+rrbYSYVrDOZ566qnujDPOiIIQivfbb99G9WjllVcWc4iwHqFdpe0Uo7BtY8rBwI73gCDJIruQWJsR8qz3EPrV/hptbTmlh6ZLe6RMvk933nmnaImT0qEE4NuB4I9ihHpL2+adxYl6x0CP+2jTEZ7BiKlrBuPlCCGPtswApphgmIbneDmYFiDsb7fddon9Rzx+Na7/+Mc/OpRLIen3CCzpr6As3xi+CdRBFtDHBy98wxnEUYbas9PvsOhe62/IC8qq0KSHewyasNkNv+OEYw6EsEMfHieVEQjnGxUqC+Jx01zbt/xXlFAm1OpbTttEmYrshgIAZRQyXNI7Vo6QLZiZog6yboXrcm2K7zrfimJmXlm+z/DBoJK84sRaEQamSaRto9ksrtSH6OI7L2wY6cDKLYpDgDvllFNEK83LHO07QrSwaJ8R0uKE1lfzpJLRuaDJgsIPF50TQjcfdQQOPi5Dhw6VDw0CvE6hxvOv9jUfMYz24XnW+7NESKZj4mNFRx63Z6SiIEyACx82BD80EXSqjN5CuvbaayU/BAg6HwQMOj46PJ47TkwJoRlXgS5+X695H3SANAIaGlpqhIAkwSEPzmiSdt55Z5migm/yZvD159F/VhbcnXfcKYI3wrfOYnCuP7RDeYkPAEI3GNPJo61E24hQGSeEaoQA0tBRMBjTQSW80LkpZeWZ6XiE7t///vcObSXvDk0rz8sASxdQ8tGDR8rr37+/FMe0u2LBEVOAkBA4eNf8imlIw/gsntNFJbQrNLRqAhB+uNLyHOa9KM9pZ3wj+BYxMAFjBqoMQKjPmMPF2yD8zpgxw6Gdo37obAjfkbANjhhxpdQjtOZ8xGkrCEkIA3GiXN4TeUDMIoXv77xzz4snkU50ySWXFH5ZaISSAqLd1yOBNRou6i822+UIoY12T9sqpiEtlgeDUcWZzrwSYlZyqteIoU1D+FQhVdtaJXmnScv3lb6L7zgDeb4xtL2k71GWb8zhhx0u74IZBfrTkCgHSprJBFeUZ/DxZz8jBl+0GTBSYnaOfoZ3zpH+lfZCHWVwlnYRneaX92jf8sbIVftbzjcPoZt6gPKMWVm+nwimzKQkLRRnph6hG8VpNSwH4k+Z5vvMN4K+i+8RbZv+lG80nlLCGeV43k1+7QGuiDzIDV6IaJgydWqDF/Lk3GsFJU/fGOWa+/4jULIc3+Alrrfti+L56T8J85oRCSNf8vIfALn2gn6DH8VE8bnmvheMojBO/EdOwr2mpSCcC/9S5B7pSF8r+s9//tPAs1GOrxxRMV4zLmHg+M0330TheuKnIPW0wQsNDSHe0Y1fTsK48Xt+0CHl+IFN/FaEAfzBp5LyBs9+elGDBae0OHvhIcJ3/rz5UR5+lkLCvRAUhYUn+pxhWN5zb2oT4eYHKlE2XgCIwn2nFIUXO/EDBuHZm7skRinHs19sEmHhTToK8vCdltzzmreCcC68Zxm55wWbRveKBWjb8Z1noyjUc3iF/MdV8tZ2NGfOHLn2Qr7cz8uzJK7inx+gC1/h96FY9rxLbc9hfSa+F9jknhe0ouR+0C9hfoARhfmpbAkjH2/CI+FhPfJCRxSXdqltO6ke+dkkyct3XFGa+AnfR8rix/dKyQ+iJAwek2ifffaJ0nlNflKUisL0m/vMM88k5uM7NCnfm4DIfW+mJte+o24UX/sHr5SI7ilu8fYQRfjlhPeovFxwwQXx2wXXGq8Yz0T2pogRboo7YU1F+t4UNy3XKz6ELz/bq0EFx3LfGCL7gbzk4YWxKG34rfOzKVE47Zznh5+QvJmBhIfvCp6Iq98Gjf/VV3MlnHtJfZjyzH1vdqXJch3DNmjf8gbpi2vxLfcmGtE75b15JU8DsoNXMkThKofpi9S66xVLEuRd9UlcP9DTKIlHP7ss8cL3GUZM+30mDd9A+C31rQ3z1nM/kJB03rRQg2p6rJqNNyMGtBBoCjEpQGPbqVOnogMJRtL+wyjaI2wmlZI0rGq3vNxyy0k0bHYgRmO+ocs5mgKdcqFs8lZSG2emb9F0hZoWNO1oFiF8xVaL0PAyUsT+Ehth/xZlFEb+c+fOjYpRkwO0ZkwBxolnVML+Fm0D8ZJ8vIZxNU2aI6NECI2paprDa8pUyouz/zhEJiWaNzMQ2CXXmrDz4hlYlR2umlbbeEbEcSI+sypoddDmUG94j1CSViqePukaLZSSapq5pm6oJo/ymoL0PeuaCrCBWrX6uY3Nnz9fruuJZ2EoxR9mUxDvEJtuJXAOnytuqkAbVOJb4D/g0n6pP0yvhvUo/LbxPUGbot8RzSPvcYcddoiSeiFSzrXuRTd+OcFsRt24qilfPE6trvnGMUuC9r+cezG+6zqborajWfhippB2iEkDs5iVEmZAmClir0xfBH/M7GAqmWa2qNLy1S4fLWJImOkwC1wJMYNGH8j3C2860IQJD0t74Nniaz64z0xnSPDFzKR6puCemjTRv2NOqUS7ou8BQ/qzuP0vMz/EwcNSKTMFza/UMWyD9i3/GalafMv1m0IJzNSxZk7NdKkrmIagZccPNoR2mXqLZ6CktQUSqcK/ct9nsqf90LdiCYDpJuZSmPBVU7ar8DEkeVUFb3JkugmzBl4KLyOJ1K5M72mnr9cIyqEbNLWnVYFZr2nsKhSGdp+AHictg+mTUMCl0sYXW8XTZr2mM7r00kujZJiA8DxMsUJ65BxhGkIwLUf6jGussUa5qJnuq90zdlxxYpAT2skqD8TLgrPXshZkrYMnfX8FN6t84bW4kqMO4MLskzohBoL4Lg6fm/qjA7jwoxTmVe5c3zV1LknApoy8g6dyZcfva1vScC235S+DT33GeuJZeS13ZMoTYrBUDOekPLp0+XVxK/f1m6F1VOuR1t0wDwS2ahBmajoYIj/91hXLe6WVVip2q+bhKkhfc801Bd/rpIIxD6A90TdktfFlmnjSpElinoZJiAoaSeWkDWO9iK4Nol2zXwHT5F6bnmgfmjbftPF08B7ve1hAXilhDoCAi6kJi1C5HjPmZzOTYqY0cT70uxgqifScoyq8lFe+J/zCvk3vaV56XclR26B9y39FsRbf8vCdsTZKhW5KZf0Tgrf2/9Rl1pfQh2DbXSsq932mXL6fmBKyaBuzY13vh+kggni9bCZXdcF7jz32kIdDQFNvDOGLmOLtJ1nMwUti4Ua3bbqJJhRtNQsF8hI2wxCdpWpw8+ZVSTo0l2rryIedEZd+1HTRT5i/avEZEJQjfcZwhqBcmjT39SOWZPfqp3gLslAesuIcNtyCDJvgQgWl+LNQNKvj48T7Q0hAK3b55ZfLQiU6e2wey2n24nmF14odixbV3jK8X4/nzZFnbVPnnHOOY4F2WlpiiRYlo+qAPanOJAkcJTMrcjNUOBSJUjfBOghPshkGDxZ2o21ibYbOnGATzC9OrP+gT9A89T7CMJ0o9/ATrt9SvV+NI5iztgi3bXh0YlGYfhOrkX9SHjwPGmK+5eFAq1rfdtY4oPzC6wWKGrSRKIDoj5IoXn914A2fSpwTj7UNDFwWBdm3PD/qWb7lDPjp81A6ILeEpDNCOhBjMERdhpK03diD8y2IL1QP80xzXu77rHnw3T/l5FPcuHvGyVo1vj0M3LERT5JJNV1THqsueMM8XgCY4kqaUmQhJcTIO/TIEC7mkggZ/7ytoKRAgGXhTKsEt0xJWaLtZXMSCK0V042VEC+YysoKWqYylZgiY6o0Tgh3kHZM8fvhNQscIKYp4x/sMF7Wc6bUIdUUanpwVPMdDcuLs6bPeoybBmVNT/y1f/+zZxe0NPH8mDaNk24Zy+gdbZES7zYNxcvQNLpQztvGaVCqow5a1EwiVaIqRcrLMwtH8VoBMW2d5DavSiw2yoY2hVehuBDXKGLGAJ2VYlAWF85KuaFTYTou3GQsPjE63kbUewjeL7RTTIxc5UDM9MJZIbLn+6uL+sBLPZVgmhOPS3w1ZUATpUIV4RAzpmjKEQBok5rXz3er+48phM5swFNoSkRJ1a7PaOboD6ijnCulrbPFvjGaDx5zELwRktW8A+9dxWYL4uXqdWi+xDvie8mCtSyCN1P/KpihddQBrPKa5Wjf8ixoFcbN+i3n3WOey6xJ+F1R81idIWeQqt/GsES+A3wPGLAx+GvXrvLZnDD/UufIf7jI5Ye81N27P0TWQ8bBy86ipiVqwQBb/SLEJgmaqkkId0Ljo8cK/kqIDwoulKCLLr6oUVZoorE1ixM2xpTNT6cl4nGyXOuoUkeDmhb/2EmE3RK8o2mJu7pB6MULghLTkHjloIOIT+kwXRp3vajpyh11RAsPofB9x50/u7MK0+fFOcwjzbl2wtUYodII6TTALXwPmCEkCcFqYhDan6sXhFK8l+O56xZdRetEmXg1iBMdWtJAQE2LqoFFvMxy13l5pi4jOPEL11uUK68a95kahWjTSd+gqX7GjfeZldACMaCGrrzyyig57S6pHI2g05u82yRtucbLc8T0Qr9fOvWbJ588afDaNNXbR4c/nclBu0o4gjOEb+8wnp6rRhX3leH3D+02AhvfG77LSZq0PDxTrporaHq+C/o+KS+0HdY41a7PmLJBaPOVqJPqXUXD4sdy3xiNjwkSXo94NrTeEO4LixHlhm1C+dK+gXSqLQcrFaQ1P65DD2MazpFvrtZRBqyVkH3L86OX9VuOHAcx6AwJe29Iv4UIstqew6PuYo77UMJ79z48zKYm5wyadb2UFsDAk3YNxRWJGqepjzXReKOhwz0dH9s4YfzOi6ShI5xiXkKDLaUxiudR7BoN+0477SSNHKGKDw8CKS6SEGDRsIcfkmL5VBLOAlNeMqM9zG6YQkUjVUwoZuqUCorWHftH/I3jSo5NNxDOWKygC6zgC7diNAg+ZkydMJLjY4YLNDRrpFdi4ZUu1FHzG8x8mIqBGBwxxcrIFhsoNLp+dbts2sNirmIa3qbAmY6J8jEVYEDFgINRNdNVeQj3V/ww/2GREC7b1EVlPD+tQ2DDB4ORPRq3chrLcjzTadAm2JwEOzTeHZo12gFaBdoA9qxxzZ520ghuaB6ow/CPG0qdBeEZyFuniKnzEK4PdZcx0urHVG6m+MvLc4qsc0Whg6ddJxGCBS4XeU607Myi0R4RxLEr1oV0aF4ZhPNsWYn6w8IyBhQspqRuJA3ow3z58KPVpENAS4z2nwE63yMVZsL4i/qcQb1+r3TwydodVZogFFeitUzzfKHv9KRZSMxbQhepaXnmm8iz8S1hZoRZJN4jAirU38/Eaiedhs+8cXi+Bx54QHjB1SzaSL735UwOy31jQn6O8jOufO8hvimlNH0IJD127SH9AH2nKnxwMaiEr3P6Hb5D+Lyn7jIQQDuOC1MGpvrd0TS1ONq33Mk3rtbfctbisV4NhRzfUwRo6gbXEP1YvRHmoMz0IDPxraU/RL6k36CvJaweqGqC95K/jCj0oXhpABD/kPACMcFgcwB2iOPHh47FLSxsSRJu9EOoR516pywN45wPCyAj1CDs6hQs9xAyEXRKkU4Jl4pT7h6LEhCO+Tgg9Krgy46LTHUwBR5fDEHc1VZjtf6F8iHWTg+tER+4kDB9QGDE1jjMnzhgHhK2lTotpOFMHanWl84T4RLCTzXmK5SN9gnCuwKL69DmVYozgmJIeh3mG96nI8X2kQEaQik/Oo+8gjcfKYQINHBqSoJAxMCPZw7fPQIsmn/KVA0UWLFrHgvKwrhZeaaTVdwR6vkp8XxJ2jYGHQzMsD3nGXRAtL8flIWCN0KFChCaJx4+1MsHAr5+rEPcOY8/k74f8snDs05Vkx4730op5C9ploL8w9kCbIOp0xzjAyz4USGSdJp3+MyEK4VYITSj1aXdMFBCY8sqf468l2KLIWlTDKoQ0rV9w4MK3kss8bNGRnnRsssdw/jhebl0pe4zSFcTEI3HoEE1SZg5FCPFKi0vxeJrPeaY9L51N1DlIy3PDMoQKnm+8Bl5f7RtXTCq+eqx2vWZWRC+w/29oE+d4AcWDBwZ1CkuWr4es3wX8XzF7B19cOjdR/MKj9zHC4ra39P3YMYULvaEJwRsBg30s/CpBH707eWo2HOVSxfet2/5z57Rav0tR5ZhpofvP8K2CtwoDegLy5kb6bvWY/gOs5zrtyTN9xkZkDpPG9fBI2UxyFaT4ixl1ypuxTtX5mWMlbAIjgghjPZDYTpvnmE6ps0+/OhDGfFQQWqxKCcsL37OSIvno5NilBUXtuPx9Roh90OvQVjVC4W48SlVabFZpgw6+44dOubS4Gm5ekTzgUaYdxLaHur9+HFR4xznp9w1I19G7WgqS2mAyId3wcADu3Y1FyiXf5b7zIogLNLJwYuaKWXJo6njpuEZjHXtAusHVOPe1LxSHmZsCG6ssWD6HZyr5VoKsxHy4tvF1vK4pWRQF64LWBTPbGWWR4C2TZ2griJcUk+1g4+nrmV9pn7yDae/wJymGA9xntJc83xo/uhDZr47M7F/QFmDVhyBG28V8EJ9xoygVJ9Mv4ZpHLOt9K0snqsm72mez77laVAqHifNt1xTM+hm8Ek/SFspVTc0TdqjuifU+HiEKzdQ1LjFjrRvbLup+yiuwgFkmIbNzdQZBuF8u1UxF8ar9vkiE7yr/SCW328HAUyVMLNJQ3wk/GYyaaJanCohgA31kb/MvpTaarxKxTVpNggcCNihyRoDOUzCSgk4TcqkFVZVBJpjfcbEkplf/HmjidbdU+PAhII3ppFGhkBTI4A5S2idwMJgZqaaglg3Fe6IzQx4U8gLhfP/TfGkVoYhUCECEydOTL1gj9mOpmhIFT7SYpX8RW8+BqH1DtccLA4PyaJwNb3BNz3adPWDz1qNPHbjiwMui/MzNLf6fOCBB4rmGrNNBoNqTrg4vyN7tuaLAJ5HFhWxZkLXUDUlD6bxbkq0rayqIIA9Z9wzQbGMMWUKtZPF4ll49RBgChgzDEygsP1cnIipdRZxsogM21kEG6YxsQ1GIDda/BBobvUZbSE8Y6qI+75S2kMWT6IVZxF2U7r8XPxqiT2RIZAeARO802NlMQ0BQ8AQMAQMAUPAEDAEDIHcCCyRO6UlNAQMAUPAEDAEDAFDwBAwBAyB1AiY4J0aKotoCBgChoAhYAgYAoaAIWAI5EfABO/82FlKQ8AQMAQMAUPAEDAEDAFDIDUCJninhsoiGgKGgCFgCBgChoAhYAgYAvkRMME7P3aW0hAwBAwBQ8AQMAQMAUPAEEiNgAneqaGyiIaAIWAIGAKGgCFgCBgChkB+BEzwzo+dpTQEDAFDwBAwBAwBQ8AQMARSI2CCd2qoLKIhYAgYAoaAIWAIGAKGgCGQHwETvPNjZykNAUPAEDAEDAFDwBAwBAyB1AiY4J0aKotoCBgChoAhYAgYAoaAIWAI5EfABO/82FlKQ8AQMAQMAUPAEDAEDAFDIDUCJninhsoiGgKGgCFgCBgChoAhYAgYAvkRMME7P3aW0hAwBAwBQ8AQMAQMAUPAEEiNgAneqaGyiIaAIWAIGAKGgCFgCBgChkB+BEzwzo+dpTQEDAFDwBAwBAwBQ8AQMARSI7BkQ0ND6sgW0RAwBAwBQ8AQMAQMAUPAEDAE8iFgGu98uFkqQ8AQMAQMAUPAEDAEDAFDIBMC/x9CLvTqoE/yhgAAAABJRU5ErkJggg==)"
      ]
    },
    {
      "cell_type": "code",
      "metadata": {
        "id": "RLVeWNn2ui2W",
        "colab": {
          "base_uri": "https://localhost:8080/"
        },
        "outputId": "27b42a09-4b3d-414a-fd67-326df367d133"
      },
      "source": [
        "## Your Answer\n",
        "crashes['accident_datetime'] = crashes['accident_date']   + pd.to_timedelta(crashes['ACC_TIME'])\n",
        "\n",
        "#pd.to_datetime(\n",
        "#crashes['accident_date']   + pd.to_timedelta(crashes['ACC_TIME'])\n",
        "crashes['accident_datetime']"
      ],
      "execution_count": null,
      "outputs": [
        {
          "output_type": "execute_result",
          "data": {
            "text/plain": [
              "0        2020-06-18 15:15:00\n",
              "1        2020-04-30 06:39:00\n",
              "2        2020-05-04 09:46:00\n",
              "4        2020-04-14 17:32:00\n",
              "5        2020-06-16 17:10:00\n",
              "                 ...        \n",
              "715556   2021-04-15 13:20:00\n",
              "715557   2021-04-12 02:58:00\n",
              "715558   2021-05-14 23:52:00\n",
              "715559   2021-06-24 15:55:00\n",
              "715560   2021-06-01 01:10:00\n",
              "Name: accident_datetime, Length: 144213, dtype: datetime64[ns]"
            ]
          },
          "metadata": {},
          "execution_count": 115
        }
      ]
    },
    {
      "cell_type": "markdown",
      "metadata": {
        "id": "6Ih8btnGpOun"
      },
      "source": [
        "# Problem-7 (10 pts)"
      ]
    },
    {
      "cell_type": "markdown",
      "metadata": {
        "id": "Dgp2bxhZvu6Y"
      },
      "source": [
        "## Problem 7-a)"
      ]
    },
    {
      "cell_type": "markdown",
      "metadata": {
        "id": "DBC_cz-9u7kl"
      },
      "source": [
        "On which day of the week (Monday through Sunday) do the most of the crashes happen?"
      ]
    },
    {
      "cell_type": "code",
      "metadata": {
        "id": "dbey5HuYvnLQ",
        "colab": {
          "base_uri": "https://localhost:8080/",
          "height": 34
        },
        "outputId": "b67f4411-1778-4cd7-a69a-1ed1b0cd05f8"
      },
      "source": [
        "## Your Answer\n",
        "crashes['accident_datetime'].dt.day_name().value_counts().sort_values().index[-1]\n"
      ],
      "execution_count": null,
      "outputs": [
        {
          "output_type": "execute_result",
          "data": {
            "application/vnd.google.colaboratory.intrinsic+json": {
              "type": "string"
            },
            "text/plain": [
              "'Friday'"
            ]
          },
          "metadata": {},
          "execution_count": 126
        }
      ]
    },
    {
      "cell_type": "markdown",
      "metadata": {
        "id": "goUGEhXjvVaR"
      },
      "source": [
        "## Problem 7-b)\n",
        "On which hour of the day (00 - 24) do the most of the crashes happen?"
      ]
    },
    {
      "cell_type": "code",
      "metadata": {
        "colab": {
          "base_uri": "https://localhost:8080/"
        },
        "id": "fSNY66AG3RLL",
        "outputId": "21d1428e-694a-4683-a030-ba00153dc25a"
      },
      "source": [
        "crashes['accident_datetime'].dt.hour.value_counts().sort_values().index[-1]"
      ],
      "execution_count": null,
      "outputs": [
        {
          "output_type": "execute_result",
          "data": {
            "text/plain": [
              "16"
            ]
          },
          "metadata": {},
          "execution_count": 129
        }
      ]
    },
    {
      "cell_type": "markdown",
      "metadata": {
        "id": "5W8Rax9jv_6D"
      },
      "source": [
        "# Problem-8 (10 pts)"
      ]
    },
    {
      "cell_type": "markdown",
      "metadata": {
        "id": "OQk4oNdx35lz"
      },
      "source": [
        "- Note that both `people` and `crashes` data has 'REPORT_NO' columns. Now using this column combine these two dataframes. \n",
        "\n",
        "- We would like to keep all the rows on the 'crash' dataframe in this merge. Make sure that you explicitly set the parameters so that this would definitely happen. \n",
        "\n",
        "- Also if there are any column names that is shared by the two of these dataframes make sure that at the resulting dataframe would record these columns with '_crashes' and '_people' suffixes. \n"
      ]
    },
    {
      "cell_type": "code",
      "metadata": {
        "id": "ErjBgWQ610BM",
        "colab": {
          "base_uri": "https://localhost:8080/",
          "height": 998
        },
        "outputId": "fc638807-f346-468e-f538-075d511d882b"
      },
      "source": [
        "## Your Answer\n",
        "crashes.merge(people, how='left', on='REPORT_NO', suffixes=('_crashes', '_people'))\n"
      ],
      "execution_count": null,
      "outputs": [
        {
          "output_type": "execute_result",
          "data": {
            "text/html": [
              "<div>\n",
              "<style scoped>\n",
              "    .dataframe tbody tr th:only-of-type {\n",
              "        vertical-align: middle;\n",
              "    }\n",
              "\n",
              "    .dataframe tbody tr th {\n",
              "        vertical-align: top;\n",
              "    }\n",
              "\n",
              "    .dataframe thead th {\n",
              "        text-align: right;\n",
              "    }\n",
              "</style>\n",
              "<table border=\"1\" class=\"dataframe\">\n",
              "  <thead>\n",
              "    <tr style=\"text-align: right;\">\n",
              "      <th></th>\n",
              "      <th>YEAR_crashes</th>\n",
              "      <th>QUARTER</th>\n",
              "      <th>LIGHT_DESC</th>\n",
              "      <th>LIGHT_CODE</th>\n",
              "      <th>COUNTY_DESC</th>\n",
              "      <th>COUNTY_NO</th>\n",
              "      <th>MUNI_DESC</th>\n",
              "      <th>MUNI_CODE</th>\n",
              "      <th>JUNCTION_DESC</th>\n",
              "      <th>JUNCTION_CODE</th>\n",
              "      <th>COLLISION_TYPE_DESC</th>\n",
              "      <th>COLLISION_TYPE_CODE</th>\n",
              "      <th>SURF_COND_DESC</th>\n",
              "      <th>SURF_COND_CODE</th>\n",
              "      <th>LANE_DESC</th>\n",
              "      <th>LANE_CODE</th>\n",
              "      <th>RD_COND_DESC</th>\n",
              "      <th>RD_COND_CODE</th>\n",
              "      <th>RD_DIV_DESC</th>\n",
              "      <th>RD_DIV_CODE</th>\n",
              "      <th>FIX_OBJ_DESC</th>\n",
              "      <th>FIX_OBJ_CODE</th>\n",
              "      <th>REPORT_NO</th>\n",
              "      <th>REPORT_TYPE</th>\n",
              "      <th>WEATHER_DESC</th>\n",
              "      <th>WEATHER_CODE</th>\n",
              "      <th>ACC_DATE</th>\n",
              "      <th>ACC_TIME</th>\n",
              "      <th>LOC_CODE</th>\n",
              "      <th>SIGNAL_FLAG_DESC</th>\n",
              "      <th>SIGNAL_FLAG</th>\n",
              "      <th>C_M_ZONE_FLAG</th>\n",
              "      <th>AGENCY_CODE</th>\n",
              "      <th>AREA_CODE</th>\n",
              "      <th>HARM_EVENT_DESC1</th>\n",
              "      <th>HARM_EVENT_CODE1</th>\n",
              "      <th>HARM_EVENT_DESC2</th>\n",
              "      <th>HARM_EVENT_CODE2</th>\n",
              "      <th>RTE_NO</th>\n",
              "      <th>ROUTE_TYPE_CODE</th>\n",
              "      <th>...</th>\n",
              "      <th>OCC_SEAT_POS_CODE</th>\n",
              "      <th>PED_VISIBLE_DESC</th>\n",
              "      <th>PED_VISIBLE_CODE</th>\n",
              "      <th>PED_OBEY_DESC</th>\n",
              "      <th>PED_OBEY_CODE</th>\n",
              "      <th>PED_TYPE_DESC</th>\n",
              "      <th>PED_TYPE_CODE</th>\n",
              "      <th>PED_LOCATION_CODE</th>\n",
              "      <th>MOVEMENT_DESC</th>\n",
              "      <th>MOVEMENT_CODE</th>\n",
              "      <th>PERSON_TYPE_DESC</th>\n",
              "      <th>PERSON_TYPE</th>\n",
              "      <th>ALCOHOL_TEST_DESC</th>\n",
              "      <th>ALCOHOL_TEST_CODE</th>\n",
              "      <th>ALCOHOL_TESTTYPE_DESC</th>\n",
              "      <th>ALCOHOL_TESTTYPE_CODE</th>\n",
              "      <th>DRUG_TEST_DESC</th>\n",
              "      <th>DRUG_TEST_CODE</th>\n",
              "      <th>DRUG_TESTRESULT_DESC</th>\n",
              "      <th>DRUG_TESTRESULT_CODE</th>\n",
              "      <th>BAC_CODE</th>\n",
              "      <th>FAULT_FLAG_DESC</th>\n",
              "      <th>FAULT_FLAG</th>\n",
              "      <th>EQUIP_PROB_DESC</th>\n",
              "      <th>EQUIP_PROB_CODE</th>\n",
              "      <th>SAF_EQUIP_DESC</th>\n",
              "      <th>SAF_EQUIP_CODE</th>\n",
              "      <th>EJECT_DESC</th>\n",
              "      <th>EJECT_CODE</th>\n",
              "      <th>DATE_OF_BIRTH</th>\n",
              "      <th>PERSON_ID</th>\n",
              "      <th>LICENSE_STATE_CODE</th>\n",
              "      <th>CLASS</th>\n",
              "      <th>CDL_FLAG_DESC</th>\n",
              "      <th>CDL_FLAG</th>\n",
              "      <th>VEHICLE_ID</th>\n",
              "      <th>EMS_UNIT_LABEL</th>\n",
              "      <th>AIRBAG_DEPLOYED</th>\n",
              "      <th>YEAR_people</th>\n",
              "      <th>Quarter</th>\n",
              "    </tr>\n",
              "  </thead>\n",
              "  <tbody>\n",
              "    <tr>\n",
              "      <th>0</th>\n",
              "      <td>2020</td>\n",
              "      <td>Q2</td>\n",
              "      <td>Daylight</td>\n",
              "      <td>1.00</td>\n",
              "      <td>Baltimore</td>\n",
              "      <td>3.0</td>\n",
              "      <td>NaN</td>\n",
              "      <td>NaN</td>\n",
              "      <td>NaN</td>\n",
              "      <td>NaN</td>\n",
              "      <td>Other</td>\n",
              "      <td>88</td>\n",
              "      <td>NaN</td>\n",
              "      <td>NaN</td>\n",
              "      <td>NaN</td>\n",
              "      <td>NaN</td>\n",
              "      <td>NaN</td>\n",
              "      <td>NaN</td>\n",
              "      <td>NaN</td>\n",
              "      <td>NaN</td>\n",
              "      <td>Not Applicable</td>\n",
              "      <td>0.0</td>\n",
              "      <td>AE58770052</td>\n",
              "      <td>Property Damage Crash</td>\n",
              "      <td>Not Applicable</td>\n",
              "      <td>0.00</td>\n",
              "      <td>20200618</td>\n",
              "      <td>15:15:00</td>\n",
              "      <td>NaN</td>\n",
              "      <td>No</td>\n",
              "      <td>N</td>\n",
              "      <td>N</td>\n",
              "      <td>BACOPD</td>\n",
              "      <td>UNK</td>\n",
              "      <td>Parked Vehicle</td>\n",
              "      <td>2.0</td>\n",
              "      <td>Not Applicable</td>\n",
              "      <td>0.0</td>\n",
              "      <td>NaN</td>\n",
              "      <td>NaN</td>\n",
              "      <td>...</td>\n",
              "      <td>NaN</td>\n",
              "      <td>NaN</td>\n",
              "      <td>NaN</td>\n",
              "      <td>NaN</td>\n",
              "      <td>NaN</td>\n",
              "      <td>NaN</td>\n",
              "      <td>NaN</td>\n",
              "      <td>NaN</td>\n",
              "      <td>NaN</td>\n",
              "      <td>NaN</td>\n",
              "      <td>Driver</td>\n",
              "      <td>D</td>\n",
              "      <td>Not Applicable</td>\n",
              "      <td>0.0</td>\n",
              "      <td>NaN</td>\n",
              "      <td>NaN</td>\n",
              "      <td>Not Applicable</td>\n",
              "      <td>0.0</td>\n",
              "      <td>NaN</td>\n",
              "      <td>NaN</td>\n",
              "      <td>NaN</td>\n",
              "      <td>True</td>\n",
              "      <td>Y</td>\n",
              "      <td>Unknown</td>\n",
              "      <td>99.0</td>\n",
              "      <td>Unknown</td>\n",
              "      <td>99.0</td>\n",
              "      <td>Not Applicable</td>\n",
              "      <td>0.0</td>\n",
              "      <td>NaN</td>\n",
              "      <td>53715bb2-0082-4089-9a9e-62eabfd94dc8</td>\n",
              "      <td>NaN</td>\n",
              "      <td>NaN</td>\n",
              "      <td>False</td>\n",
              "      <td>False</td>\n",
              "      <td>3c9e8766-8b2a-4774-b85c-c645f2eabba0</td>\n",
              "      <td>NaN</td>\n",
              "      <td>0.0</td>\n",
              "      <td>2020.0</td>\n",
              "      <td>Q2</td>\n",
              "    </tr>\n",
              "    <tr>\n",
              "      <th>1</th>\n",
              "      <td>2020</td>\n",
              "      <td>Q2</td>\n",
              "      <td>NaN</td>\n",
              "      <td>6.02</td>\n",
              "      <td>Baltimore City</td>\n",
              "      <td>24.0</td>\n",
              "      <td>NaN</td>\n",
              "      <td>NaN</td>\n",
              "      <td>Non Intersection</td>\n",
              "      <td>1.0</td>\n",
              "      <td>Other</td>\n",
              "      <td>88</td>\n",
              "      <td>Dry</td>\n",
              "      <td>2.0</td>\n",
              "      <td>Left Turn Lane</td>\n",
              "      <td>2.0</td>\n",
              "      <td>No Defects</td>\n",
              "      <td>1.0</td>\n",
              "      <td>One-way Trafficway</td>\n",
              "      <td>2.0</td>\n",
              "      <td>Other Pole</td>\n",
              "      <td>10.0</td>\n",
              "      <td>ADJ984001J</td>\n",
              "      <td>Injury Crash</td>\n",
              "      <td>NaN</td>\n",
              "      <td>7.01</td>\n",
              "      <td>20200430</td>\n",
              "      <td>06:39:00</td>\n",
              "      <td>1003</td>\n",
              "      <td>Yes</td>\n",
              "      <td>Y</td>\n",
              "      <td>N</td>\n",
              "      <td>BALTIMORE</td>\n",
              "      <td>UNK</td>\n",
              "      <td>Other Vehicle</td>\n",
              "      <td>1.0</td>\n",
              "      <td>Other Vehicle</td>\n",
              "      <td>1.0</td>\n",
              "      <td>NaN</td>\n",
              "      <td>NaN</td>\n",
              "      <td>...</td>\n",
              "      <td>NaN</td>\n",
              "      <td>NaN</td>\n",
              "      <td>NaN</td>\n",
              "      <td>NaN</td>\n",
              "      <td>NaN</td>\n",
              "      <td>NaN</td>\n",
              "      <td>NaN</td>\n",
              "      <td>NaN</td>\n",
              "      <td>NaN</td>\n",
              "      <td>NaN</td>\n",
              "      <td>Driver</td>\n",
              "      <td>D</td>\n",
              "      <td>Not Applicable</td>\n",
              "      <td>0.0</td>\n",
              "      <td>NaN</td>\n",
              "      <td>NaN</td>\n",
              "      <td>Not Applicable</td>\n",
              "      <td>0.0</td>\n",
              "      <td>NaN</td>\n",
              "      <td>NaN</td>\n",
              "      <td>NaN</td>\n",
              "      <td>False</td>\n",
              "      <td>N</td>\n",
              "      <td>No Misuse</td>\n",
              "      <td>1.0</td>\n",
              "      <td>Shoulder/Lap Belt(s)</td>\n",
              "      <td>13.0</td>\n",
              "      <td>Not Ejected/Trapped</td>\n",
              "      <td>1.0</td>\n",
              "      <td>19750621.0</td>\n",
              "      <td>2a107168-e876-4624-be53-b123f41cf3ae</td>\n",
              "      <td>MD</td>\n",
              "      <td>NaN</td>\n",
              "      <td>False</td>\n",
              "      <td>False</td>\n",
              "      <td>6e506abc-74ce-46a2-b48c-2e09cdb1c20f</td>\n",
              "      <td>B</td>\n",
              "      <td>1.0</td>\n",
              "      <td>2020.0</td>\n",
              "      <td>Q2</td>\n",
              "    </tr>\n",
              "    <tr>\n",
              "      <th>2</th>\n",
              "      <td>2020</td>\n",
              "      <td>Q2</td>\n",
              "      <td>NaN</td>\n",
              "      <td>6.02</td>\n",
              "      <td>Baltimore City</td>\n",
              "      <td>24.0</td>\n",
              "      <td>NaN</td>\n",
              "      <td>NaN</td>\n",
              "      <td>Non Intersection</td>\n",
              "      <td>1.0</td>\n",
              "      <td>Other</td>\n",
              "      <td>88</td>\n",
              "      <td>Dry</td>\n",
              "      <td>2.0</td>\n",
              "      <td>Left Turn Lane</td>\n",
              "      <td>2.0</td>\n",
              "      <td>No Defects</td>\n",
              "      <td>1.0</td>\n",
              "      <td>One-way Trafficway</td>\n",
              "      <td>2.0</td>\n",
              "      <td>Other Pole</td>\n",
              "      <td>10.0</td>\n",
              "      <td>ADJ984001J</td>\n",
              "      <td>Injury Crash</td>\n",
              "      <td>NaN</td>\n",
              "      <td>7.01</td>\n",
              "      <td>20200430</td>\n",
              "      <td>06:39:00</td>\n",
              "      <td>1003</td>\n",
              "      <td>Yes</td>\n",
              "      <td>Y</td>\n",
              "      <td>N</td>\n",
              "      <td>BALTIMORE</td>\n",
              "      <td>UNK</td>\n",
              "      <td>Other Vehicle</td>\n",
              "      <td>1.0</td>\n",
              "      <td>Other Vehicle</td>\n",
              "      <td>1.0</td>\n",
              "      <td>NaN</td>\n",
              "      <td>NaN</td>\n",
              "      <td>...</td>\n",
              "      <td>NaN</td>\n",
              "      <td>NaN</td>\n",
              "      <td>NaN</td>\n",
              "      <td>NaN</td>\n",
              "      <td>NaN</td>\n",
              "      <td>NaN</td>\n",
              "      <td>NaN</td>\n",
              "      <td>NaN</td>\n",
              "      <td>NaN</td>\n",
              "      <td>NaN</td>\n",
              "      <td>Driver</td>\n",
              "      <td>D</td>\n",
              "      <td>Not Applicable</td>\n",
              "      <td>0.0</td>\n",
              "      <td>NaN</td>\n",
              "      <td>NaN</td>\n",
              "      <td>Not Applicable</td>\n",
              "      <td>0.0</td>\n",
              "      <td>NaN</td>\n",
              "      <td>NaN</td>\n",
              "      <td>NaN</td>\n",
              "      <td>False</td>\n",
              "      <td>N</td>\n",
              "      <td>No Misuse</td>\n",
              "      <td>1.0</td>\n",
              "      <td>Shoulder/Lap Belt(s)</td>\n",
              "      <td>13.0</td>\n",
              "      <td>Not Ejected/Trapped</td>\n",
              "      <td>1.0</td>\n",
              "      <td>NaN</td>\n",
              "      <td>9fe87418-8ebe-4ebd-9bd0-b6b16c2555c4</td>\n",
              "      <td>NaN</td>\n",
              "      <td>NaN</td>\n",
              "      <td>False</td>\n",
              "      <td>False</td>\n",
              "      <td>dd5c5d0a-2a52-4473-a33e-a7441e238b37</td>\n",
              "      <td>NaN</td>\n",
              "      <td>1.0</td>\n",
              "      <td>2020.0</td>\n",
              "      <td>Q2</td>\n",
              "    </tr>\n",
              "    <tr>\n",
              "      <th>3</th>\n",
              "      <td>2020</td>\n",
              "      <td>Q2</td>\n",
              "      <td>NaN</td>\n",
              "      <td>6.02</td>\n",
              "      <td>Baltimore City</td>\n",
              "      <td>24.0</td>\n",
              "      <td>NaN</td>\n",
              "      <td>NaN</td>\n",
              "      <td>Non Intersection</td>\n",
              "      <td>1.0</td>\n",
              "      <td>Other</td>\n",
              "      <td>88</td>\n",
              "      <td>Dry</td>\n",
              "      <td>2.0</td>\n",
              "      <td>Left Turn Lane</td>\n",
              "      <td>2.0</td>\n",
              "      <td>No Defects</td>\n",
              "      <td>1.0</td>\n",
              "      <td>One-way Trafficway</td>\n",
              "      <td>2.0</td>\n",
              "      <td>Other Pole</td>\n",
              "      <td>10.0</td>\n",
              "      <td>ADJ984001J</td>\n",
              "      <td>Injury Crash</td>\n",
              "      <td>NaN</td>\n",
              "      <td>7.01</td>\n",
              "      <td>20200430</td>\n",
              "      <td>06:39:00</td>\n",
              "      <td>1003</td>\n",
              "      <td>Yes</td>\n",
              "      <td>Y</td>\n",
              "      <td>N</td>\n",
              "      <td>BALTIMORE</td>\n",
              "      <td>UNK</td>\n",
              "      <td>Other Vehicle</td>\n",
              "      <td>1.0</td>\n",
              "      <td>Other Vehicle</td>\n",
              "      <td>1.0</td>\n",
              "      <td>NaN</td>\n",
              "      <td>NaN</td>\n",
              "      <td>...</td>\n",
              "      <td>NaN</td>\n",
              "      <td>NaN</td>\n",
              "      <td>NaN</td>\n",
              "      <td>NaN</td>\n",
              "      <td>NaN</td>\n",
              "      <td>NaN</td>\n",
              "      <td>NaN</td>\n",
              "      <td>NaN</td>\n",
              "      <td>NaN</td>\n",
              "      <td>NaN</td>\n",
              "      <td>Driver</td>\n",
              "      <td>D</td>\n",
              "      <td>Not Applicable</td>\n",
              "      <td>0.0</td>\n",
              "      <td>NaN</td>\n",
              "      <td>NaN</td>\n",
              "      <td>Not Applicable</td>\n",
              "      <td>0.0</td>\n",
              "      <td>NaN</td>\n",
              "      <td>NaN</td>\n",
              "      <td>NaN</td>\n",
              "      <td>False</td>\n",
              "      <td>N</td>\n",
              "      <td>Not Applicable</td>\n",
              "      <td>0.0</td>\n",
              "      <td>Shoulder/Lap Belt(s)</td>\n",
              "      <td>13.0</td>\n",
              "      <td>Not Ejected/Trapped</td>\n",
              "      <td>1.0</td>\n",
              "      <td>19670216.0</td>\n",
              "      <td>7c40af46-a448-4759-9c87-c029dc6f9ab4</td>\n",
              "      <td>MD</td>\n",
              "      <td>NaN</td>\n",
              "      <td>False</td>\n",
              "      <td>False</td>\n",
              "      <td>d8ade674-0336-4221-a2b0-f998ae7d4f36</td>\n",
              "      <td>NaN</td>\n",
              "      <td>1.0</td>\n",
              "      <td>2020.0</td>\n",
              "      <td>Q2</td>\n",
              "    </tr>\n",
              "    <tr>\n",
              "      <th>4</th>\n",
              "      <td>2020</td>\n",
              "      <td>Q2</td>\n",
              "      <td>NaN</td>\n",
              "      <td>6.02</td>\n",
              "      <td>Baltimore City</td>\n",
              "      <td>24.0</td>\n",
              "      <td>NaN</td>\n",
              "      <td>NaN</td>\n",
              "      <td>Non Intersection</td>\n",
              "      <td>1.0</td>\n",
              "      <td>Other</td>\n",
              "      <td>88</td>\n",
              "      <td>Dry</td>\n",
              "      <td>2.0</td>\n",
              "      <td>Left Turn Lane</td>\n",
              "      <td>2.0</td>\n",
              "      <td>No Defects</td>\n",
              "      <td>1.0</td>\n",
              "      <td>One-way Trafficway</td>\n",
              "      <td>2.0</td>\n",
              "      <td>Other Pole</td>\n",
              "      <td>10.0</td>\n",
              "      <td>ADJ984001J</td>\n",
              "      <td>Injury Crash</td>\n",
              "      <td>NaN</td>\n",
              "      <td>7.01</td>\n",
              "      <td>20200430</td>\n",
              "      <td>06:39:00</td>\n",
              "      <td>1003</td>\n",
              "      <td>Yes</td>\n",
              "      <td>Y</td>\n",
              "      <td>N</td>\n",
              "      <td>BALTIMORE</td>\n",
              "      <td>UNK</td>\n",
              "      <td>Other Vehicle</td>\n",
              "      <td>1.0</td>\n",
              "      <td>Other Vehicle</td>\n",
              "      <td>1.0</td>\n",
              "      <td>NaN</td>\n",
              "      <td>NaN</td>\n",
              "      <td>...</td>\n",
              "      <td>NaN</td>\n",
              "      <td>NaN</td>\n",
              "      <td>NaN</td>\n",
              "      <td>NaN</td>\n",
              "      <td>NaN</td>\n",
              "      <td>NaN</td>\n",
              "      <td>NaN</td>\n",
              "      <td>NaN</td>\n",
              "      <td>NaN</td>\n",
              "      <td>NaN</td>\n",
              "      <td>Driver</td>\n",
              "      <td>D</td>\n",
              "      <td>Not Applicable</td>\n",
              "      <td>0.0</td>\n",
              "      <td>NaN</td>\n",
              "      <td>NaN</td>\n",
              "      <td>Not Applicable</td>\n",
              "      <td>0.0</td>\n",
              "      <td>NaN</td>\n",
              "      <td>NaN</td>\n",
              "      <td>NaN</td>\n",
              "      <td>True</td>\n",
              "      <td>Y</td>\n",
              "      <td>Not Applicable</td>\n",
              "      <td>0.0</td>\n",
              "      <td>Not Applicable</td>\n",
              "      <td>0.0</td>\n",
              "      <td>Not Ejected/Trapped</td>\n",
              "      <td>1.0</td>\n",
              "      <td>19981206.0</td>\n",
              "      <td>a488a97c-3b5c-426d-a282-00ac93517677</td>\n",
              "      <td>MD</td>\n",
              "      <td>NaN</td>\n",
              "      <td>False</td>\n",
              "      <td>False</td>\n",
              "      <td>2212f949-edeb-4183-9b28-681904096b0e</td>\n",
              "      <td>A</td>\n",
              "      <td>2.0</td>\n",
              "      <td>2020.0</td>\n",
              "      <td>Q2</td>\n",
              "    </tr>\n",
              "    <tr>\n",
              "      <th>...</th>\n",
              "      <td>...</td>\n",
              "      <td>...</td>\n",
              "      <td>...</td>\n",
              "      <td>...</td>\n",
              "      <td>...</td>\n",
              "      <td>...</td>\n",
              "      <td>...</td>\n",
              "      <td>...</td>\n",
              "      <td>...</td>\n",
              "      <td>...</td>\n",
              "      <td>...</td>\n",
              "      <td>...</td>\n",
              "      <td>...</td>\n",
              "      <td>...</td>\n",
              "      <td>...</td>\n",
              "      <td>...</td>\n",
              "      <td>...</td>\n",
              "      <td>...</td>\n",
              "      <td>...</td>\n",
              "      <td>...</td>\n",
              "      <td>...</td>\n",
              "      <td>...</td>\n",
              "      <td>...</td>\n",
              "      <td>...</td>\n",
              "      <td>...</td>\n",
              "      <td>...</td>\n",
              "      <td>...</td>\n",
              "      <td>...</td>\n",
              "      <td>...</td>\n",
              "      <td>...</td>\n",
              "      <td>...</td>\n",
              "      <td>...</td>\n",
              "      <td>...</td>\n",
              "      <td>...</td>\n",
              "      <td>...</td>\n",
              "      <td>...</td>\n",
              "      <td>...</td>\n",
              "      <td>...</td>\n",
              "      <td>...</td>\n",
              "      <td>...</td>\n",
              "      <td>...</td>\n",
              "      <td>...</td>\n",
              "      <td>...</td>\n",
              "      <td>...</td>\n",
              "      <td>...</td>\n",
              "      <td>...</td>\n",
              "      <td>...</td>\n",
              "      <td>...</td>\n",
              "      <td>...</td>\n",
              "      <td>...</td>\n",
              "      <td>...</td>\n",
              "      <td>...</td>\n",
              "      <td>...</td>\n",
              "      <td>...</td>\n",
              "      <td>...</td>\n",
              "      <td>...</td>\n",
              "      <td>...</td>\n",
              "      <td>...</td>\n",
              "      <td>...</td>\n",
              "      <td>...</td>\n",
              "      <td>...</td>\n",
              "      <td>...</td>\n",
              "      <td>...</td>\n",
              "      <td>...</td>\n",
              "      <td>...</td>\n",
              "      <td>...</td>\n",
              "      <td>...</td>\n",
              "      <td>...</td>\n",
              "      <td>...</td>\n",
              "      <td>...</td>\n",
              "      <td>...</td>\n",
              "      <td>...</td>\n",
              "      <td>...</td>\n",
              "      <td>...</td>\n",
              "      <td>...</td>\n",
              "      <td>...</td>\n",
              "      <td>...</td>\n",
              "      <td>...</td>\n",
              "      <td>...</td>\n",
              "      <td>...</td>\n",
              "      <td>...</td>\n",
              "    </tr>\n",
              "    <tr>\n",
              "      <th>310885</th>\n",
              "      <td>2021</td>\n",
              "      <td>Q2</td>\n",
              "      <td>Dark Lights On</td>\n",
              "      <td>3.00</td>\n",
              "      <td>Anne Arundel</td>\n",
              "      <td>2.0</td>\n",
              "      <td>NaN</td>\n",
              "      <td>0.0</td>\n",
              "      <td>Non Intersection</td>\n",
              "      <td>1.0</td>\n",
              "      <td>Head On</td>\n",
              "      <td>1</td>\n",
              "      <td>Dry</td>\n",
              "      <td>2.0</td>\n",
              "      <td>Right Turn Lane</td>\n",
              "      <td>1.0</td>\n",
              "      <td>No Defects</td>\n",
              "      <td>1.0</td>\n",
              "      <td>Two-way, Not Divided</td>\n",
              "      <td>1.0</td>\n",
              "      <td>Not Applicable</td>\n",
              "      <td>0.0</td>\n",
              "      <td>AC2212006C</td>\n",
              "      <td>Property Damage Crash</td>\n",
              "      <td>NaN</td>\n",
              "      <td>6.01</td>\n",
              "      <td>20210514</td>\n",
              "      <td>23:52:00</td>\n",
              "      <td>2B3</td>\n",
              "      <td>No</td>\n",
              "      <td>N</td>\n",
              "      <td>N</td>\n",
              "      <td>AACOPD</td>\n",
              "      <td>UNK</td>\n",
              "      <td>Parked Vehicle</td>\n",
              "      <td>2.0</td>\n",
              "      <td>Not Applicable</td>\n",
              "      <td>0.0</td>\n",
              "      <td>535.0</td>\n",
              "      <td>CO</td>\n",
              "      <td>...</td>\n",
              "      <td>NaN</td>\n",
              "      <td>NaN</td>\n",
              "      <td>NaN</td>\n",
              "      <td>NaN</td>\n",
              "      <td>NaN</td>\n",
              "      <td>NaN</td>\n",
              "      <td>NaN</td>\n",
              "      <td>NaN</td>\n",
              "      <td>NaN</td>\n",
              "      <td>NaN</td>\n",
              "      <td>Driver</td>\n",
              "      <td>D</td>\n",
              "      <td>Not Applicable</td>\n",
              "      <td>0.0</td>\n",
              "      <td>NaN</td>\n",
              "      <td>NaN</td>\n",
              "      <td>Not Applicable</td>\n",
              "      <td>0.0</td>\n",
              "      <td>NaN</td>\n",
              "      <td>NaN</td>\n",
              "      <td>NaN</td>\n",
              "      <td>True</td>\n",
              "      <td>Y</td>\n",
              "      <td>Unknown</td>\n",
              "      <td>99.0</td>\n",
              "      <td>Unknown</td>\n",
              "      <td>99.0</td>\n",
              "      <td>Not Ejected/Trapped</td>\n",
              "      <td>1.0</td>\n",
              "      <td>19970528.0</td>\n",
              "      <td>8fdcdf74-be65-4b47-b2f1-7c7a627e5153</td>\n",
              "      <td>MD</td>\n",
              "      <td>C</td>\n",
              "      <td>False</td>\n",
              "      <td>False</td>\n",
              "      <td>e108c532-b053-4a7f-b427-4115c67f54e3</td>\n",
              "      <td>NaN</td>\n",
              "      <td>1.0</td>\n",
              "      <td>2021.0</td>\n",
              "      <td>Q2</td>\n",
              "    </tr>\n",
              "    <tr>\n",
              "      <th>310886</th>\n",
              "      <td>2021</td>\n",
              "      <td>Q2</td>\n",
              "      <td>Daylight</td>\n",
              "      <td>1.00</td>\n",
              "      <td>Prince George's</td>\n",
              "      <td>16.0</td>\n",
              "      <td>NaN</td>\n",
              "      <td>0.0</td>\n",
              "      <td>Intersection Related</td>\n",
              "      <td>3.0</td>\n",
              "      <td>Same Movement Angle</td>\n",
              "      <td>11</td>\n",
              "      <td>Dry</td>\n",
              "      <td>2.0</td>\n",
              "      <td>Left Turn Lane</td>\n",
              "      <td>2.0</td>\n",
              "      <td>No Defects</td>\n",
              "      <td>1.0</td>\n",
              "      <td>Two-way, Divided, Unprotected (painted &gt;4 feet...</td>\n",
              "      <td>3.0</td>\n",
              "      <td>Not Applicable</td>\n",
              "      <td>0.0</td>\n",
              "      <td>DA39930081</td>\n",
              "      <td>Property Damage Crash</td>\n",
              "      <td>NaN</td>\n",
              "      <td>6.01</td>\n",
              "      <td>20210624</td>\n",
              "      <td>15:55:00</td>\n",
              "      <td>NaN</td>\n",
              "      <td>Yes</td>\n",
              "      <td>Y</td>\n",
              "      <td>N</td>\n",
              "      <td>PGCOPD</td>\n",
              "      <td>UNK</td>\n",
              "      <td>Other Vehicle</td>\n",
              "      <td>1.0</td>\n",
              "      <td>Other Vehicle</td>\n",
              "      <td>1.0</td>\n",
              "      <td>223.0</td>\n",
              "      <td>MD</td>\n",
              "      <td>...</td>\n",
              "      <td>NaN</td>\n",
              "      <td>NaN</td>\n",
              "      <td>NaN</td>\n",
              "      <td>NaN</td>\n",
              "      <td>NaN</td>\n",
              "      <td>NaN</td>\n",
              "      <td>NaN</td>\n",
              "      <td>NaN</td>\n",
              "      <td>NaN</td>\n",
              "      <td>NaN</td>\n",
              "      <td>Driver</td>\n",
              "      <td>D</td>\n",
              "      <td>Not Applicable</td>\n",
              "      <td>0.0</td>\n",
              "      <td>NaN</td>\n",
              "      <td>NaN</td>\n",
              "      <td>Not Applicable</td>\n",
              "      <td>0.0</td>\n",
              "      <td>NaN</td>\n",
              "      <td>NaN</td>\n",
              "      <td>NaN</td>\n",
              "      <td>False</td>\n",
              "      <td>N</td>\n",
              "      <td>No Misuse</td>\n",
              "      <td>1.0</td>\n",
              "      <td>Shoulder/Lap Belt(s)</td>\n",
              "      <td>13.0</td>\n",
              "      <td>Not Ejected/Trapped</td>\n",
              "      <td>1.0</td>\n",
              "      <td>19731008.0</td>\n",
              "      <td>38961ee2-6c14-4b48-a431-11f24259dd35</td>\n",
              "      <td>MD</td>\n",
              "      <td>C</td>\n",
              "      <td>False</td>\n",
              "      <td>False</td>\n",
              "      <td>626ac645-aff8-4a1c-a266-46a9a2e1e842</td>\n",
              "      <td>NaN</td>\n",
              "      <td>1.0</td>\n",
              "      <td>2021.0</td>\n",
              "      <td>Q2</td>\n",
              "    </tr>\n",
              "    <tr>\n",
              "      <th>310887</th>\n",
              "      <td>2021</td>\n",
              "      <td>Q2</td>\n",
              "      <td>Daylight</td>\n",
              "      <td>1.00</td>\n",
              "      <td>Prince George's</td>\n",
              "      <td>16.0</td>\n",
              "      <td>NaN</td>\n",
              "      <td>0.0</td>\n",
              "      <td>Intersection Related</td>\n",
              "      <td>3.0</td>\n",
              "      <td>Same Movement Angle</td>\n",
              "      <td>11</td>\n",
              "      <td>Dry</td>\n",
              "      <td>2.0</td>\n",
              "      <td>Left Turn Lane</td>\n",
              "      <td>2.0</td>\n",
              "      <td>No Defects</td>\n",
              "      <td>1.0</td>\n",
              "      <td>Two-way, Divided, Unprotected (painted &gt;4 feet...</td>\n",
              "      <td>3.0</td>\n",
              "      <td>Not Applicable</td>\n",
              "      <td>0.0</td>\n",
              "      <td>DA39930081</td>\n",
              "      <td>Property Damage Crash</td>\n",
              "      <td>NaN</td>\n",
              "      <td>6.01</td>\n",
              "      <td>20210624</td>\n",
              "      <td>15:55:00</td>\n",
              "      <td>NaN</td>\n",
              "      <td>Yes</td>\n",
              "      <td>Y</td>\n",
              "      <td>N</td>\n",
              "      <td>PGCOPD</td>\n",
              "      <td>UNK</td>\n",
              "      <td>Other Vehicle</td>\n",
              "      <td>1.0</td>\n",
              "      <td>Other Vehicle</td>\n",
              "      <td>1.0</td>\n",
              "      <td>223.0</td>\n",
              "      <td>MD</td>\n",
              "      <td>...</td>\n",
              "      <td>NaN</td>\n",
              "      <td>NaN</td>\n",
              "      <td>NaN</td>\n",
              "      <td>NaN</td>\n",
              "      <td>NaN</td>\n",
              "      <td>NaN</td>\n",
              "      <td>NaN</td>\n",
              "      <td>NaN</td>\n",
              "      <td>NaN</td>\n",
              "      <td>NaN</td>\n",
              "      <td>Driver</td>\n",
              "      <td>D</td>\n",
              "      <td>Not Applicable</td>\n",
              "      <td>0.0</td>\n",
              "      <td>NaN</td>\n",
              "      <td>NaN</td>\n",
              "      <td>Not Applicable</td>\n",
              "      <td>0.0</td>\n",
              "      <td>NaN</td>\n",
              "      <td>NaN</td>\n",
              "      <td>NaN</td>\n",
              "      <td>True</td>\n",
              "      <td>Y</td>\n",
              "      <td>Unknown</td>\n",
              "      <td>99.0</td>\n",
              "      <td>Unknown</td>\n",
              "      <td>99.0</td>\n",
              "      <td>Not Ejected/Trapped</td>\n",
              "      <td>1.0</td>\n",
              "      <td>NaN</td>\n",
              "      <td>e39086f5-b66a-423e-ba6f-9ffe7a2fd983</td>\n",
              "      <td>NaN</td>\n",
              "      <td>NaN</td>\n",
              "      <td>False</td>\n",
              "      <td>False</td>\n",
              "      <td>e9a59763-4c46-4110-bc71-acfa3edd8470</td>\n",
              "      <td>NaN</td>\n",
              "      <td>99.0</td>\n",
              "      <td>2021.0</td>\n",
              "      <td>Q2</td>\n",
              "    </tr>\n",
              "    <tr>\n",
              "      <th>310888</th>\n",
              "      <td>2021</td>\n",
              "      <td>Q2</td>\n",
              "      <td>Dark Lights On</td>\n",
              "      <td>3.00</td>\n",
              "      <td>Baltimore</td>\n",
              "      <td>3.0</td>\n",
              "      <td>NaN</td>\n",
              "      <td>0.0</td>\n",
              "      <td>Intersection</td>\n",
              "      <td>2.0</td>\n",
              "      <td>Same Direction Left Turn</td>\n",
              "      <td>9</td>\n",
              "      <td>Dry</td>\n",
              "      <td>2.0</td>\n",
              "      <td>Right Turn Lane</td>\n",
              "      <td>1.0</td>\n",
              "      <td>No Defects</td>\n",
              "      <td>1.0</td>\n",
              "      <td>Two-way, Not Divided</td>\n",
              "      <td>1.0</td>\n",
              "      <td>Not Applicable</td>\n",
              "      <td>0.0</td>\n",
              "      <td>AE5414003H</td>\n",
              "      <td>Property Damage Crash</td>\n",
              "      <td>NaN</td>\n",
              "      <td>6.01</td>\n",
              "      <td>20210601</td>\n",
              "      <td>01:10:00</td>\n",
              "      <td>PC09 929</td>\n",
              "      <td>Yes</td>\n",
              "      <td>Y</td>\n",
              "      <td>N</td>\n",
              "      <td>BACOPD</td>\n",
              "      <td>UNK</td>\n",
              "      <td>Other Vehicle</td>\n",
              "      <td>1.0</td>\n",
              "      <td>Not Applicable</td>\n",
              "      <td>0.0</td>\n",
              "      <td>1.0</td>\n",
              "      <td>US</td>\n",
              "      <td>...</td>\n",
              "      <td>NaN</td>\n",
              "      <td>NaN</td>\n",
              "      <td>NaN</td>\n",
              "      <td>NaN</td>\n",
              "      <td>NaN</td>\n",
              "      <td>NaN</td>\n",
              "      <td>NaN</td>\n",
              "      <td>NaN</td>\n",
              "      <td>NaN</td>\n",
              "      <td>NaN</td>\n",
              "      <td>Driver</td>\n",
              "      <td>D</td>\n",
              "      <td>Not Applicable</td>\n",
              "      <td>0.0</td>\n",
              "      <td>NaN</td>\n",
              "      <td>NaN</td>\n",
              "      <td>Not Applicable</td>\n",
              "      <td>0.0</td>\n",
              "      <td>NaN</td>\n",
              "      <td>NaN</td>\n",
              "      <td>NaN</td>\n",
              "      <td>False</td>\n",
              "      <td>N</td>\n",
              "      <td>No Misuse</td>\n",
              "      <td>1.0</td>\n",
              "      <td>Shoulder/Lap Belt(s)</td>\n",
              "      <td>13.0</td>\n",
              "      <td>Not Ejected/Trapped</td>\n",
              "      <td>1.0</td>\n",
              "      <td>20020404.0</td>\n",
              "      <td>e4e37ee3-e8d8-42ed-b92b-67bccd55e7c4</td>\n",
              "      <td>MD</td>\n",
              "      <td>C</td>\n",
              "      <td>False</td>\n",
              "      <td>False</td>\n",
              "      <td>8a44c5f1-6076-486d-a4db-cd81218c8f47</td>\n",
              "      <td>NaN</td>\n",
              "      <td>1.0</td>\n",
              "      <td>2021.0</td>\n",
              "      <td>Q2</td>\n",
              "    </tr>\n",
              "    <tr>\n",
              "      <th>310889</th>\n",
              "      <td>2021</td>\n",
              "      <td>Q2</td>\n",
              "      <td>Dark Lights On</td>\n",
              "      <td>3.00</td>\n",
              "      <td>Baltimore</td>\n",
              "      <td>3.0</td>\n",
              "      <td>NaN</td>\n",
              "      <td>0.0</td>\n",
              "      <td>Intersection</td>\n",
              "      <td>2.0</td>\n",
              "      <td>Same Direction Left Turn</td>\n",
              "      <td>9</td>\n",
              "      <td>Dry</td>\n",
              "      <td>2.0</td>\n",
              "      <td>Right Turn Lane</td>\n",
              "      <td>1.0</td>\n",
              "      <td>No Defects</td>\n",
              "      <td>1.0</td>\n",
              "      <td>Two-way, Not Divided</td>\n",
              "      <td>1.0</td>\n",
              "      <td>Not Applicable</td>\n",
              "      <td>0.0</td>\n",
              "      <td>AE5414003H</td>\n",
              "      <td>Property Damage Crash</td>\n",
              "      <td>NaN</td>\n",
              "      <td>6.01</td>\n",
              "      <td>20210601</td>\n",
              "      <td>01:10:00</td>\n",
              "      <td>PC09 929</td>\n",
              "      <td>Yes</td>\n",
              "      <td>Y</td>\n",
              "      <td>N</td>\n",
              "      <td>BACOPD</td>\n",
              "      <td>UNK</td>\n",
              "      <td>Other Vehicle</td>\n",
              "      <td>1.0</td>\n",
              "      <td>Not Applicable</td>\n",
              "      <td>0.0</td>\n",
              "      <td>1.0</td>\n",
              "      <td>US</td>\n",
              "      <td>...</td>\n",
              "      <td>NaN</td>\n",
              "      <td>NaN</td>\n",
              "      <td>NaN</td>\n",
              "      <td>NaN</td>\n",
              "      <td>NaN</td>\n",
              "      <td>NaN</td>\n",
              "      <td>NaN</td>\n",
              "      <td>NaN</td>\n",
              "      <td>NaN</td>\n",
              "      <td>NaN</td>\n",
              "      <td>Driver</td>\n",
              "      <td>D</td>\n",
              "      <td>Not Applicable</td>\n",
              "      <td>0.0</td>\n",
              "      <td>NaN</td>\n",
              "      <td>NaN</td>\n",
              "      <td>Not Applicable</td>\n",
              "      <td>0.0</td>\n",
              "      <td>NaN</td>\n",
              "      <td>NaN</td>\n",
              "      <td>NaN</td>\n",
              "      <td>True</td>\n",
              "      <td>Y</td>\n",
              "      <td>Not Applicable</td>\n",
              "      <td>0.0</td>\n",
              "      <td>Unknown</td>\n",
              "      <td>99.0</td>\n",
              "      <td>Not Ejected/Trapped</td>\n",
              "      <td>1.0</td>\n",
              "      <td>NaN</td>\n",
              "      <td>39e421d6-6af8-4e31-937c-308a682e3b51</td>\n",
              "      <td>NaN</td>\n",
              "      <td>NaN</td>\n",
              "      <td>False</td>\n",
              "      <td>False</td>\n",
              "      <td>c2275385-4792-4fa0-acc0-cc1819878ca8</td>\n",
              "      <td>NaN</td>\n",
              "      <td>1.0</td>\n",
              "      <td>2021.0</td>\n",
              "      <td>Q2</td>\n",
              "    </tr>\n",
              "  </tbody>\n",
              "</table>\n",
              "<p>310890 rows × 105 columns</p>\n",
              "</div>"
            ],
            "text/plain": [
              "        YEAR_crashes QUARTER  ... YEAR_people  Quarter\n",
              "0               2020      Q2  ...      2020.0       Q2\n",
              "1               2020      Q2  ...      2020.0       Q2\n",
              "2               2020      Q2  ...      2020.0       Q2\n",
              "3               2020      Q2  ...      2020.0       Q2\n",
              "4               2020      Q2  ...      2020.0       Q2\n",
              "...              ...     ...  ...         ...      ...\n",
              "310885          2021      Q2  ...      2021.0       Q2\n",
              "310886          2021      Q2  ...      2021.0       Q2\n",
              "310887          2021      Q2  ...      2021.0       Q2\n",
              "310888          2021      Q2  ...      2021.0       Q2\n",
              "310889          2021      Q2  ...      2021.0       Q2\n",
              "\n",
              "[310890 rows x 105 columns]"
            ]
          },
          "metadata": {},
          "execution_count": 134
        }
      ]
    },
    {
      "cell_type": "code",
      "metadata": {
        "id": "qvuJdhjU4JtL"
      },
      "source": [
        ""
      ],
      "execution_count": null,
      "outputs": []
    }
  ]
}