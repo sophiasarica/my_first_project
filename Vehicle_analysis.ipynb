{
  "nbformat": 4,
  "nbformat_minor": 0,
  "metadata": {
    "colab": {
      "name": "Sophia_VEHICLE.ipynb",
      "provenance": [],
      "authorship_tag": "ABX9TyNG2SXK/Zt58FG1HC3lXCNG",
      "include_colab_link": true
    },
    "kernelspec": {
      "name": "python3",
      "display_name": "Python 3"
    },
    "language_info": {
      "name": "python"
    }
  },
  "cells": [
    {
      "cell_type": "markdown",
      "metadata": {
        "id": "view-in-github",
        "colab_type": "text"
      },
      "source": [
        "<a href=\"https://colab.research.google.com/github/sophiasarica/my_first_repo/blob/main/Sophia_VEHICLE.ipynb\" target=\"_parent\"><img src=\"https://colab.research.google.com/assets/colab-badge.svg\" alt=\"Open In Colab\"/></a>"
      ]
    },
    {
      "cell_type": "markdown",
      "source": [
        "## Data601 Final Project <a id=\"4\"></a>\n",
        "\n"
      ],
      "metadata": {
        "id": "bai4qD47yH0A"
      }
    },
    {
      "cell_type": "markdown",
      "source": [
        ""
      ],
      "metadata": {
        "id": "baFgk0jj-fim"
      }
    },
    {
      "cell_type": "markdown",
      "source": [
        "**DataSets**\n",
        "*   Vehicle Details\n",
        "*   Vehicle Crashes \n"
      ],
      "metadata": {
        "id": "Qb2d9FyY2-r7"
      }
    },
    {
      "cell_type": "markdown",
      "source": [
        "\n",
        "**Importing  'Vehichle Details' DataSet**\n",
        "\n",
        "\n"
      ],
      "metadata": {
        "id": "eiREhnvK0-oD"
      }
    },
    {
      "cell_type": "code",
      "execution_count": 1,
      "metadata": {
        "id": "cTldLiaQVi8s"
      },
      "outputs": [],
      "source": [
        "# import pyplot interface of matplotlib\n",
        "import matplotlib.pyplot as plt\n",
        "\n",
        "%matplotlib inline\n"
      ]
    },
    {
      "cell_type": "code",
      "source": [
        "import pandas as pd\n",
        "\n",
        "## read_csv file \n",
        "#df = pd.read_csv(\"/content/mhft-5t5y.csv\")\n",
        "df = pd.read_csv('https://opendata.maryland.gov/resource/mhft-5t5y.csv?$limit=800000', low_memory=False)\n",
        "\n",
        "#df.head()"
      ],
      "metadata": {
        "id": "m2kQdqK_V2N9"
      },
      "execution_count": 2,
      "outputs": []
    },
    {
      "cell_type": "code",
      "source": [
        "df.head()"
      ],
      "metadata": {
        "colab": {
          "base_uri": "https://localhost:8080/",
          "height": 513
        },
        "id": "se0yTjSf4l7G",
        "outputId": "08555f77-5315-4319-84cc-fa541b315acd"
      },
      "execution_count": 3,
      "outputs": [
        {
          "output_type": "execute_result",
          "data": {
            "text/html": [
              "\n",
              "  <div id=\"df-061fa576-bbdd-4a02-a545-9561920ddcb1\">\n",
              "    <div class=\"colab-df-container\">\n",
              "      <div>\n",
              "<style scoped>\n",
              "    .dataframe tbody tr th:only-of-type {\n",
              "        vertical-align: middle;\n",
              "    }\n",
              "\n",
              "    .dataframe tbody tr th {\n",
              "        vertical-align: top;\n",
              "    }\n",
              "\n",
              "    .dataframe thead th {\n",
              "        text-align: right;\n",
              "    }\n",
              "</style>\n",
              "<table border=\"1\" class=\"dataframe\">\n",
              "  <thead>\n",
              "    <tr style=\"text-align: right;\">\n",
              "      <th></th>\n",
              "      <th>harm_event_desc</th>\n",
              "      <th>harm_event_code</th>\n",
              "      <th>conti_direction_desc</th>\n",
              "      <th>conti_direction_code</th>\n",
              "      <th>damage_desc</th>\n",
              "      <th>damage_code</th>\n",
              "      <th>movement_desc</th>\n",
              "      <th>movement_code</th>\n",
              "      <th>vin_no</th>\n",
              "      <th>report_no</th>\n",
              "      <th>cv_body_type_desc</th>\n",
              "      <th>cv_body_type_code</th>\n",
              "      <th>veh_year</th>\n",
              "      <th>veh_make</th>\n",
              "      <th>veh_model</th>\n",
              "      <th>commercial_flag_desc</th>\n",
              "      <th>commercial_flag</th>\n",
              "      <th>hzm_num</th>\n",
              "      <th>towed_away_flag_desc</th>\n",
              "      <th>towed_away_flag</th>\n",
              "      <th>num_axles</th>\n",
              "      <th>gvw_desc</th>\n",
              "      <th>gvw_code</th>\n",
              "      <th>going_direction_desc</th>\n",
              "      <th>going_direction_code</th>\n",
              "      <th>body_type_desc</th>\n",
              "      <th>body_type_code</th>\n",
              "      <th>driverless_flag_desc</th>\n",
              "      <th>driverless_flag</th>\n",
              "      <th>fire_flag_desc</th>\n",
              "      <th>fire_flag</th>\n",
              "      <th>parked_flag_desc</th>\n",
              "      <th>parked_flag</th>\n",
              "      <th>speed_limit</th>\n",
              "      <th>hit_and_run_flag_desc</th>\n",
              "      <th>hit_and_run_flag</th>\n",
              "      <th>hazmat_spill_flag_desc</th>\n",
              "      <th>hazmat_spill_flag</th>\n",
              "      <th>vehicle_id</th>\n",
              "      <th>towed_vehicle_config_desc</th>\n",
              "      <th>towed_vehicle_config_code</th>\n",
              "      <th>area_damaged_code_imp1</th>\n",
              "      <th>area_damaged_code1</th>\n",
              "      <th>area_damaged_code2</th>\n",
              "      <th>area_damaged_code3</th>\n",
              "      <th>area_damaged_code_main_desc</th>\n",
              "      <th>area_damaged_code_main</th>\n",
              "      <th>year</th>\n",
              "      <th>quarter</th>\n",
              "    </tr>\n",
              "  </thead>\n",
              "  <tbody>\n",
              "    <tr>\n",
              "      <th>0</th>\n",
              "      <td>Other Vehicle</td>\n",
              "      <td>1.0</td>\n",
              "      <td>North</td>\n",
              "      <td>N</td>\n",
              "      <td>Unknown</td>\n",
              "      <td>99</td>\n",
              "      <td>Unknown</td>\n",
              "      <td>99.0</td>\n",
              "      <td>NaN</td>\n",
              "      <td>AE5057004X</td>\n",
              "      <td>NaN</td>\n",
              "      <td>NaN</td>\n",
              "      <td>NaN</td>\n",
              "      <td>UNKNOWN</td>\n",
              "      <td>UNKNOWN</td>\n",
              "      <td>No</td>\n",
              "      <td>N</td>\n",
              "      <td>NaN</td>\n",
              "      <td>No</td>\n",
              "      <td>N</td>\n",
              "      <td>NaN</td>\n",
              "      <td>NaN</td>\n",
              "      <td>NaN</td>\n",
              "      <td>North</td>\n",
              "      <td>N</td>\n",
              "      <td>NaN</td>\n",
              "      <td>NaN</td>\n",
              "      <td>NaN</td>\n",
              "      <td>U</td>\n",
              "      <td>No</td>\n",
              "      <td>N</td>\n",
              "      <td>No</td>\n",
              "      <td>N</td>\n",
              "      <td>25</td>\n",
              "      <td>Yes</td>\n",
              "      <td>Y</td>\n",
              "      <td>NaN</td>\n",
              "      <td>NaN</td>\n",
              "      <td>47e2531d-8c69-470c-9198-502a46c7639e</td>\n",
              "      <td>Unknown</td>\n",
              "      <td>99</td>\n",
              "      <td>11.0</td>\n",
              "      <td>10.0</td>\n",
              "      <td>11.0</td>\n",
              "      <td>12.0</td>\n",
              "      <td>Eleven o'clock</td>\n",
              "      <td>11.0</td>\n",
              "      <td>2020</td>\n",
              "      <td>Q2</td>\n",
              "    </tr>\n",
              "    <tr>\n",
              "      <th>1</th>\n",
              "      <td>Other Vehicle</td>\n",
              "      <td>1.0</td>\n",
              "      <td>North</td>\n",
              "      <td>N</td>\n",
              "      <td>Superficial</td>\n",
              "      <td>2</td>\n",
              "      <td>Moving Constant Speed</td>\n",
              "      <td>1.0</td>\n",
              "      <td>NMTKHMBX0JR025092</td>\n",
              "      <td>MSP7221001P</td>\n",
              "      <td>NaN</td>\n",
              "      <td>NaN</td>\n",
              "      <td>2018.0</td>\n",
              "      <td>TOYOTA</td>\n",
              "      <td>CAMRY</td>\n",
              "      <td>No</td>\n",
              "      <td>N</td>\n",
              "      <td>NaN</td>\n",
              "      <td>No</td>\n",
              "      <td>N</td>\n",
              "      <td>NaN</td>\n",
              "      <td>NaN</td>\n",
              "      <td>NaN</td>\n",
              "      <td>North</td>\n",
              "      <td>N</td>\n",
              "      <td>Passenger Car</td>\n",
              "      <td>2.00</td>\n",
              "      <td>No</td>\n",
              "      <td>N</td>\n",
              "      <td>No</td>\n",
              "      <td>N</td>\n",
              "      <td>No</td>\n",
              "      <td>N</td>\n",
              "      <td>55</td>\n",
              "      <td>No</td>\n",
              "      <td>N</td>\n",
              "      <td>NaN</td>\n",
              "      <td>NaN</td>\n",
              "      <td>0dbd4a00-c7f2-4c34-b543-c2633fe0118f</td>\n",
              "      <td>Not Applicable</td>\n",
              "      <td>0</td>\n",
              "      <td>12.0</td>\n",
              "      <td>6.0</td>\n",
              "      <td>12.0</td>\n",
              "      <td>NaN</td>\n",
              "      <td>Twelve o'clock</td>\n",
              "      <td>12.0</td>\n",
              "      <td>2020</td>\n",
              "      <td>Q2</td>\n",
              "    </tr>\n",
              "    <tr>\n",
              "      <th>2</th>\n",
              "      <td>Other Vehicle</td>\n",
              "      <td>1.0</td>\n",
              "      <td>South</td>\n",
              "      <td>S</td>\n",
              "      <td>Functional</td>\n",
              "      <td>3</td>\n",
              "      <td>Stopped in Traffic Lane</td>\n",
              "      <td>6.0</td>\n",
              "      <td>2GNAXPEX5K6103012</td>\n",
              "      <td>DA37010040</td>\n",
              "      <td>NaN</td>\n",
              "      <td>NaN</td>\n",
              "      <td>2019.0</td>\n",
              "      <td>CHEVROLET</td>\n",
              "      <td>EQUINOX</td>\n",
              "      <td>No</td>\n",
              "      <td>N</td>\n",
              "      <td>NaN</td>\n",
              "      <td>No</td>\n",
              "      <td>N</td>\n",
              "      <td>NaN</td>\n",
              "      <td>NaN</td>\n",
              "      <td>NaN</td>\n",
              "      <td>South</td>\n",
              "      <td>S</td>\n",
              "      <td>(Sport) Utility Vehicle</td>\n",
              "      <td>23.08</td>\n",
              "      <td>No</td>\n",
              "      <td>N</td>\n",
              "      <td>No</td>\n",
              "      <td>N</td>\n",
              "      <td>No</td>\n",
              "      <td>N</td>\n",
              "      <td>30</td>\n",
              "      <td>No</td>\n",
              "      <td>N</td>\n",
              "      <td>NaN</td>\n",
              "      <td>NaN</td>\n",
              "      <td>f2c0d05c-ff70-4549-9d48-57c182eae6f2</td>\n",
              "      <td>Not Applicable</td>\n",
              "      <td>0</td>\n",
              "      <td>6.0</td>\n",
              "      <td>6.0</td>\n",
              "      <td>NaN</td>\n",
              "      <td>NaN</td>\n",
              "      <td>Six o'clock</td>\n",
              "      <td>6.0</td>\n",
              "      <td>2020</td>\n",
              "      <td>Q2</td>\n",
              "    </tr>\n",
              "    <tr>\n",
              "      <th>3</th>\n",
              "      <td>Fixed Object</td>\n",
              "      <td>9.0</td>\n",
              "      <td>Unknown</td>\n",
              "      <td>U</td>\n",
              "      <td>Unknown</td>\n",
              "      <td>99</td>\n",
              "      <td>Not Applicable</td>\n",
              "      <td>0.0</td>\n",
              "      <td>NaN</td>\n",
              "      <td>MDTA1791002C</td>\n",
              "      <td>NaN</td>\n",
              "      <td>NaN</td>\n",
              "      <td>NaN</td>\n",
              "      <td>UNKNOWN</td>\n",
              "      <td>UNKNOWN</td>\n",
              "      <td>No</td>\n",
              "      <td>N</td>\n",
              "      <td>NaN</td>\n",
              "      <td>No</td>\n",
              "      <td>N</td>\n",
              "      <td>NaN</td>\n",
              "      <td>NaN</td>\n",
              "      <td>NaN</td>\n",
              "      <td>Unknown</td>\n",
              "      <td>U</td>\n",
              "      <td>NaN</td>\n",
              "      <td>NaN</td>\n",
              "      <td>No</td>\n",
              "      <td>N</td>\n",
              "      <td>No</td>\n",
              "      <td>N</td>\n",
              "      <td>No</td>\n",
              "      <td>N</td>\n",
              "      <td>35</td>\n",
              "      <td>Yes</td>\n",
              "      <td>Y</td>\n",
              "      <td>NaN</td>\n",
              "      <td>NaN</td>\n",
              "      <td>5a55c4ee-17e9-4eed-bfe9-f5aca18f5b9e</td>\n",
              "      <td>Not Applicable</td>\n",
              "      <td>0</td>\n",
              "      <td>99.0</td>\n",
              "      <td>99.0</td>\n",
              "      <td>NaN</td>\n",
              "      <td>NaN</td>\n",
              "      <td>Unknown</td>\n",
              "      <td>99.0</td>\n",
              "      <td>2020</td>\n",
              "      <td>Q2</td>\n",
              "    </tr>\n",
              "    <tr>\n",
              "      <th>4</th>\n",
              "      <td>Other Vehicle</td>\n",
              "      <td>1.0</td>\n",
              "      <td>East</td>\n",
              "      <td>E</td>\n",
              "      <td>Disabling</td>\n",
              "      <td>4</td>\n",
              "      <td>Slowing or Stopping</td>\n",
              "      <td>3.0</td>\n",
              "      <td>5FNRL18672B048550</td>\n",
              "      <td>AE456100BL</td>\n",
              "      <td>NaN</td>\n",
              "      <td>NaN</td>\n",
              "      <td>2002.0</td>\n",
              "      <td>HONDA</td>\n",
              "      <td>VAN</td>\n",
              "      <td>No</td>\n",
              "      <td>N</td>\n",
              "      <td>NaN</td>\n",
              "      <td>Yes</td>\n",
              "      <td>Y</td>\n",
              "      <td>NaN</td>\n",
              "      <td>NaN</td>\n",
              "      <td>NaN</td>\n",
              "      <td>East</td>\n",
              "      <td>E</td>\n",
              "      <td>Passenger Car</td>\n",
              "      <td>2.00</td>\n",
              "      <td>No</td>\n",
              "      <td>N</td>\n",
              "      <td>No</td>\n",
              "      <td>N</td>\n",
              "      <td>No</td>\n",
              "      <td>N</td>\n",
              "      <td>35</td>\n",
              "      <td>No</td>\n",
              "      <td>N</td>\n",
              "      <td>NaN</td>\n",
              "      <td>NaN</td>\n",
              "      <td>23d968b0-be0e-4810-b6f0-34ef33fd7112</td>\n",
              "      <td>Not Applicable</td>\n",
              "      <td>0</td>\n",
              "      <td>6.0</td>\n",
              "      <td>6.0</td>\n",
              "      <td>12.0</td>\n",
              "      <td>NaN</td>\n",
              "      <td>Six o'clock</td>\n",
              "      <td>6.0</td>\n",
              "      <td>2020</td>\n",
              "      <td>Q2</td>\n",
              "    </tr>\n",
              "  </tbody>\n",
              "</table>\n",
              "</div>\n",
              "      <button class=\"colab-df-convert\" onclick=\"convertToInteractive('df-061fa576-bbdd-4a02-a545-9561920ddcb1')\"\n",
              "              title=\"Convert this dataframe to an interactive table.\"\n",
              "              style=\"display:none;\">\n",
              "        \n",
              "  <svg xmlns=\"http://www.w3.org/2000/svg\" height=\"24px\"viewBox=\"0 0 24 24\"\n",
              "       width=\"24px\">\n",
              "    <path d=\"M0 0h24v24H0V0z\" fill=\"none\"/>\n",
              "    <path d=\"M18.56 5.44l.94 2.06.94-2.06 2.06-.94-2.06-.94-.94-2.06-.94 2.06-2.06.94zm-11 1L8.5 8.5l.94-2.06 2.06-.94-2.06-.94L8.5 2.5l-.94 2.06-2.06.94zm10 10l.94 2.06.94-2.06 2.06-.94-2.06-.94-.94-2.06-.94 2.06-2.06.94z\"/><path d=\"M17.41 7.96l-1.37-1.37c-.4-.4-.92-.59-1.43-.59-.52 0-1.04.2-1.43.59L10.3 9.45l-7.72 7.72c-.78.78-.78 2.05 0 2.83L4 21.41c.39.39.9.59 1.41.59.51 0 1.02-.2 1.41-.59l7.78-7.78 2.81-2.81c.8-.78.8-2.07 0-2.86zM5.41 20L4 18.59l7.72-7.72 1.47 1.35L5.41 20z\"/>\n",
              "  </svg>\n",
              "      </button>\n",
              "      \n",
              "  <style>\n",
              "    .colab-df-container {\n",
              "      display:flex;\n",
              "      flex-wrap:wrap;\n",
              "      gap: 12px;\n",
              "    }\n",
              "\n",
              "    .colab-df-convert {\n",
              "      background-color: #E8F0FE;\n",
              "      border: none;\n",
              "      border-radius: 50%;\n",
              "      cursor: pointer;\n",
              "      display: none;\n",
              "      fill: #1967D2;\n",
              "      height: 32px;\n",
              "      padding: 0 0 0 0;\n",
              "      width: 32px;\n",
              "    }\n",
              "\n",
              "    .colab-df-convert:hover {\n",
              "      background-color: #E2EBFA;\n",
              "      box-shadow: 0px 1px 2px rgba(60, 64, 67, 0.3), 0px 1px 3px 1px rgba(60, 64, 67, 0.15);\n",
              "      fill: #174EA6;\n",
              "    }\n",
              "\n",
              "    [theme=dark] .colab-df-convert {\n",
              "      background-color: #3B4455;\n",
              "      fill: #D2E3FC;\n",
              "    }\n",
              "\n",
              "    [theme=dark] .colab-df-convert:hover {\n",
              "      background-color: #434B5C;\n",
              "      box-shadow: 0px 1px 3px 1px rgba(0, 0, 0, 0.15);\n",
              "      filter: drop-shadow(0px 1px 2px rgba(0, 0, 0, 0.3));\n",
              "      fill: #FFFFFF;\n",
              "    }\n",
              "  </style>\n",
              "\n",
              "      <script>\n",
              "        const buttonEl =\n",
              "          document.querySelector('#df-061fa576-bbdd-4a02-a545-9561920ddcb1 button.colab-df-convert');\n",
              "        buttonEl.style.display =\n",
              "          google.colab.kernel.accessAllowed ? 'block' : 'none';\n",
              "\n",
              "        async function convertToInteractive(key) {\n",
              "          const element = document.querySelector('#df-061fa576-bbdd-4a02-a545-9561920ddcb1');\n",
              "          const dataTable =\n",
              "            await google.colab.kernel.invokeFunction('convertToInteractive',\n",
              "                                                     [key], {});\n",
              "          if (!dataTable) return;\n",
              "\n",
              "          const docLinkHtml = 'Like what you see? Visit the ' +\n",
              "            '<a target=\"_blank\" href=https://colab.research.google.com/notebooks/data_table.ipynb>data table notebook</a>'\n",
              "            + ' to learn more about interactive tables.';\n",
              "          element.innerHTML = '';\n",
              "          dataTable['output_type'] = 'display_data';\n",
              "          await google.colab.output.renderOutput(dataTable, element);\n",
              "          const docLink = document.createElement('div');\n",
              "          docLink.innerHTML = docLinkHtml;\n",
              "          element.appendChild(docLink);\n",
              "        }\n",
              "      </script>\n",
              "    </div>\n",
              "  </div>\n",
              "  "
            ],
            "text/plain": [
              "  harm_event_desc  harm_event_code  ...  year quarter\n",
              "0   Other Vehicle              1.0  ...  2020      Q2\n",
              "1   Other Vehicle              1.0  ...  2020      Q2\n",
              "2   Other Vehicle              1.0  ...  2020      Q2\n",
              "3    Fixed Object              9.0  ...  2020      Q2\n",
              "4   Other Vehicle              1.0  ...  2020      Q2\n",
              "\n",
              "[5 rows x 49 columns]"
            ]
          },
          "metadata": {},
          "execution_count": 3
        }
      ]
    },
    {
      "cell_type": "code",
      "source": [
        "pd.set_option('display.max_rows', 9999)\n"
      ],
      "metadata": {
        "id": "EC8qn1y9V5gk"
      },
      "execution_count": 4,
      "outputs": []
    },
    {
      "cell_type": "code",
      "source": [
        "df['veh_make'][:50]"
      ],
      "metadata": {
        "colab": {
          "base_uri": "https://localhost:8080/"
        },
        "id": "I4h2z2fF8zfq",
        "outputId": "229a671b-5d4f-4554-c68d-a21301c238e9"
      },
      "execution_count": 5,
      "outputs": [
        {
          "output_type": "execute_result",
          "data": {
            "text/plain": [
              "0        UNKNOWN\n",
              "1         TOYOTA\n",
              "2      CHEVROLET\n",
              "3        UNKNOWN\n",
              "4          HONDA\n",
              "5           FORD\n",
              "6           HOND\n",
              "7          VOLVO\n",
              "8          HONDA\n",
              "9           MAZD\n",
              "10      NEWFLYER\n",
              "11          TOYT\n",
              "12         MAZDA\n",
              "13    MITSUBISHI\n",
              "14         HONDA\n",
              "15        TOYOTA\n",
              "16        NISSAN\n",
              "17          FORD\n",
              "18           KIA\n",
              "19         CHEVY\n",
              "20          SUZI\n",
              "21          FORD\n",
              "22          FORD\n",
              "23       UNKNOWN\n",
              "24          PIRC\n",
              "25    VOLKSWAGON\n",
              "26         HONDA\n",
              "27        TOYOTA\n",
              "28        NISSAN\n",
              "29        TOYOTA\n",
              "30        YAMAHA\n",
              "31       HYUNDAI\n",
              "32     CHEVROLET\n",
              "33         CHEVY\n",
              "34        TOYOTA\n",
              "35          MERZ\n",
              "36        NISSAN\n",
              "37       HYUNDAI\n",
              "38        NISSAN\n",
              "39          CADI\n",
              "40     CHEVROLET\n",
              "41         HONDA\n",
              "42          PTRB\n",
              "43          HOND\n",
              "44          ACUR\n",
              "45        SUBARU\n",
              "46         DODGE\n",
              "47          JEEP\n",
              "48         BUICK\n",
              "49          CADI\n",
              "Name: veh_make, dtype: object"
            ]
          },
          "metadata": {},
          "execution_count": 5
        }
      ]
    },
    {
      "cell_type": "code",
      "source": [
        "#df.columns"
      ],
      "metadata": {
        "id": "46J96PiUV9nc"
      },
      "execution_count": null,
      "outputs": []
    },
    {
      "cell_type": "markdown",
      "source": [
        "# Exploring Datasets <a id=\"0\"></a>\n"
      ],
      "metadata": {
        "id": "HpWXLL727Jbj"
      }
    },
    {
      "cell_type": "code",
      "source": [
        "makes = {\"ACURA\",\n",
        " \"ALLIS CHALMERS\",\n",
        " \"ALPHA ROMEO\",\n",
        " \"AMC\",\n",
        " \"AUDI\",\n",
        " \"BMW\",\n",
        " \"BRIGGS & STRATTON\",\n",
        " \"BUICK\",\n",
        " \"CADILLAC\",\n",
        " \"CATERPILLAR\",\n",
        " \"CHEVROLET\",\n",
        " \"CHRYSLER\",\n",
        " \"CONTINENTAL\",\n",
        " \"CUMMINS\",\n",
        " \"DETROIT DIESEL\",\n",
        " \"DEUTZ\",\n",
        " \"DODGE\",\n",
        " \"FIAT\",\n",
        " \"FORD\",\n",
        " \"GEO\",\n",
        " \"GMC\",\n",
        " \"HENSHEL\",\n",
        " \"HERCULES\",\n",
        " \"HINO\",\n",
        " \"HONDA\",\n",
        " \"HUNMER\",\n",
        " \"HYUNDAI\",\n",
        " \"INFINITY\",\n",
        " \"INTERNATIONAL\",\n",
        " \"ISUZU\",\n",
        " \"IVECO-FIAT\",\n",
        " \"JAGUAR\",\n",
        " \"JEEP\",\n",
        " \"JOHN DEERE\",\n",
        " \"KIA\",\n",
        " \"KOHLER\",\n",
        " \"KOMATSU\",\n",
        " \"KUBOTA\",\n",
        " \"LAND ROVER\",\n",
        " \"LEXUS\",\n",
        " \"LINCOLN\",\n",
        " \"LISTER PETTER\",\n",
        " \"MACK\",\n",
        " \"MAZDA\",\n",
        " \"MERCEDES\",\n",
        " \"MERCURY\",\n",
        " \"MINI COOPER\",\n",
        " \"MITSUBISHI\",\n",
        " \"NISSAN\",\n",
        " \"OLDSMOBILE\",\n",
        " \"ONAN\",\n",
        " \"PERKINS\",\n",
        " \"PEUGEOT\",\n",
        " \"PLYMOUTH\",\n",
        " \"PONTIAC\",\n",
        " \"PORSCHE\",\n",
        " \"RENAULT\",\n",
        " \"SAAB\",\n",
        " \"SATURN\",\n",
        " \"SCANIA\",\n",
        " \"SCION\",\n",
        " \"SUBARU\",\n",
        " \"SUZUKI\",\n",
        " \"TESLA\",\n",
        " \"TOYOTA\",\n",
        " \"VOLKSWAGEN\",\n",
        " \"VOLVO\",\n",
        " \"WISCONSIN\",\n",
        " \"YANMER-MARINE\"}"
      ],
      "metadata": {
        "id": "M_W2pB3PV9hm"
      },
      "execution_count": 6,
      "outputs": []
    },
    {
      "cell_type": "code",
      "source": [
        "# https://stackoverflow.com/questions/17388213/find-the-similarity-metric-between-two-strings\n",
        "from difflib import SequenceMatcher\n",
        "\n",
        "def similar(a, b):\n",
        "    return SequenceMatcher(None, a.upper(), b.upper()).ratio()\n",
        "\n",
        "# similar('volk1', 'VOLKSWAGEN')"
      ],
      "metadata": {
        "id": "FgLnKWCTWL2G"
      },
      "execution_count": 7,
      "outputs": []
    },
    {
      "cell_type": "code",
      "source": [
        "# https://stackoverflow.com/questions/7331462/check-if-a-string-is-a-possible-abbrevation-for-a-name\n",
        "import re    \n",
        "def is_abbrev(abbrev, text):\n",
        "    try:\n",
        "      pattern = \".*\".join(abbrev.upper())\n",
        "      return re.match(\"^\" + pattern, text.upper()) is not None\n",
        "    except:\n",
        "      print(abbrev, text)\n",
        "      raise Exception('error')\n",
        "\n",
        "# is_abbrev('inf', 'INFINITI')"
      ],
      "metadata": {
        "id": "rR9F3Ji4WQAM"
      },
      "execution_count": 8,
      "outputs": []
    },
    {
      "cell_type": "code",
      "source": [
        "import re\n",
        "def clean_string(word):\n",
        "  return re.sub('[^A-Za-z0-9]+', '', word).upper()\n",
        "\n",
        "#clean_string('JEE[')"
      ],
      "metadata": {
        "id": "K3FCZEw8WUTm"
      },
      "execution_count": 9,
      "outputs": []
    },
    {
      "cell_type": "code",
      "source": [
        "def get_correct_make(value):\n",
        "  if type(value) != str:\n",
        "    return None\n",
        "\n",
        "  value = clean_string(value)\n",
        "  if value in makes:\n",
        "    return value\n",
        "\n",
        "  for make in makes:\n",
        "    if is_abbrev(value, make) == True:\n",
        "      return make\n",
        "\n",
        "  for make in makes:\n",
        "    if similar(value, make) >= 0.6 :\n",
        "      return make\n",
        "\n",
        "  return None\n",
        "\n",
        "# get_correct_make('tyt')"
      ],
      "metadata": {
        "id": "E10aFl0rWYbq"
      },
      "execution_count": 10,
      "outputs": []
    },
    {
      "cell_type": "code",
      "source": [
        "corrections = {\n",
        "    'CHEVY': 'CHEVROLET'\n",
        "}\n",
        "\n",
        "for make in set(df['veh_make']):\n",
        "  correct_brand = get_correct_make(make)\n",
        "  corrections[make] = correct_brand"
      ],
      "metadata": {
        "id": "2FRbl_heWcCw"
      },
      "execution_count": 11,
      "outputs": []
    },
    {
      "cell_type": "code",
      "source": [
        " #corrections"
      ],
      "metadata": {
        "id": "IASBSvi_WfA6"
      },
      "execution_count": null,
      "outputs": []
    },
    {
      "cell_type": "code",
      "source": [
        "def get_correct_value(value):\n",
        "  if value not in corrections:\n",
        "    return None\n",
        "  # print(value, type(value))\n",
        "  return corrections[value]"
      ],
      "metadata": {
        "id": "S6iHi0krWiUR"
      },
      "execution_count": 12,
      "outputs": []
    },
    {
      "cell_type": "code",
      "source": [
        "df['VEH_MAKE_CLEAN'] = [ get_correct_value(x) for x in df['veh_make']]"
      ],
      "metadata": {
        "id": "7-JznIlbWk7o"
      },
      "execution_count": 13,
      "outputs": []
    },
    {
      "cell_type": "code",
      "source": [
        "\n",
        "df['VEH_MAKE_CLEAN'].value_counts()[:30].plot(kind='bar')\n",
        "plt.title('Top 30 Car Makes')\n",
        "plt.show()"
      ],
      "metadata": {
        "colab": {
          "base_uri": "https://localhost:8080/",
          "height": 351
        },
        "id": "B2fSOtO2Wnlv",
        "outputId": "62d1389c-acf4-445e-b22b-c9024e84ae38"
      },
      "execution_count": 14,
      "outputs": [
        {
          "output_type": "display_data",
          "data": {
            "image/png": "[encoded data removed]",
            "text/plain": [
              "<Figure size 432x288 with 1 Axes>"
            ]
          },
          "metadata": {
            "needs_background": "light"
          }
        }
      ]
    },
    {
      "cell_type": "code",
      "source": [
        "df[df['VEH_MAKE_CLEAN']=='Unknown'][[ 'veh_make']].value_counts()"
      ],
      "metadata": {
        "colab": {
          "base_uri": "https://localhost:8080/"
        },
        "id": "P5XsSEbcWrCK",
        "outputId": "b01b2696-9830-4e93-8bf3-ce73923c24f5"
      },
      "execution_count": 15,
      "outputs": [
        {
          "output_type": "execute_result",
          "data": {
            "text/plain": [
              "Series([], dtype: int64)"
            ]
          },
          "metadata": {},
          "execution_count": 15
        }
      ]
    },
    {
      "cell_type": "code",
      "source": [
        "df['VEH_MAKE_CLEAN'].value_counts()"
      ],
      "metadata": {
        "colab": {
          "base_uri": "https://localhost:8080/"
        },
        "id": "7gbn5K53Wvro",
        "outputId": "cb51bce9-41ec-494a-e46b-ec58a6e2c7e6"
      },
      "execution_count": 16,
      "outputs": [
        {
          "output_type": "execute_result",
          "data": {
            "text/plain": [
              "TOYOTA               99155\n",
              "FORD                 98766\n",
              "HONDA                86176\n",
              "NISSAN               59387\n",
              "CHEVROLET            47028\n",
              "DODGE                35122\n",
              "HYUNDAI              34594\n",
              "JEEP                 20211\n",
              "ACURA                15696\n",
              "CHRYSLER             14308\n",
              "KIA                  14286\n",
              "VOLKSWAGEN           14283\n",
              "LEXUS                13001\n",
              "MAZDA                12889\n",
              "GMC                  12218\n",
              "BMW                  11229\n",
              "SUBARU               10575\n",
              "MERCEDES              8609\n",
              "BUICK                 7601\n",
              "INFINITY              7224\n",
              "CADILLAC              6085\n",
              "VOLVO                 5666\n",
              "MITSUBISHI            5440\n",
              "HUNMER                5284\n",
              "INTERNATIONAL         5188\n",
              "PONTIAC               5069\n",
              "LINCOLN               4773\n",
              "SATURN                4400\n",
              "AUDI                  4260\n",
              "MERCURY               3247\n",
              "SCION                 1933\n",
              "MACK                  1913\n",
              "SUZUKI                1902\n",
              "AMC                   1698\n",
              "ISUZU                 1404\n",
              "KOMATSU               1284\n",
              "LAND ROVER            1266\n",
              "MINI COOPER           1198\n",
              "OLDSMOBILE            1196\n",
              "JAGUAR                1066\n",
              "IVECO-FIAT            1028\n",
              "WISCONSIN              748\n",
              "PORSCHE                624\n",
              "SAAB                   578\n",
              "HINO                   566\n",
              "PLYMOUTH               464\n",
              "FIAT                   460\n",
              "TESLA                  383\n",
              "GEO                    206\n",
              "CATERPILLAR            171\n",
              "JOHN DEERE             119\n",
              "ONAN                   111\n",
              "YANMER-MARINE          105\n",
              "KOHLER                  62\n",
              "SCANIA                  54\n",
              "KUBOTA                  46\n",
              "CONTINENTAL             42\n",
              "DETROIT DIESEL          31\n",
              "ALPHA ROMEO             24\n",
              "ALLIS CHALMERS          24\n",
              "PEUGEOT                 20\n",
              "BRIGGS & STRATTON       18\n",
              "PERKINS                 16\n",
              "CUMMINS                 15\n",
              "HENSHEL                 13\n",
              "DEUTZ                    5\n",
              "LISTER PETTER            3\n",
              "RENAULT                  3\n",
              "HERCULES                 3\n",
              "Name: VEH_MAKE_CLEAN, dtype: int64"
            ]
          },
          "metadata": {},
          "execution_count": 16
        }
      ]
    },
    {
      "cell_type": "code",
      "source": [
        "df[['VEH_MAKE_CLEAN','veh_model']].value_counts()[:10].plot(kind='bar')\n"
      ],
      "metadata": {
        "colab": {
          "base_uri": "https://localhost:8080/",
          "height": 387
        },
        "id": "is5p0MXwWztT",
        "outputId": "f651bf18-2a89-43b7-e1e9-a0d4f64f33dc"
      },
      "execution_count": 17,
      "outputs": [
        {
          "output_type": "execute_result",
          "data": {
            "text/plain": [
              "<matplotlib.axes._subplots.AxesSubplot at 0x7f7ee6605150>"
            ]
          },
          "metadata": {},
          "execution_count": 17
        },
        {
          "output_type": "display_data",
          "data": {
            "image/png": "[encoded data removed]",
            "text/plain": [
              "<Figure size 432x288 with 1 Axes>"
            ]
          },
          "metadata": {
            "needs_background": "light"
          }
        }
      ]
    },
    {
      "cell_type": "code",
      "source": [
        "ax = (df['VEH_MAKE_CLEAN'] + ' ' + df['veh_model']).value_counts()[:10].plot(kind='barh' )\n",
        "ax.invert_yaxis()\n",
        "plt.title('Top 10 Car Models')\n",
        "plt.show()\n"
      ],
      "metadata": {
        "colab": {
          "base_uri": "https://localhost:8080/",
          "height": 281
        },
        "id": "0O0ze6dQW7H6",
        "outputId": "67e54003-d0cf-4711-cf6b-55d26319a9fe"
      },
      "execution_count": 18,
      "outputs": [
        {
          "output_type": "display_data",
          "data": {
            "image/png": "[encoded data removed]",
            "text/plain": [
              "<Figure size 432x288 with 1 Axes>"
            ]
          },
          "metadata": {
            "needs_background": "light"
          }
        }
      ]
    },
    {
      "cell_type": "code",
      "source": [
        "#pd.options.display.max_rows\n"
      ],
      "metadata": {
        "id": "NwV3dV6RW8Al"
      },
      "execution_count": 19,
      "outputs": []
    },
    {
      "cell_type": "code",
      "source": [
        "df[['veh_year']].value_counts()\n"
      ],
      "metadata": {
        "colab": {
          "base_uri": "https://localhost:8080/"
        },
        "id": "rBPA5_T6W_eI",
        "outputId": "84ce0dc4-fe92-42b4-e79b-0fb53e562fd3"
      },
      "execution_count": 20,
      "outputs": [
        {
          "output_type": "execute_result",
          "data": {
            "text/plain": [
              "veh_year\n",
              "2015.0      53415\n",
              "2014.0      49491\n",
              "2013.0      48377\n",
              "2016.0      43761\n",
              "2012.0      43586\n",
              "2007.0      40477\n",
              "2006.0      38899\n",
              "2008.0      38875\n",
              "2011.0      38183\n",
              "2005.0      36172\n",
              "2010.0      34793\n",
              "2004.0      34038\n",
              "2017.0      31929\n",
              "2003.0      30419\n",
              "2009.0      29339\n",
              "2002.0      25092\n",
              "2018.0      20729\n",
              "2001.0      20595\n",
              "2000.0      19815\n",
              "1999.0      13526\n",
              "2019.0      12419\n",
              "1998.0      10229\n",
              "0.0          9588\n",
              "1997.0       8006\n",
              "1996.0       5367\n",
              "1995.0       4458\n",
              "2020.0       3779\n",
              "1994.0       3311\n",
              "1993.0       1996\n",
              "1992.0       1480\n",
              "1991.0       1207\n",
              "1990.0        985\n",
              "1900.0        873\n",
              "1989.0        795\n",
              "1988.0        622\n",
              "9999.0        476\n",
              "1987.0        464\n",
              "99.0          395\n",
              "1986.0        316\n",
              "1985.0        274\n",
              "1984.0        187\n",
              "1901.0        118\n",
              "1983.0        105\n",
              "2021.0        102\n",
              "7.0            91\n",
              "8.0            84\n",
              "1982.0         79\n",
              "1.0            78\n",
              "1980.0         70\n",
              "6.0            65\n",
              "1979.0         64\n",
              "5.0            63\n",
              "1981.0         63\n",
              "3.0            63\n",
              "4.0            62\n",
              "15.0           57\n",
              "1978.0         56\n",
              "13.0           56\n",
              "9.0            55\n",
              "2.0            52\n",
              "1111.0         47\n",
              "12.0           43\n",
              "1977.0         42\n",
              "98.0           42\n",
              "1972.0         41\n",
              "1974.0         40\n",
              "11.0           38\n",
              "14.0           37\n",
              "10.0           34\n",
              "1975.0         33\n",
              "1973.0         32\n",
              "1969.0         32\n",
              "1967.0         32\n",
              "1976.0         31\n",
              "97.0           30\n",
              "1970.0         30\n",
              "200.0          29\n",
              "1968.0         27\n",
              "2105.0         23\n",
              "96.0           22\n",
              "2103.0         22\n",
              "1971.0         22\n",
              "1965.0         21\n",
              "95.0           16\n",
              "1966.0         16\n",
              "2104.0         16\n",
              "1000.0         13\n",
              "101.0          13\n",
              "2106.0         12\n",
              "2912.0         11\n",
              "2022.0         11\n",
              "2107.0         11\n",
              "94.0           11\n",
              "1964.0         10\n",
              "2913.0         10\n",
              "2102.0         10\n",
              "201.0          10\n",
              "1919.0          9\n",
              "88.0            8\n",
              "2915.0          8\n",
              "2088.0          8\n",
              "3013.0          8\n",
              "3003.0          7\n",
              "199.0           7\n",
              "1955.0          7\n",
              "2916.0          7\n",
              "93.0            7\n",
              "999.0           7\n",
              "8888.0          7\n",
              "2099.0          7\n",
              "1963.0          6\n",
              "1010.0          6\n",
              "1234.0          6\n",
              "2914.0          6\n",
              "2998.0          6\n",
              "2996.0          5\n",
              "2100.0          5\n",
              "2208.0          5\n",
              "1015.0          5\n",
              "2994.0          5\n",
              "1197.0          5\n",
              "1954.0          5\n",
              "2201.0          5\n",
              "2066.0          5\n",
              "1934.0          5\n",
              "1885.0          5\n",
              "90.0            4\n",
              "1007.0          4\n",
              "204.0           4\n",
              "207.0           4\n",
              "212.0           4\n",
              "1008.0          4\n",
              "1950.0          4\n",
              "1949.0          4\n",
              "1932.0          4\n",
              "1196.0          4\n",
              "1017.0          4\n",
              "1961.0          4\n",
              "2997.0          4\n",
              "2206.0          4\n",
              "2109.0          4\n",
              "2919.0          4\n",
              "2209.0          4\n",
              "2055.0          4\n",
              "2207.0          3\n",
              "2026.0          3\n",
              "91.0            3\n",
              "2033.0          3\n",
              "1962.0          3\n",
              "1958.0          3\n",
              "1956.0          3\n",
              "1952.0          3\n",
              "1951.0          3\n",
              "1947.0          3\n",
              "1960.0          3\n",
              "1940.0          3\n",
              "2999.0          3\n",
              "2205.0          3\n",
              "2204.0          3\n",
              "1888.0          3\n",
              "210.0           3\n",
              "1800.0          3\n",
              "1198.0          3\n",
              "1016.0          3\n",
              "1006.0          3\n",
              "1014.0          3\n",
              "2025.0          3\n",
              "2113.0          3\n",
              "2991.0          3\n",
              "2917.0          3\n",
              "20.0            3\n",
              "2992.0          3\n",
              "2918.0          3\n",
              "2202.0          2\n",
              "2051.0          2\n",
              "1933.0          2\n",
              "2911.0          2\n",
              "1927.0          2\n",
              "1920.0          2\n",
              "2203.0          2\n",
              "1939.0          2\n",
              "1097.0          2\n",
              "203.0           2\n",
              "1905.0          2\n",
              "2101.0          2\n",
              "205.0           2\n",
              "1899.0          2\n",
              "206.0           2\n",
              "2077.0          2\n",
              "1200.0          2\n",
              "214.0           2\n",
              "2024.0          2\n",
              "4004.0          2\n",
              "1945.0          2\n",
              "1018.0          2\n",
              "1012.0          2\n",
              "87.0            2\n",
              "3005.0          2\n",
              "92.0            2\n",
              "2995.0          2\n",
              "2993.0          2\n",
              "2040.0          2\n",
              "2301.0          2\n",
              "2222.0          2\n",
              "1959.0          2\n",
              "1948.0          2\n",
              "2048.0          2\n",
              "215.0           2\n",
              "2046.0          2\n",
              "1003.0          1\n",
              "2989.0          1\n",
              "987.0           1\n",
              "313.0           1\n",
              "320.0           1\n",
              "225.0           1\n",
              "2117.0          1\n",
              "406.0           1\n",
              "517.0           1\n",
              "920.0           1\n",
              "900.0           1\n",
              "998.0           1\n",
              "2134.0          1\n",
              "2119.0          1\n",
              "909.0           1\n",
              "518.0           1\n",
              "89.0            1\n",
              "2188.0          1\n",
              "2601.0          1\n",
              "2500.0          1\n",
              "2441.0          1\n",
              "79.0            1\n",
              "2401.0          1\n",
              "78.0            1\n",
              "28.0            1\n",
              "22.0            1\n",
              "2212.0          1\n",
              "17.0            1\n",
              "16.0            1\n",
              "2901.0          1\n",
              "2986.0          1\n",
              "2910.0          1\n",
              "2116.0          1\n",
              "119.0           1\n",
              "196.0           1\n",
              "198.0           1\n",
              "2200.0          1\n",
              "2949.0          1\n",
              "2199.0          1\n",
              "208.0           1\n",
              "2984.0          1\n",
              "202.0           1\n",
              "4378.0          1\n",
              "1009.0          1\n",
              "3000.0          1\n",
              "3008.0          1\n",
              "9534.0          1\n",
              "3007.0          1\n",
              "3006.0          1\n",
              "3004.0          1\n",
              "3002.0          1\n",
              "2028.0          1\n",
              "3016.0          1\n",
              "2029.0          1\n",
              "2031.0          1\n",
              "2036.0          1\n",
              "2041.0          1\n",
              "1957.0          1\n",
              "2047.0          1\n",
              "3009.0          1\n",
              "3020.0          1\n",
              "1941.0          1\n",
              "7859.0          1\n",
              "4995.0          1\n",
              "5005.0          1\n",
              "6205.0          1\n",
              "6710.0          1\n",
              "7777.0          1\n",
              "7817.0          1\n",
              "4313.0          1\n",
              "3022.0          1\n",
              "9009.0          1\n",
              "9099.0          1\n",
              "9199.0          1\n",
              "4228.0          1\n",
              "3868.0          1\n",
              "3675.0          1\n",
              "2049.0          1\n",
              "1937.0          1\n",
              "1013.0          1\n",
              "1114.0          1\n",
              "1212.0          1\n",
              "1210.0          1\n",
              "1199.0          1\n",
              "4963.0          1\n",
              "1195.0          1\n",
              "1190.0          1\n",
              "1099.0          1\n",
              "2096.0          1\n",
              "1090.0          1\n",
              "1086.0          1\n",
              "1025.0          1\n",
              "1019.0          1\n",
              "2110.0          1\n",
              "2112.0          1\n",
              "1216.0          1\n",
              "1733.0          1\n",
              "1930.0          1\n",
              "1909.0          1\n",
              "1922.0          1\n",
              "2061.0          1\n",
              "1918.0          1\n",
              "1917.0          1\n",
              "1916.0          1\n",
              "1911.0          1\n",
              "1908.0          1\n",
              "1760.0          1\n",
              "2071.0          1\n",
              "9306.0          1\n",
              "1898.0          1\n",
              "1887.0          1\n",
              "1886.0          1\n",
              "1801.0          1\n",
              "2098.0          1\n",
              "dtype: int64"
            ]
          },
          "metadata": {},
          "execution_count": 20
        }
      ]
    },
    {
      "cell_type": "code",
      "source": [
        "df_year = df['veh_year']\n",
        "df_year.dropna(inplace=True)\n",
        "df_year = df_year.astype(int)"
      ],
      "metadata": {
        "id": "75bsNx7Peqj3"
      },
      "execution_count": 21,
      "outputs": []
    },
    {
      "cell_type": "code",
      "source": [
        "plt.figure(figsize=(14, 6), dpi=80)\n",
        "\n",
        "df_year_counts = df_year[(df_year > 1970) & (df_year < 2022)].value_counts()\n",
        "df_year_counts.sort_index(inplace=True)\n",
        "# df_year_counts.plot()\n",
        "plt.bar(df_year_counts.index, df_year_counts)\n",
        "plt.xticks(list(range(1970, 2022)), rotation=45)\n",
        "plt.show()"
      ],
      "metadata": {
        "id": "0EtUQyq0c3m3",
        "colab": {
          "base_uri": "https://localhost:8080/",
          "height": 430
        },
        "outputId": "e30f57ed-da7a-4887-aa7f-7c7c4cdbdf39"
      },
      "execution_count": 22,
      "outputs": [
        {
          "output_type": "display_data",
          "data": {
            "image/png": "[encoded data removed]",
            "text/plain": [
              "<Figure size 1120x480 with 1 Axes>"
            ]
          },
          "metadata": {
            "needs_background": "light"
          }
        }
      ]
    },
    {
      "cell_type": "code",
      "source": [
        "crashes = pd.read_csv('https://opendata.maryland.gov/resource/65du-s3qu.csv?$limit=800000', low_memory=False)\n"
      ],
      "metadata": {
        "id": "0I2S0sJUKvTT"
      },
      "execution_count": 23,
      "outputs": []
    },
    {
      "cell_type": "code",
      "source": [
        "df.columns"
      ],
      "metadata": {
        "colab": {
          "base_uri": "https://localhost:8080/"
        },
        "id": "1Ez5-ckbOBsp",
        "outputId": "504eb32f-a0b3-40cf-a436-f9d8194549b7"
      },
      "execution_count": 24,
      "outputs": [
        {
          "output_type": "execute_result",
          "data": {
            "text/plain": [
              "Index(['harm_event_desc', 'harm_event_code', 'conti_direction_desc',\n",
              "       'conti_direction_code', 'damage_desc', 'damage_code', 'movement_desc',\n",
              "       'movement_code', 'vin_no', 'report_no', 'cv_body_type_desc',\n",
              "       'cv_body_type_code', 'veh_year', 'veh_make', 'veh_model',\n",
              "       'commercial_flag_desc', 'commercial_flag', 'hzm_num',\n",
              "       'towed_away_flag_desc', 'towed_away_flag', 'num_axles', 'gvw_desc',\n",
              "       'gvw_code', 'going_direction_desc', 'going_direction_code',\n",
              "       'body_type_desc', 'body_type_code', 'driverless_flag_desc',\n",
              "       'driverless_flag', 'fire_flag_desc', 'fire_flag', 'parked_flag_desc',\n",
              "       'parked_flag', 'speed_limit', 'hit_and_run_flag_desc',\n",
              "       'hit_and_run_flag', 'hazmat_spill_flag_desc', 'hazmat_spill_flag',\n",
              "       'vehicle_id', 'towed_vehicle_config_desc', 'towed_vehicle_config_code',\n",
              "       'area_damaged_code_imp1', 'area_damaged_code1', 'area_damaged_code2',\n",
              "       'area_damaged_code3', 'area_damaged_code_main_desc',\n",
              "       'area_damaged_code_main', 'year', 'quarter', 'VEH_MAKE_CLEAN'],\n",
              "      dtype='object')"
            ]
          },
          "metadata": {},
          "execution_count": 24
        }
      ]
    },
    {
      "cell_type": "code",
      "source": [
        "df_merged = crashes.merge(df, on='report_no', how='left')"
      ],
      "metadata": {
        "id": "8OZEjyBPLXUs"
      },
      "execution_count": 25,
      "outputs": []
    },
    {
      "cell_type": "code",
      "source": [
        "df_year = df_merged['veh_year']\n",
        "df_year.dropna(inplace=True)\n",
        "df_year = df_year.astype(int)\n",
        "\n",
        "plt.figure(figsize=(14, 6), dpi=80)\n",
        "\n",
        "df_year_counts = df_year[(df_year > 1970) & (df_year < 2022)].value_counts()\n",
        "df_year_counts.sort_index(inplace=True)\n",
        "# df_year_counts.plot()\n",
        "plt.bar(df_year_counts.index, df_year_counts)\n",
        "plt.xticks(list(range(1970, 2022)), rotation=45)\n",
        "plt.show()"
      ],
      "metadata": {
        "colab": {
          "base_uri": "https://localhost:8080/",
          "height": 430
        },
        "id": "mwGF2CkyOSer",
        "outputId": "3238c757-92bf-4603-8750-0feaffdcb20a"
      },
      "execution_count": 26,
      "outputs": [
        {
          "output_type": "display_data",
          "data": {
            "image/png": "[encoded data removed]",
            "text/plain": [
              "<Figure size 1120x480 with 1 Axes>"
            ]
          },
          "metadata": {
            "needs_background": "light"
          }
        }
      ]
    },
    {
      "cell_type": "code",
      "source": [
        "plt.figure(figsize=(14, 6), dpi=80)\n",
        "\n",
        "df_year_rt = df_merged[['veh_year', 'report_type']][(df_merged['veh_year'] > 1970) & (df_merged['veh_year'] < 2022)]\n",
        "df_year_rt.dropna(inplace=True)\n",
        "df_year_rt['veh_year'] = df_year_rt['veh_year'] .astype(int)\n",
        "\n",
        "df_year_rt.groupby(['report_type', 'veh_year']).size().unstack(level=0).plot(kind='bar', figsize=(14, 6), width=1.5)\n",
        "plt.show()"
      ],
      "metadata": {
        "colab": {
          "base_uri": "https://localhost:8080/",
          "height": 421
        },
        "id": "-wqHvSitLBhI",
        "outputId": "49862c00-4554-4e97-d7bd-943a72d02cf1"
      },
      "execution_count": 27,
      "outputs": [
        {
          "output_type": "display_data",
          "data": {
            "text/plain": [
              "<Figure size 1120x480 with 0 Axes>"
            ]
          },
          "metadata": {}
        },
        {
          "output_type": "display_data",
          "data": {
            "image/png": "[encoded data removed]",
            "text/plain": [
              "<Figure size 1008x432 with 1 Axes>"
            ]
          },
          "metadata": {
            "needs_background": "light"
          }
        }
      ]
    },
    {
      "cell_type": "code",
      "source": [
        ""
      ],
      "metadata": {
        "id": "v-HQCYYWLEW0"
      },
      "execution_count": null,
      "outputs": []
    }
  ]
}